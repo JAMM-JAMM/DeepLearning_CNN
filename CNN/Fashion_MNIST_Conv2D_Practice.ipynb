{
 "cells": [
  {
   "cell_type": "code",
   "execution_count": 2,
   "id": "6c2f7efe",
   "metadata": {},
   "outputs": [
    {
     "name": "stdout",
     "output_type": "stream",
     "text": [
      "Init Plugin\n",
      "Init Graph Optimizer\n",
      "Init Kernel\n"
     ]
    }
   ],
   "source": [
    "import numpy as np\n",
    "from tensorflow.keras.datasets import fashion_mnist\n",
    "from tensorflow.keras.utils import to_categorical\n",
    "from sklearn.model_selection import train_test_split"
   ]
  },
  {
   "cell_type": "markdown",
   "id": "b4e31e0a",
   "metadata": {},
   "source": [
    "### The shape of input images should be 4D including Batch"
   ]
  },
  {
   "cell_type": "code",
   "execution_count": 3,
   "id": "48b4678b",
   "metadata": {},
   "outputs": [
    {
     "name": "stdout",
     "output_type": "stream",
     "text": [
      "before reshape:  (60000, 28, 28) (10000, 28, 28)\n"
     ]
    }
   ],
   "source": [
    "(train_images, train_labels), (test_images, test_labels) = \\\n",
    "    fashion_mnist.load_data()\n",
    "\n",
    "print('before reshape: ', train_images.shape, test_images.shape)"
   ]
  },
  {
   "cell_type": "code",
   "execution_count": 4,
   "id": "91bb8311",
   "metadata": {},
   "outputs": [
    {
     "name": "stdout",
     "output_type": "stream",
     "text": [
      "after reshape:  (60000, 28, 28, 1) (10000, 28, 28, 1)\n"
     ]
    }
   ],
   "source": [
    "train_images = np.reshape(train_images, (60000, 28, 28, 1))\n",
    "test_images = np.reshape(test_images, (10000, 28, 28, 1))\n",
    "\n",
    "print('after reshape: ', train_images.shape, test_images.shape)"
   ]
  },
  {
   "cell_type": "markdown",
   "id": "cd4cffb6",
   "metadata": {},
   "source": [
    "### Fashion MNIST Data Preprocessing"
   ]
  },
  {
   "cell_type": "code",
   "execution_count": 9,
   "id": "a84841e5",
   "metadata": {},
   "outputs": [],
   "source": [
    "def get_preprocessed_data(images, labels):\n",
    "    \n",
    "    images = np.array(images/255.0, dtype=np.float32)\n",
    "    labels = np.array(labels, dtype=np.float32)\n",
    "    \n",
    "    return images, labels"
   ]
  },
  {
   "cell_type": "code",
   "execution_count": 10,
   "id": "982e2ac8",
   "metadata": {},
   "outputs": [],
   "source": [
    "def get_preprocessed_ohe(images, labels):\n",
    "    \n",
    "    images, labels = get_preprocessed_data(images, labels)\n",
    "    \n",
    "    oh_labels = to_categorical(labels)\n",
    "    \n",
    "    return images, oh_labels"
   ]
  },
  {
   "cell_type": "code",
   "execution_count": 11,
   "id": "b8620ecd",
   "metadata": {},
   "outputs": [],
   "source": [
    "def get_train_valid_test_set(train_images, train_labels, test_images, test_labels, valid_size=0.15, random_state=2021):\n",
    "    \n",
    "    train_images, train_oh_labels = get_preprocessed_ohe(train_images, train_labels)\n",
    "    test_images, test_oh_labels = get_preprocessed_ohe(test_images, test_labels)\n",
    "    \n",
    "    tr_images, val_images, tr_oh_labels, val_oh_labels = train_test_split(train_images, train_oh_labels, test_size=valid_size, random_state=random_state)\n",
    "    \n",
    "    return (tr_images, tr_oh_labels), (val_images, val_oh_labels), (test_images, test_oh_labels)"
   ]
  },
  {
   "cell_type": "code",
   "execution_count": 12,
   "id": "0a589723",
   "metadata": {},
   "outputs": [
    {
     "name": "stdout",
     "output_type": "stream",
     "text": [
      "train shape:  (51000, 28, 28, 1) (51000, 10)\n",
      "validation shape:  (9000, 28, 28, 1) (9000, 10)\n",
      "test shape:  (10000, 28, 28, 1) (10000, 10)\n"
     ]
    }
   ],
   "source": [
    "(tr_images, tr_oh_labels), (val_images, val_oh_labels), (test_images, test_oh_labels) = \\\n",
    "    get_train_valid_test_set(train_images, train_labels, test_images, test_labels, valid_size=0.15, random_state=2021)\n",
    "\n",
    "print('train shape: ', tr_images.shape, tr_oh_labels.shape)\n",
    "print('validation shape: ', val_images.shape, val_oh_labels.shape)\n",
    "print('test shape: ', test_images.shape, test_oh_labels.shape)"
   ]
  },
  {
   "cell_type": "markdown",
   "id": "131e68a0",
   "metadata": {},
   "source": [
    "### CNN Model"
   ]
  },
  {
   "cell_type": "code",
   "execution_count": 13,
   "id": "d98ee76f",
   "metadata": {},
   "outputs": [
    {
     "name": "stdout",
     "output_type": "stream",
     "text": [
      "Metal device set to: Apple M1\n",
      "Model: \"model\"\n",
      "_________________________________________________________________\n",
      "Layer (type)                 Output Shape              Param #   "
     ]
    },
    {
     "name": "stderr",
     "output_type": "stream",
     "text": [
      "2021-08-14 16:57:54.190517: I tensorflow/core/common_runtime/pluggable_device/pluggable_device_factory.cc:305] Could not identify NUMA node of platform GPU ID 0, defaulting to 0. Your kernel may not have been built with NUMA support.\n",
      "2021-08-14 16:57:54.190987: I tensorflow/core/common_runtime/pluggable_device/pluggable_device_factory.cc:271] Created TensorFlow device (/job:localhost/replica:0/task:0/device:GPU:0 with 0 MB memory) -> physical PluggableDevice (device: 0, name: METAL, pci bus id: <undefined>)\n"
     ]
    },
    {
     "name": "stdout",
     "output_type": "stream",
     "text": [
      "\n",
      "=================================================================\n",
      "input_1 (InputLayer)         [(None, 28, 28, 1)]       0         \n",
      "_________________________________________________________________\n",
      "conv2d (Conv2D)              (None, 28, 28, 32)        320       \n",
      "_________________________________________________________________\n",
      "conv2d_1 (Conv2D)            (None, 26, 26, 64)        18496     \n",
      "_________________________________________________________________\n",
      "max_pooling2d (MaxPooling2D) (None, 13, 13, 64)        0         \n",
      "_________________________________________________________________\n",
      "flatten (Flatten)            (None, 10816)             0         \n",
      "_________________________________________________________________\n",
      "dense (Dense)                (None, 100)               1081700   \n",
      "_________________________________________________________________\n",
      "dense_1 (Dense)              (None, 10)                1010      \n",
      "=================================================================\n",
      "Total params: 1,101,526\n",
      "Trainable params: 1,101,526\n",
      "Non-trainable params: 0\n",
      "_________________________________________________________________\n"
     ]
    }
   ],
   "source": [
    "from tensorflow.keras.layers import Input, Conv2D, Flatten, Dense, MaxPooling2D\n",
    "from tensorflow.keras.models import Model\n",
    "\n",
    "# Convolution layer for feature map\n",
    "input_tensor = Input(shape=(28, 28, 1))\n",
    "x = Conv2D(filters=32, kernel_size=3, strides=1, padding='same', activation='relu')(input_tensor)\n",
    "x = Conv2D(filters=64, kernel_size=3, activation='relu')(x)\n",
    "x = MaxPooling2D(2)(x)\n",
    "\n",
    "# Fully Connected layer for classification\n",
    "x = Flatten()(x)\n",
    "x = Dense(100, activation='relu')(x)\n",
    "output = Dense(10, activation='softmax')(x)\n",
    "\n",
    "model = Model(inputs=input_tensor, outputs=output)\n",
    "model.summary()"
   ]
  },
  {
   "cell_type": "markdown",
   "id": "0f0b216c",
   "metadata": {},
   "source": [
    "### Compile & fit"
   ]
  },
  {
   "cell_type": "code",
   "execution_count": 14,
   "id": "8cdf373b",
   "metadata": {},
   "outputs": [],
   "source": [
    "from tensorflow.keras.utils import to_categorical\n",
    "from tensorflow.keras.optimizers import Adam\n",
    "from tensorflow.keras.losses import CategoricalCrossentropy\n",
    "from tensorflow.keras.metrics import Accuracy\n",
    "\n",
    "model.compile(optimizer=Adam(0.001), loss='categorical_crossentropy', metrics=['accuracy'])"
   ]
  },
  {
   "cell_type": "code",
   "execution_count": 15,
   "id": "70652d8e",
   "metadata": {
    "scrolled": true
   },
   "outputs": [
    {
     "name": "stderr",
     "output_type": "stream",
     "text": [
      "2021-08-14 17:08:31.234584: I tensorflow/compiler/mlir/mlir_graph_optimization_pass.cc:176] None of the MLIR Optimization Passes are enabled (registered 2)\n",
      "2021-08-14 17:08:31.241419: W tensorflow/core/platform/profile_utils/cpu_utils.cc:128] Failed to get CPU frequency: 0 Hz\n"
     ]
    },
    {
     "name": "stdout",
     "output_type": "stream",
     "text": [
      "Epoch 1/30\n"
     ]
    },
    {
     "name": "stderr",
     "output_type": "stream",
     "text": [
      "2021-08-14 17:08:31.446404: I tensorflow/core/grappler/optimizers/custom_graph_optimizer_registry.cc:112] Plugin optimizer for device_type GPU is enabled.\n"
     ]
    },
    {
     "name": "stdout",
     "output_type": "stream",
     "text": [
      "399/399 [==============================] - ETA: 0s - loss: 0.4450 - accuracy: 0.8420"
     ]
    },
    {
     "name": "stderr",
     "output_type": "stream",
     "text": [
      "2021-08-14 17:08:40.929901: I tensorflow/core/grappler/optimizers/custom_graph_optimizer_registry.cc:112] Plugin optimizer for device_type GPU is enabled.\n"
     ]
    },
    {
     "name": "stdout",
     "output_type": "stream",
     "text": [
      "399/399 [==============================] - 10s 24ms/step - loss: 0.4450 - accuracy: 0.8420 - val_loss: 0.3162 - val_accuracy: 0.8859\n",
      "Epoch 2/30\n",
      "399/399 [==============================] - 9s 23ms/step - loss: 0.2779 - accuracy: 0.9000 - val_loss: 0.2764 - val_accuracy: 0.9010\n",
      "Epoch 3/30\n",
      "399/399 [==============================] - 9s 22ms/step - loss: 0.2282 - accuracy: 0.9172 - val_loss: 0.2431 - val_accuracy: 0.9123\n",
      "Epoch 4/30\n",
      "399/399 [==============================] - 9s 23ms/step - loss: 0.1891 - accuracy: 0.9305 - val_loss: 0.2194 - val_accuracy: 0.9219\n",
      "Epoch 5/30\n",
      "399/399 [==============================] - 9s 23ms/step - loss: 0.1589 - accuracy: 0.9413 - val_loss: 0.2226 - val_accuracy: 0.9229\n",
      "Epoch 6/30\n",
      "399/399 [==============================] - 9s 23ms/step - loss: 0.1331 - accuracy: 0.9507 - val_loss: 0.2502 - val_accuracy: 0.9140\n",
      "Epoch 7/30\n",
      "399/399 [==============================] - 9s 23ms/step - loss: 0.1071 - accuracy: 0.9603 - val_loss: 0.2349 - val_accuracy: 0.9200\n",
      "Epoch 8/30\n",
      "399/399 [==============================] - 9s 23ms/step - loss: 0.0865 - accuracy: 0.9687 - val_loss: 0.2424 - val_accuracy: 0.9238\n",
      "Epoch 9/30\n",
      "399/399 [==============================] - 9s 23ms/step - loss: 0.0700 - accuracy: 0.9754 - val_loss: 0.2527 - val_accuracy: 0.9219\n",
      "Epoch 10/30\n",
      "399/399 [==============================] - 9s 23ms/step - loss: 0.0521 - accuracy: 0.9811 - val_loss: 0.2712 - val_accuracy: 0.9237\n",
      "Epoch 11/30\n",
      "399/399 [==============================] - 9s 23ms/step - loss: 0.0426 - accuracy: 0.9850 - val_loss: 0.2953 - val_accuracy: 0.9246\n",
      "Epoch 12/30\n",
      "399/399 [==============================] - 9s 23ms/step - loss: 0.0365 - accuracy: 0.9874 - val_loss: 0.3281 - val_accuracy: 0.9223\n",
      "Epoch 13/30\n",
      "399/399 [==============================] - 9s 23ms/step - loss: 0.0280 - accuracy: 0.9911 - val_loss: 0.3397 - val_accuracy: 0.9219\n",
      "Epoch 14/30\n",
      "399/399 [==============================] - 9s 23ms/step - loss: 0.0229 - accuracy: 0.9926 - val_loss: 0.3616 - val_accuracy: 0.9203\n",
      "Epoch 15/30\n",
      "399/399 [==============================] - 9s 23ms/step - loss: 0.0227 - accuracy: 0.9924 - val_loss: 0.3761 - val_accuracy: 0.9206\n",
      "Epoch 16/30\n",
      "399/399 [==============================] - 9s 23ms/step - loss: 0.0164 - accuracy: 0.9947 - val_loss: 0.3942 - val_accuracy: 0.9253\n",
      "Epoch 17/30\n",
      "399/399 [==============================] - 9s 23ms/step - loss: 0.0173 - accuracy: 0.9946 - val_loss: 0.3921 - val_accuracy: 0.9218\n",
      "Epoch 18/30\n",
      "399/399 [==============================] - 9s 22ms/step - loss: 0.0123 - accuracy: 0.9964 - val_loss: 0.4245 - val_accuracy: 0.9216\n",
      "Epoch 19/30\n",
      "399/399 [==============================] - 9s 23ms/step - loss: 0.0168 - accuracy: 0.9942 - val_loss: 0.4225 - val_accuracy: 0.9217\n",
      "Epoch 20/30\n",
      "399/399 [==============================] - 9s 23ms/step - loss: 0.0128 - accuracy: 0.9956 - val_loss: 0.4331 - val_accuracy: 0.9207\n",
      "Epoch 21/30\n",
      "399/399 [==============================] - 9s 22ms/step - loss: 0.0181 - accuracy: 0.9935 - val_loss: 0.4477 - val_accuracy: 0.9234\n",
      "Epoch 22/30\n",
      "399/399 [==============================] - 9s 23ms/step - loss: 0.0115 - accuracy: 0.9962 - val_loss: 0.4577 - val_accuracy: 0.9243\n",
      "Epoch 23/30\n",
      "399/399 [==============================] - 9s 22ms/step - loss: 0.0083 - accuracy: 0.9972 - val_loss: 0.5416 - val_accuracy: 0.9186\n",
      "Epoch 24/30\n",
      "399/399 [==============================] - 9s 23ms/step - loss: 0.0101 - accuracy: 0.9965 - val_loss: 0.5071 - val_accuracy: 0.9234\n",
      "Epoch 25/30\n",
      "399/399 [==============================] - 9s 22ms/step - loss: 0.0136 - accuracy: 0.9954 - val_loss: 0.5070 - val_accuracy: 0.9229\n",
      "Epoch 26/30\n",
      "399/399 [==============================] - 9s 22ms/step - loss: 0.0068 - accuracy: 0.9978 - val_loss: 0.5174 - val_accuracy: 0.9206\n",
      "Epoch 27/30\n",
      "399/399 [==============================] - 9s 22ms/step - loss: 0.0092 - accuracy: 0.9971 - val_loss: 0.5540 - val_accuracy: 0.9212\n",
      "Epoch 28/30\n",
      "399/399 [==============================] - 9s 22ms/step - loss: 0.0131 - accuracy: 0.9958 - val_loss: 0.4908 - val_accuracy: 0.9226\n",
      "Epoch 29/30\n",
      "399/399 [==============================] - 9s 22ms/step - loss: 0.0072 - accuracy: 0.9975 - val_loss: 0.5603 - val_accuracy: 0.9213\n",
      "Epoch 30/30\n",
      "399/399 [==============================] - 9s 22ms/step - loss: 0.0049 - accuracy: 0.9982 - val_loss: 0.5243 - val_accuracy: 0.9240\n"
     ]
    }
   ],
   "source": [
    "history = model.fit(\n",
    "    x=tr_images,\n",
    "    y=tr_oh_labels,\n",
    "    batch_size=128,\n",
    "    epochs=30,\n",
    "    validation_data=(val_images, val_oh_labels)\n",
    ")"
   ]
  },
  {
   "cell_type": "code",
   "execution_count": 16,
   "id": "6561a187",
   "metadata": {},
   "outputs": [
    {
     "data": {
      "image/png": "[encoded data removed]",
      "text/plain": [
       "<Figure size 432x288 with 1 Axes>"
      ]
     },
     "metadata": {
      "needs_background": "light"
     },
     "output_type": "display_data"
    }
   ],
   "source": [
    "import matplotlib.pyplot as plt\n",
    "%matplotlib inline\n",
    "\n",
    "def show_history(history):\n",
    "    plt.plot(history.history['accuracy'], label='train')\n",
    "    plt.plot(history.history['val_accuracy'], label='validation')\n",
    "    plt.legend()\n",
    "\n",
    "show_history(history)"
   ]
  },
  {
   "cell_type": "markdown",
   "id": "b2ccfc0b",
   "metadata": {},
   "source": [
    "### Evaluation"
   ]
  },
  {
   "cell_type": "code",
   "execution_count": 17,
   "id": "f299f6f2",
   "metadata": {},
   "outputs": [
    {
     "name": "stdout",
     "output_type": "stream",
     "text": [
      "79/79 [==============================] - 1s 10ms/step - loss: 0.5810 - accuracy: 0.9204\n"
     ]
    },
    {
     "data": {
      "text/plain": [
       "[0.5809656977653503, 0.9204000234603882]"
      ]
     },
     "execution_count": 17,
     "metadata": {},
     "output_type": "execute_result"
    }
   ],
   "source": [
    "model.evaluate(test_images, test_oh_labels, batch_size=128, verbose=1)"
   ]
  },
  {
   "cell_type": "markdown",
   "id": "e27a0a44",
   "metadata": {},
   "source": [
    "### Dropout"
   ]
  },
  {
   "cell_type": "code",
   "execution_count": 18,
   "id": "bc3ac89d",
   "metadata": {},
   "outputs": [
    {
     "name": "stdout",
     "output_type": "stream",
     "text": [
      "Model: \"model_1\"\n",
      "_________________________________________________________________\n",
      "Layer (type)                 Output Shape              Param #   \n",
      "=================================================================\n",
      "input_2 (InputLayer)         [(None, 28, 28, 1)]       0         \n",
      "_________________________________________________________________\n",
      "conv2d_2 (Conv2D)            (None, 28, 28, 32)        320       \n",
      "_________________________________________________________________\n",
      "conv2d_3 (Conv2D)            (None, 26, 26, 64)        18496     \n",
      "_________________________________________________________________\n",
      "max_pooling2d_1 (MaxPooling2 (None, 13, 13, 64)        0         \n",
      "_________________________________________________________________\n",
      "flatten_1 (Flatten)          (None, 10816)             0         \n",
      "_________________________________________________________________\n",
      "dropout (Dropout)            (None, 10816)             0         \n",
      "_________________________________________________________________\n",
      "dense_2 (Dense)              (None, 100)               1081700   \n",
      "_________________________________________________________________\n",
      "dense_3 (Dense)              (None, 10)                1010      \n",
      "=================================================================\n",
      "Total params: 1,101,526\n",
      "Trainable params: 1,101,526\n",
      "Non-trainable params: 0\n",
      "_________________________________________________________________\n"
     ]
    }
   ],
   "source": [
    "from tensorflow.keras.layers import Dropout\n",
    "\n",
    "from tensorflow.keras.layers import Dense, Flatten, Dropout\n",
    "\n",
    "input_tensor = Input(shape=(28, 28, 1))\n",
    "x = Conv2D(filters=32, kernel_size=3, strides=1, padding='same', activation='relu')(input_tensor)\n",
    "x = Conv2D(filters=64, kernel_size=3, activation='relu')(x)\n",
    "x = MaxPooling2D(2)(x)\n",
    "\n",
    "x = Flatten()(x)\n",
    "x = Dropout(rate=0.5)(x)\n",
    "x = Dense(100, activation='relu')(x)\n",
    "output = Dense(10, activation='softmax')(x)\n",
    "model = Model(inputs=input_tensor, outputs=output)\n",
    "model.summary()"
   ]
  },
  {
   "cell_type": "code",
   "execution_count": 19,
   "id": "5da320bd",
   "metadata": {
    "scrolled": true
   },
   "outputs": [
    {
     "name": "stdout",
     "output_type": "stream",
     "text": [
      "Epoch 1/30\n"
     ]
    },
    {
     "name": "stderr",
     "output_type": "stream",
     "text": [
      "2021-08-14 17:25:49.866450: I tensorflow/core/grappler/optimizers/custom_graph_optimizer_registry.cc:112] Plugin optimizer for device_type GPU is enabled.\n"
     ]
    },
    {
     "name": "stdout",
     "output_type": "stream",
     "text": [
      "399/399 [==============================] - ETA: 0s - loss: 0.4640 - accuracy: 0.8375"
     ]
    },
    {
     "name": "stderr",
     "output_type": "stream",
     "text": [
      "2021-08-14 17:25:59.192370: I tensorflow/core/grappler/optimizers/custom_graph_optimizer_registry.cc:112] Plugin optimizer for device_type GPU is enabled.\n"
     ]
    },
    {
     "name": "stdout",
     "output_type": "stream",
     "text": [
      "399/399 [==============================] - 10s 24ms/step - loss: 0.4640 - accuracy: 0.8375 - val_loss: 0.3193 - val_accuracy: 0.8852\n",
      "Epoch 2/30\n",
      "399/399 [==============================] - 10s 24ms/step - loss: 0.3031 - accuracy: 0.8902 - val_loss: 0.2838 - val_accuracy: 0.8963\n",
      "Epoch 3/30\n",
      "399/399 [==============================] - 10s 24ms/step - loss: 0.2563 - accuracy: 0.9062 - val_loss: 0.2421 - val_accuracy: 0.9130\n",
      "Epoch 4/30\n",
      "399/399 [==============================] - 10s 24ms/step - loss: 0.2192 - accuracy: 0.9191 - val_loss: 0.2315 - val_accuracy: 0.9156\n",
      "Epoch 5/30\n",
      "399/399 [==============================] - 10s 26ms/step - loss: 0.1983 - accuracy: 0.9267 - val_loss: 0.2206 - val_accuracy: 0.9201\n",
      "Epoch 6/30\n",
      "399/399 [==============================] - 10s 25ms/step - loss: 0.1774 - accuracy: 0.9331 - val_loss: 0.2120 - val_accuracy: 0.9250\n",
      "Epoch 7/30\n",
      "399/399 [==============================] - 10s 24ms/step - loss: 0.1571 - accuracy: 0.9408 - val_loss: 0.2097 - val_accuracy: 0.9237\n",
      "Epoch 8/30\n",
      "399/399 [==============================] - 10s 25ms/step - loss: 0.1407 - accuracy: 0.9475 - val_loss: 0.2085 - val_accuracy: 0.9269\n",
      "Epoch 9/30\n",
      "399/399 [==============================] - 10s 24ms/step - loss: 0.1276 - accuracy: 0.9527 - val_loss: 0.2251 - val_accuracy: 0.9249\n",
      "Epoch 10/30\n",
      "399/399 [==============================] - 9s 24ms/step - loss: 0.1160 - accuracy: 0.9569 - val_loss: 0.2168 - val_accuracy: 0.9294\n",
      "Epoch 11/30\n",
      "399/399 [==============================] - 9s 24ms/step - loss: 0.1047 - accuracy: 0.9615 - val_loss: 0.2139 - val_accuracy: 0.9256\n",
      "Epoch 12/30\n",
      "399/399 [==============================] - 9s 24ms/step - loss: 0.0922 - accuracy: 0.9655 - val_loss: 0.2041 - val_accuracy: 0.9312\n",
      "Epoch 13/30\n",
      "399/399 [==============================] - 9s 24ms/step - loss: 0.0838 - accuracy: 0.9685 - val_loss: 0.2257 - val_accuracy: 0.9292\n",
      "Epoch 14/30\n",
      "399/399 [==============================] - 9s 24ms/step - loss: 0.0752 - accuracy: 0.9719 - val_loss: 0.2334 - val_accuracy: 0.9288\n",
      "Epoch 15/30\n",
      "399/399 [==============================] - 9s 24ms/step - loss: 0.0725 - accuracy: 0.9727 - val_loss: 0.2224 - val_accuracy: 0.9314\n",
      "Epoch 16/30\n",
      "399/399 [==============================] - 9s 24ms/step - loss: 0.0644 - accuracy: 0.9762 - val_loss: 0.2410 - val_accuracy: 0.9307\n",
      "Epoch 17/30\n",
      "399/399 [==============================] - 9s 24ms/step - loss: 0.0591 - accuracy: 0.9775 - val_loss: 0.2362 - val_accuracy: 0.9313\n",
      "Epoch 18/30\n",
      "399/399 [==============================] - 9s 24ms/step - loss: 0.0559 - accuracy: 0.9793 - val_loss: 0.2565 - val_accuracy: 0.9300\n",
      "Epoch 19/30\n",
      "399/399 [==============================] - 10s 24ms/step - loss: 0.0502 - accuracy: 0.9814 - val_loss: 0.2581 - val_accuracy: 0.9291\n",
      "Epoch 20/30\n",
      "399/399 [==============================] - 10s 24ms/step - loss: 0.0493 - accuracy: 0.9822 - val_loss: 0.2503 - val_accuracy: 0.9328\n",
      "Epoch 21/30\n",
      "399/399 [==============================] - 9s 24ms/step - loss: 0.0435 - accuracy: 0.9834 - val_loss: 0.2812 - val_accuracy: 0.9309\n",
      "Epoch 22/30\n",
      "399/399 [==============================] - 9s 24ms/step - loss: 0.0419 - accuracy: 0.9848 - val_loss: 0.2747 - val_accuracy: 0.9314\n",
      "Epoch 23/30\n",
      "399/399 [==============================] - 9s 24ms/step - loss: 0.0410 - accuracy: 0.9843 - val_loss: 0.2724 - val_accuracy: 0.9346\n",
      "Epoch 24/30\n",
      "399/399 [==============================] - 9s 24ms/step - loss: 0.0391 - accuracy: 0.9860 - val_loss: 0.2863 - val_accuracy: 0.9321\n",
      "Epoch 25/30\n",
      "399/399 [==============================] - 10s 24ms/step - loss: 0.0358 - accuracy: 0.9872 - val_loss: 0.2847 - val_accuracy: 0.9317\n",
      "Epoch 26/30\n",
      "399/399 [==============================] - 10s 24ms/step - loss: 0.0337 - accuracy: 0.9882 - val_loss: 0.2900 - val_accuracy: 0.9312\n",
      "Epoch 27/30\n",
      "399/399 [==============================] - 9s 24ms/step - loss: 0.0318 - accuracy: 0.9881 - val_loss: 0.3024 - val_accuracy: 0.9324\n",
      "Epoch 28/30\n",
      "399/399 [==============================] - 9s 24ms/step - loss: 0.0336 - accuracy: 0.9877 - val_loss: 0.3254 - val_accuracy: 0.9290\n",
      "Epoch 29/30\n",
      "399/399 [==============================] - 9s 24ms/step - loss: 0.0313 - accuracy: 0.9882 - val_loss: 0.3132 - val_accuracy: 0.9287\n",
      "Epoch 30/30\n",
      "399/399 [==============================] - 9s 24ms/step - loss: 0.0267 - accuracy: 0.9909 - val_loss: 0.3295 - val_accuracy: 0.9310\n"
     ]
    }
   ],
   "source": [
    "model.compile(optimizer=Adam(0.001), loss='categorical_crossentropy', metrics=['accuracy'])\n",
    "history = model.fit(x=tr_images, y=tr_oh_labels, batch_size=128, epochs=30, validation_data=(val_images, val_oh_labels))"
   ]
  },
  {
   "cell_type": "code",
   "execution_count": 20,
   "id": "01915141",
   "metadata": {},
   "outputs": [
    {
     "name": "stdout",
     "output_type": "stream",
     "text": [
      "40/40 [==============================] - 1s 14ms/step - loss: 0.3745 - accuracy: 0.9265\n"
     ]
    },
    {
     "data": {
      "text/plain": [
       "[0.3745112121105194, 0.9265000224113464]"
      ]
     },
     "execution_count": 20,
     "metadata": {},
     "output_type": "execute_result"
    },
    {
     "data": {
      "image/png": "[encoded data removed]",
      "text/plain": [
       "<Figure size 432x288 with 1 Axes>"
      ]
     },
     "metadata": {
      "needs_background": "light"
     },
     "output_type": "display_data"
    }
   ],
   "source": [
    "show_history(history)\n",
    "model.evaluate(test_images, test_oh_labels, batch_size=256, verbose=1)"
   ]
  },
  {
   "cell_type": "code",
   "execution_count": 21,
   "id": "86e22dd1",
   "metadata": {},
   "outputs": [
    {
     "name": "stdout",
     "output_type": "stream",
     "text": [
      "Model: \"model_2\"\n",
      "_________________________________________________________________\n",
      "Layer (type)                 Output Shape              Param #   \n",
      "=================================================================\n",
      "input_3 (InputLayer)         [(None, 28, 28, 1)]       0         \n",
      "_________________________________________________________________\n",
      "conv2d_4 (Conv2D)            (None, 28, 28, 32)        320       \n",
      "_________________________________________________________________\n",
      "conv2d_5 (Conv2D)            (None, 26, 26, 64)        18496     \n",
      "_________________________________________________________________\n",
      "max_pooling2d_2 (MaxPooling2 (None, 13, 13, 64)        0         \n",
      "_________________________________________________________________\n",
      "dropout_1 (Dropout)          (None, 13, 13, 64)        0         \n",
      "_________________________________________________________________\n",
      "flatten_2 (Flatten)          (None, 10816)             0         \n",
      "_________________________________________________________________\n",
      "dropout_2 (Dropout)          (None, 10816)             0         \n",
      "_________________________________________________________________\n",
      "dense_4 (Dense)              (None, 200)               2163400   \n",
      "_________________________________________________________________\n",
      "dense_5 (Dense)              (None, 10)                2010      \n",
      "=================================================================\n",
      "Total params: 2,184,226\n",
      "Trainable params: 2,184,226\n",
      "Non-trainable params: 0\n",
      "_________________________________________________________________\n"
     ]
    }
   ],
   "source": [
    "from tensorflow.keras.layers import Dense, Flatten, Dropout, GlobalAveragePooling2D\n",
    "\n",
    "def create_model():\n",
    "    input_tensor = Input(shape=(28, 28, 1))\n",
    "    x = Conv2D(filters=32, kernel_size=3, strides=1, padding='same', activation='relu')(input_tensor)\n",
    "    x = Conv2D(filters=64, kernel_size=3, activation='relu')(x)\n",
    "    x = MaxPooling2D(2)(x)\n",
    "\n",
    "    x = Dropout(rate=0.5)(x)\n",
    "    x = Flatten()(x)\n",
    "    x = Dropout(rate=0.5)(x)\n",
    "    x = Dense(200, activation='relu')(x)\n",
    "    X = Dropout(rate=0.2)(x)\n",
    "    output = Dense(10, activation='softmax')(x)\n",
    "    model = Model(inputs=input_tensor, outputs=output)\n",
    "    model.summary()\n",
    "    \n",
    "    return model\n",
    "\n",
    "model = create_model()"
   ]
  },
  {
   "cell_type": "code",
   "execution_count": 22,
   "id": "2e4fc170",
   "metadata": {
    "scrolled": true
   },
   "outputs": [
    {
     "name": "stdout",
     "output_type": "stream",
     "text": [
      "Epoch 1/30\n",
      "  1/399 [..............................] - ETA: 2:01 - loss: 2.3179 - accuracy: 0.1094"
     ]
    },
    {
     "name": "stderr",
     "output_type": "stream",
     "text": [
      "2021-08-14 17:33:28.864505: I tensorflow/core/grappler/optimizers/custom_graph_optimizer_registry.cc:112] Plugin optimizer for device_type GPU is enabled.\n"
     ]
    },
    {
     "name": "stdout",
     "output_type": "stream",
     "text": [
      "397/399 [============================>.] - ETA: 0s - loss: 0.4815 - accuracy: 0.8259"
     ]
    },
    {
     "name": "stderr",
     "output_type": "stream",
     "text": [
      "2021-08-14 17:33:39.431792: I tensorflow/core/grappler/optimizers/custom_graph_optimizer_registry.cc:112] Plugin optimizer for device_type GPU is enabled.\n"
     ]
    },
    {
     "name": "stdout",
     "output_type": "stream",
     "text": [
      "399/399 [==============================] - 11s 28ms/step - loss: 0.4811 - accuracy: 0.8260 - val_loss: 0.3422 - val_accuracy: 0.8763\n",
      "Epoch 2/30\n",
      "399/399 [==============================] - 11s 27ms/step - loss: 0.3336 - accuracy: 0.8787 - val_loss: 0.2821 - val_accuracy: 0.8971\n",
      "Epoch 3/30\n",
      "399/399 [==============================] - 11s 27ms/step - loss: 0.2879 - accuracy: 0.8933 - val_loss: 0.2561 - val_accuracy: 0.9073\n",
      "Epoch 4/30\n",
      "399/399 [==============================] - 11s 27ms/step - loss: 0.2587 - accuracy: 0.9037 - val_loss: 0.2355 - val_accuracy: 0.9140\n",
      "Epoch 5/30\n",
      "399/399 [==============================] - 11s 27ms/step - loss: 0.2354 - accuracy: 0.9118 - val_loss: 0.2374 - val_accuracy: 0.9099\n",
      "Epoch 6/30\n",
      "399/399 [==============================] - 11s 27ms/step - loss: 0.2165 - accuracy: 0.9193 - val_loss: 0.2169 - val_accuracy: 0.9211\n",
      "Epoch 7/30\n",
      "399/399 [==============================] - 11s 27ms/step - loss: 0.2006 - accuracy: 0.9245 - val_loss: 0.2109 - val_accuracy: 0.9220\n",
      "Epoch 8/30\n",
      "399/399 [==============================] - 11s 27ms/step - loss: 0.1882 - accuracy: 0.9288 - val_loss: 0.2082 - val_accuracy: 0.9239\n",
      "Epoch 9/30\n",
      "399/399 [==============================] - 11s 27ms/step - loss: 0.1782 - accuracy: 0.9332 - val_loss: 0.2011 - val_accuracy: 0.9290\n",
      "Epoch 10/30\n",
      "399/399 [==============================] - 11s 27ms/step - loss: 0.1651 - accuracy: 0.9370 - val_loss: 0.2015 - val_accuracy: 0.9283\n",
      "Epoch 11/30\n",
      "399/399 [==============================] - 11s 27ms/step - loss: 0.1574 - accuracy: 0.9413 - val_loss: 0.1954 - val_accuracy: 0.9307\n",
      "Epoch 12/30\n",
      "399/399 [==============================] - 11s 27ms/step - loss: 0.1467 - accuracy: 0.9436 - val_loss: 0.1883 - val_accuracy: 0.9328\n",
      "Epoch 13/30\n",
      "399/399 [==============================] - 11s 27ms/step - loss: 0.1389 - accuracy: 0.9474 - val_loss: 0.1949 - val_accuracy: 0.9307\n",
      "Epoch 14/30\n",
      "399/399 [==============================] - 11s 27ms/step - loss: 0.1319 - accuracy: 0.9489 - val_loss: 0.1996 - val_accuracy: 0.9329\n",
      "Epoch 15/30\n",
      "399/399 [==============================] - 11s 27ms/step - loss: 0.1273 - accuracy: 0.9516 - val_loss: 0.2017 - val_accuracy: 0.9294\n",
      "Epoch 16/30\n",
      "399/399 [==============================] - 11s 27ms/step - loss: 0.1204 - accuracy: 0.9548 - val_loss: 0.2002 - val_accuracy: 0.9342\n",
      "Epoch 17/30\n",
      "399/399 [==============================] - 11s 27ms/step - loss: 0.1165 - accuracy: 0.9559 - val_loss: 0.1969 - val_accuracy: 0.9342\n",
      "Epoch 18/30\n",
      "399/399 [==============================] - 11s 27ms/step - loss: 0.1089 - accuracy: 0.9586 - val_loss: 0.2023 - val_accuracy: 0.9328\n",
      "Epoch 19/30\n",
      "399/399 [==============================] - 11s 27ms/step - loss: 0.1036 - accuracy: 0.9606 - val_loss: 0.2003 - val_accuracy: 0.9324\n",
      "Epoch 20/30\n",
      "399/399 [==============================] - 11s 27ms/step - loss: 0.1013 - accuracy: 0.9611 - val_loss: 0.1995 - val_accuracy: 0.9336\n",
      "Epoch 21/30\n",
      "399/399 [==============================] - 11s 27ms/step - loss: 0.0954 - accuracy: 0.9647 - val_loss: 0.2062 - val_accuracy: 0.9322\n",
      "Epoch 22/30\n",
      "399/399 [==============================] - 11s 27ms/step - loss: 0.0914 - accuracy: 0.9657 - val_loss: 0.1951 - val_accuracy: 0.9343\n",
      "Epoch 23/30\n",
      "399/399 [==============================] - 11s 27ms/step - loss: 0.0892 - accuracy: 0.9666 - val_loss: 0.1987 - val_accuracy: 0.9362\n",
      "Epoch 24/30\n",
      "399/399 [==============================] - 11s 27ms/step - loss: 0.0837 - accuracy: 0.9684 - val_loss: 0.2038 - val_accuracy: 0.9347\n",
      "Epoch 25/30\n",
      "399/399 [==============================] - 11s 27ms/step - loss: 0.0803 - accuracy: 0.9696 - val_loss: 0.2244 - val_accuracy: 0.9346\n",
      "Epoch 26/30\n",
      "399/399 [==============================] - 11s 27ms/step - loss: 0.0785 - accuracy: 0.9701 - val_loss: 0.2110 - val_accuracy: 0.9319\n",
      "Epoch 27/30\n",
      "399/399 [==============================] - 11s 27ms/step - loss: 0.0771 - accuracy: 0.9706 - val_loss: 0.2208 - val_accuracy: 0.9342\n",
      "Epoch 28/30\n",
      "399/399 [==============================] - 11s 27ms/step - loss: 0.0758 - accuracy: 0.9718 - val_loss: 0.2303 - val_accuracy: 0.9317\n",
      "Epoch 29/30\n",
      "399/399 [==============================] - 11s 27ms/step - loss: 0.0709 - accuracy: 0.9735 - val_loss: 0.2318 - val_accuracy: 0.9349\n",
      "Epoch 30/30\n",
      "399/399 [==============================] - 11s 27ms/step - loss: 0.0708 - accuracy: 0.9737 - val_loss: 0.2219 - val_accuracy: 0.9324\n"
     ]
    }
   ],
   "source": [
    "model.compile(optimizer=Adam(0.001), loss='categorical_crossentropy', metrics=['accuracy'])\n",
    "history = model.fit(x=tr_images, y=tr_oh_labels, batch_size=128, epochs=30, validation_data=(val_images, val_oh_labels))"
   ]
  },
  {
   "cell_type": "code",
   "execution_count": 23,
   "id": "358e7031",
   "metadata": {},
   "outputs": [
    {
     "name": "stdout",
     "output_type": "stream",
     "text": [
      "40/40 [==============================] - 1s 15ms/step - loss: 0.2414 - accuracy: 0.9325\n"
     ]
    },
    {
     "data": {
      "text/plain": [
       "[0.24136759340763092, 0.9325000643730164]"
      ]
     },
     "execution_count": 23,
     "metadata": {},
     "output_type": "execute_result"
    },
    {
     "data": {
      "image/png": "[encoded data removed]",
      "text/plain": [
       "<Figure size 432x288 with 1 Axes>"
      ]
     },
     "metadata": {
      "needs_background": "light"
     },
     "output_type": "display_data"
    }
   ],
   "source": [
    "show_history(history)\n",
    "model.evaluate(test_images, test_oh_labels, batch_size=256, verbose=1)"
   ]
  },
  {
   "cell_type": "code",
   "execution_count": null,
   "id": "8eec4d7b",
   "metadata": {},
   "outputs": [],
   "source": []
  }
 ],
 "metadata": {
  "kernelspec": {
   "display_name": "Python 3 (ipykernel)",
   "language": "python",
   "name": "python3"
  },
  "language_info": {
   "codemirror_mode": {
    "name": "ipython",
    "version": 3
   },
   "file_extension": ".py",
   "mimetype": "text/x-python",
   "name": "python",
   "nbconvert_exporter": "python",
   "pygments_lexer": "ipython3",
   "version": "3.9.5"
  }
 },
 "nbformat": 4,
 "nbformat_minor": 5
}
