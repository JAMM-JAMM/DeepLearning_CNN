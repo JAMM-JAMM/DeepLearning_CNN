{
 "cells": [
  {
   "cell_type": "code",
   "execution_count": 1,
   "id": "251d0ed0",
   "metadata": {},
   "outputs": [
    {
     "name": "stdout",
     "output_type": "stream",
     "text": [
      "Init Plugin\n",
      "Init Graph Optimizer\n",
      "Init Kernel\n"
     ]
    }
   ],
   "source": [
    "import numpy as np\n",
    "import pandas as pd\n",
    "from tensorflow.keras.datasets import fashion_mnist\n",
    "\n",
    "(train_images, train_labels), (test_images, test_labels) = fashion_mnist.load_data()"
   ]
  },
  {
   "cell_type": "code",
   "execution_count": 2,
   "id": "ae9b2df7",
   "metadata": {},
   "outputs": [],
   "source": [
    "def get_preprocessed_data(images, labels):\n",
    "    \n",
    "    images = np.array(images/255.0, dtype=np.float32)\n",
    "    labels = np.array(labels, dtype=np.float32)\n",
    "    \n",
    "    return images, labels\n",
    "\n",
    "train_images, train_labels = get_preprocessed_data(train_images, train_labels)\n",
    "test_images, test_labels = get_preprocessed_data(test_images, test_labels)"
   ]
  },
  {
   "cell_type": "code",
   "execution_count": 4,
   "id": "c1612442",
   "metadata": {},
   "outputs": [
    {
     "name": "stdout",
     "output_type": "stream",
     "text": [
      "train images shape:  (51000, 28, 28)\n",
      "train labels shape:  (51000,)\n",
      "validation images shape:  (9000, 28, 28)\n",
      "validation labels shape:  (9000,)\n",
      "After one hot encoding, train labels shape:  (51000, 10)\n",
      "After one hot encoding, validation labels shape:  (9000, 10)\n"
     ]
    }
   ],
   "source": [
    "from sklearn.model_selection import train_test_split\n",
    "from tensorflow.keras.utils import to_categorical\n",
    "\n",
    "tr_images, val_images, tr_labels, val_labels = train_test_split(train_images, train_labels, test_size=0.15, random_state=2021)\n",
    "print('train images shape: ', tr_images.shape)\n",
    "print('train labels shape: ', tr_labels.shape)\n",
    "print('validation images shape: ', val_images.shape)\n",
    "print('validation labels shape: ', val_labels.shape)\n",
    "\n",
    "tr_oh_labels = to_categorical(tr_labels)\n",
    "val_oh_labels = to_categorical(val_labels)\n",
    "\n",
    "print('After one hot encoding, train labels shape: ', tr_oh_labels.shape)\n",
    "print('After one hot encoding, validation labels shape: ', val_oh_labels.shape)"
   ]
  },
  {
   "cell_type": "code",
   "execution_count": 5,
   "id": "13d927c5",
   "metadata": {},
   "outputs": [
    {
     "name": "stdout",
     "output_type": "stream",
     "text": [
      "Metal device set to: Apple M1\n"
     ]
    },
    {
     "name": "stderr",
     "output_type": "stream",
     "text": [
      "2021-08-12 14:47:31.920924: I tensorflow/core/common_runtime/pluggable_device/pluggable_device_factory.cc:305] Could not identify NUMA node of platform GPU ID 0, defaulting to 0. Your kernel may not have been built with NUMA support.\n",
      "2021-08-12 14:47:31.921091: I tensorflow/core/common_runtime/pluggable_device/pluggable_device_factory.cc:271] Created TensorFlow device (/job:localhost/replica:0/task:0/device:GPU:0 with 0 MB memory) -> physical PluggableDevice (device: 0, name: METAL, pci bus id: <undefined>)\n"
     ]
    }
   ],
   "source": [
    "from tensorflow.keras.layers import Dense, Flatten\n",
    "from tensorflow.keras.models import Sequential\n",
    "from tensorflow.keras.optimizers import Adam\n",
    "\n",
    "INPUT_SIZE = 28\n",
    "\n",
    "model = Sequential([\n",
    "    Flatten(input_shape=(INPUT_SIZE, INPUT_SIZE)),\n",
    "    Dense(100, activation='relu'),\n",
    "    Dense(30, activation='relu'),\n",
    "    Dense(10, activation='softmax')\n",
    "])\n",
    "\n",
    "model.compile(optimizer=Adam(0.001), loss='categorical_crossentropy', metrics=['accuracy'])"
   ]
  },
  {
   "cell_type": "code",
   "execution_count": 6,
   "id": "e519484a",
   "metadata": {
    "scrolled": true
   },
   "outputs": [
    {
     "name": "stderr",
     "output_type": "stream",
     "text": [
      "2021-08-12 14:48:44.843100: I tensorflow/compiler/mlir/mlir_graph_optimization_pass.cc:176] None of the MLIR Optimization Passes are enabled (registered 2)\n",
      "2021-08-12 14:48:44.843710: W tensorflow/core/platform/profile_utils/cpu_utils.cc:128] Failed to get CPU frequency: 0 Hz\n",
      "2021-08-12 14:48:44.982685: I tensorflow/core/grappler/optimizers/custom_graph_optimizer_registry.cc:112] Plugin optimizer for device_type GPU is enabled.\n"
     ]
    },
    {
     "name": "stdout",
     "output_type": "stream",
     "text": [
      "Epoch 1/20\n",
      "394/399 [============================>.] - ETA: 0s - loss: 0.5910 - accuracy: 0.7975"
     ]
    },
    {
     "name": "stderr",
     "output_type": "stream",
     "text": [
      "2021-08-12 14:48:47.699176: I tensorflow/core/grappler/optimizers/custom_graph_optimizer_registry.cc:112] Plugin optimizer for device_type GPU is enabled.\n"
     ]
    },
    {
     "name": "stdout",
     "output_type": "stream",
     "text": [
      "399/399 [==============================] - 3s 6ms/step - loss: 0.5894 - accuracy: 0.7980 - val_loss: 0.4857 - val_accuracy: 0.8231\n",
      "Epoch 2/20\n",
      "399/399 [==============================] - 2s 6ms/step - loss: 0.4116 - accuracy: 0.8546 - val_loss: 0.4348 - val_accuracy: 0.8451\n",
      "Epoch 3/20\n",
      "399/399 [==============================] - 2s 6ms/step - loss: 0.3746 - accuracy: 0.8664 - val_loss: 0.3812 - val_accuracy: 0.8640\n",
      "Epoch 4/20\n",
      "399/399 [==============================] - 2s 6ms/step - loss: 0.3486 - accuracy: 0.8755 - val_loss: 0.3847 - val_accuracy: 0.8626\n",
      "Epoch 5/20\n",
      "399/399 [==============================] - 2s 6ms/step - loss: 0.3261 - accuracy: 0.8834 - val_loss: 0.3627 - val_accuracy: 0.8711\n",
      "Epoch 6/20\n",
      "399/399 [==============================] - 2s 6ms/step - loss: 0.3116 - accuracy: 0.8873 - val_loss: 0.3632 - val_accuracy: 0.8700\n",
      "Epoch 7/20\n",
      "399/399 [==============================] - 2s 6ms/step - loss: 0.3011 - accuracy: 0.8912 - val_loss: 0.3346 - val_accuracy: 0.8809\n",
      "Epoch 8/20\n",
      "399/399 [==============================] - 2s 6ms/step - loss: 0.2891 - accuracy: 0.8935 - val_loss: 0.3220 - val_accuracy: 0.8829\n",
      "Epoch 9/20\n",
      "399/399 [==============================] - 2s 6ms/step - loss: 0.2777 - accuracy: 0.8987 - val_loss: 0.3233 - val_accuracy: 0.8820\n",
      "Epoch 10/20\n",
      "399/399 [==============================] - 2s 6ms/step - loss: 0.2673 - accuracy: 0.9019 - val_loss: 0.3306 - val_accuracy: 0.8812\n",
      "Epoch 11/20\n",
      "399/399 [==============================] - 2s 6ms/step - loss: 0.2607 - accuracy: 0.9049 - val_loss: 0.3368 - val_accuracy: 0.8780\n",
      "Epoch 12/20\n",
      "399/399 [==============================] - 2s 6ms/step - loss: 0.2542 - accuracy: 0.9056 - val_loss: 0.3235 - val_accuracy: 0.8839\n",
      "Epoch 13/20\n",
      "399/399 [==============================] - 2s 6ms/step - loss: 0.2469 - accuracy: 0.9089 - val_loss: 0.3223 - val_accuracy: 0.8818\n",
      "Epoch 14/20\n",
      "399/399 [==============================] - 2s 6ms/step - loss: 0.2428 - accuracy: 0.9096 - val_loss: 0.3477 - val_accuracy: 0.8754\n",
      "Epoch 15/20\n",
      "399/399 [==============================] - 2s 6ms/step - loss: 0.2364 - accuracy: 0.9115 - val_loss: 0.3277 - val_accuracy: 0.8843\n",
      "Epoch 16/20\n",
      "399/399 [==============================] - 2s 6ms/step - loss: 0.2269 - accuracy: 0.9166 - val_loss: 0.3214 - val_accuracy: 0.8877\n",
      "Epoch 17/20\n",
      "399/399 [==============================] - 2s 6ms/step - loss: 0.2223 - accuracy: 0.9184 - val_loss: 0.3464 - val_accuracy: 0.8736\n",
      "Epoch 18/20\n",
      "399/399 [==============================] - 2s 6ms/step - loss: 0.2201 - accuracy: 0.9173 - val_loss: 0.3147 - val_accuracy: 0.8901\n",
      "Epoch 19/20\n",
      "399/399 [==============================] - 2s 6ms/step - loss: 0.2132 - accuracy: 0.9207 - val_loss: 0.3292 - val_accuracy: 0.8856\n",
      "Epoch 20/20\n",
      "399/399 [==============================] - 2s 6ms/step - loss: 0.2073 - accuracy: 0.9230 - val_loss: 0.3164 - val_accuracy: 0.8886\n"
     ]
    }
   ],
   "source": [
    "history = model.fit(x=tr_images, y=tr_oh_labels, batch_size=128, \n",
    "                   validation_data=(val_images, val_oh_labels),\n",
    "                   epochs=20, verbose=1)"
   ]
  },
  {
   "cell_type": "code",
   "execution_count": 8,
   "id": "f0eaac6c",
   "metadata": {},
   "outputs": [
    {
     "name": "stdout",
     "output_type": "stream",
     "text": [
      "train loss:  [0.5894199013710022, 0.4115772247314453, 0.3746202886104584, 0.3486291170120239, 0.32610735297203064, 0.3115675449371338, 0.3010587990283966, 0.28907883167266846, 0.2777014374732971, 0.2672797739505768, 0.260654479265213, 0.2541963458061218, 0.24686309695243835, 0.2427678257226944, 0.23639336228370667, 0.22694051265716553, 0.22232592105865479, 0.22013798356056213, 0.21319790184497833, 0.20728032290935516]\n",
      "\n",
      "train accuracy:  [0.7980000376701355, 0.854607880115509, 0.8663725852966309, 0.8754901885986328, 0.8833921551704407, 0.887333333492279, 0.8911764621734619, 0.8934705853462219, 0.8987255096435547, 0.901941180229187, 0.904941201210022, 0.9055686593055725, 0.9088823795318604, 0.9096274971961975, 0.911450982093811, 0.9166274666786194, 0.9183529615402222, 0.9173333644866943, 0.9207255244255066, 0.9230392575263977]\n",
      "\n",
      "validatioin loss:  [0.4856874644756317, 0.4347980320453644, 0.3811899721622467, 0.3846784234046936, 0.3627260625362396, 0.36321747303009033, 0.3346087336540222, 0.3220359981060028, 0.3233287036418915, 0.33064892888069153, 0.3367648124694824, 0.3235349655151367, 0.32234352827072144, 0.34767821431159973, 0.327700674533844, 0.3214278817176819, 0.3463994860649109, 0.3147038519382477, 0.3292369544506073, 0.3164444863796234]\n",
      "\n",
      "validation accuracy:  [0.8231111168861389, 0.8451111316680908, 0.8640000224113464, 0.8625555634498596, 0.8711110949516296, 0.8700000047683716, 0.8808888792991638, 0.882888913154602, 0.8820000290870667, 0.8812222480773926, 0.878000020980835, 0.8838889002799988, 0.8817777633666992, 0.8754444718360901, 0.8843333721160889, 0.8876667022705078, 0.8735555410385132, 0.8901111483573914, 0.8855555653572083, 0.8885555863380432]\n"
     ]
    }
   ],
   "source": [
    "print('train loss: ', history.history['loss'])\n",
    "print()\n",
    "print('train accuracy: ', history.history['accuracy'])\n",
    "print()\n",
    "print('validatioin loss: ', history.history['val_loss'])\n",
    "print()\n",
    "print('validation accuracy: ', history.history['val_accuracy'])"
   ]
  },
  {
   "cell_type": "code",
   "execution_count": 9,
   "id": "6719f2d5",
   "metadata": {},
   "outputs": [
    {
     "data": {
      "text/plain": [
       "<matplotlib.legend.Legend at 0x2806bce20>"
      ]
     },
     "execution_count": 9,
     "metadata": {},
     "output_type": "execute_result"
    },
    {
     "data": {
      "image/png": "[encoded data removed]",
      "text/plain": [
       "<Figure size 432x288 with 1 Axes>"
      ]
     },
     "metadata": {
      "needs_background": "light"
     },
     "output_type": "display_data"
    }
   ],
   "source": [
    "import matplotlib.pyplot as plt\n",
    "%matplotlib inline\n",
    "\n",
    "plt.plot(history.history['accuracy'], label='train')\n",
    "plt.plot(history.history['val_accuracy'], label='valid')\n",
    "plt.legend()"
   ]
  },
  {
   "cell_type": "code",
   "execution_count": null,
   "id": "80aeaefb",
   "metadata": {},
   "outputs": [],
   "source": []
  }
 ],
 "metadata": {
  "kernelspec": {
   "display_name": "Python 3 (ipykernel)",
   "language": "python",
   "name": "python3"
  },
  "language_info": {
   "codemirror_mode": {
    "name": "ipython",
    "version": 3
   },
   "file_extension": ".py",
   "mimetype": "text/x-python",
   "name": "python",
   "nbconvert_exporter": "python",
   "pygments_lexer": "ipython3",
   "version": "3.9.5"
  }
 },
 "nbformat": 4,
 "nbformat_minor": 5
}
