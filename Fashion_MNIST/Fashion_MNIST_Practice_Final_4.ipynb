{
 "cells": [
  {
   "cell_type": "markdown",
   "id": "6d8c0a99",
   "metadata": {},
   "source": [
    "### Fashion MNIST\n",
    "- Functional API\n",
    "- Transform the pixel value from 1 ~ 255 to 0 ~ 1 as float32\n",
    "- Apply One Hot Encoding on Label (categorical crossentropy)\n",
    "- Divide Train/Validation/Test\n",
    "- Compile, fit, evaluate"
   ]
  },
  {
   "cell_type": "markdown",
   "id": "44593a6d",
   "metadata": {},
   "source": [
    "### Building Model using Functional API"
   ]
  },
  {
   "cell_type": "code",
   "execution_count": 1,
   "id": "347c171f",
   "metadata": {},
   "outputs": [
    {
     "name": "stdout",
     "output_type": "stream",
     "text": [
      "Init Plugin\n",
      "Init Graph Optimizer\n",
      "Init Kernel\n"
     ]
    }
   ],
   "source": [
    "import tensorflow as tf\n",
    "from tensorflow.keras.layers import Layer, Input, Dense, Flatten\n",
    "from tensorflow.keras.models import Model\n",
    "\n",
    "INPUT_SIZE = 28\n",
    "\n",
    "def create_model():\n",
    "    input_tensor = Input(shape=(INPUT_SIZE, INPUT_SIZE))\n",
    "    x = Flatten()(input_tensor)\n",
    "    x = Dense(100, activation='relu')(x)\n",
    "    x = Dense(30, activation='relu')(x)\n",
    "    output = Dense(10, activation='softmax')(x)\n",
    "    \n",
    "    model = Model(inputs=input_tensor, outputs=output)\n",
    "    \n",
    "    return model"
   ]
  },
  {
   "cell_type": "markdown",
   "id": "60550cb7",
   "metadata": {},
   "source": [
    "### Dividing Dataset & Preprocessing"
   ]
  },
  {
   "cell_type": "code",
   "execution_count": 2,
   "id": "3ddd8a9b",
   "metadata": {},
   "outputs": [],
   "source": [
    "import numpy as np\n",
    "from tensorflow.keras.utils import to_categorical\n",
    "from sklearn.model_selection import train_test_split\n",
    "\n",
    "def get_preprocessed_data(images, labels):\n",
    "    \n",
    "    images = np.array(images/255.0, dtype=np.float32)\n",
    "    labels = np.array(labels, dtype=np.float32)\n",
    "    \n",
    "    return images, labels\n",
    "\n",
    "def get_preprocessed_ohe(images, labels):\n",
    "    \n",
    "    images, labels = get_preprocessed_data(images, labels)\n",
    "    \n",
    "    oh_labels = to_categorical(labels)\n",
    "    \n",
    "    return images, oh_labels\n",
    "\n",
    "def get_train_valid_test_set(train_images, train_labels, test_images, test_labels, valid_size=0.15, random_state=2021):\n",
    "    \n",
    "    train_images, train_oh_labels = get_preprocessed_ohe(train_images, train_labels)\n",
    "    test_images, test_oh_labels = get_preprocessed_ohe(test_images, test_labels)\n",
    "    \n",
    "    tr_images, val_images, tr_oh_labels, val_oh_labels = train_test_split(train_images, train_oh_labels, test_size=valid_size, random_state=random_state)\n",
    "    \n",
    "    return (tr_images, tr_oh_labels), (val_images, val_oh_labels), (test_images, test_oh_labels)"
   ]
  },
  {
   "cell_type": "markdown",
   "id": "c300ff48",
   "metadata": {},
   "source": [
    "### Load Fashion MNIST Dataset"
   ]
  },
  {
   "cell_type": "code",
   "execution_count": 3,
   "id": "e425bf65",
   "metadata": {},
   "outputs": [
    {
     "name": "stdout",
     "output_type": "stream",
     "text": [
      "train images shape:  (60000, 28, 28)\n",
      "train labels shape:  (60000,)\n",
      "test images shape:  (10000, 28, 28)\n",
      "test labels shape:  (10000,)\n",
      "\n",
      "train images shape:  (51000, 28, 28)\n",
      "train ohe labels shape:  (51000, 10)\n",
      "validatioin images shape:  (9000, 28, 28)\n",
      "validation ohe labels shape:  (9000, 10)\n",
      "test images shape:  (10000, 28, 28)\n",
      "test ohe labels shape:  (10000, 10)\n"
     ]
    }
   ],
   "source": [
    "from tensorflow.keras.datasets import fashion_mnist\n",
    "\n",
    "(train_images, train_labels), (test_images, test_labels) = fashion_mnist.load_data()\n",
    "\n",
    "print('train images shape: ', train_images.shape)\n",
    "print('train labels shape: ', train_labels.shape)\n",
    "print('test images shape: ', test_images.shape)\n",
    "print('test labels shape: ', test_labels.shape)\n",
    "\n",
    "print()\n",
    "\n",
    "(tr_images, tr_oh_labels), (val_images, val_oh_labels), (test_images, test_oh_labels) = \\\n",
    "    get_train_valid_test_set(train_images, train_labels, test_images, test_labels, valid_size=0.15, random_state=2021)\n",
    "\n",
    "print('train images shape: ', tr_images.shape)\n",
    "print('train ohe labels shape: ', tr_oh_labels.shape)\n",
    "print('validatioin images shape: ', val_images.shape)\n",
    "print('validation ohe labels shape: ', val_oh_labels.shape)\n",
    "print('test images shape: ', test_images.shape)\n",
    "print('test ohe labels shape: ', test_oh_labels.shape)"
   ]
  },
  {
   "cell_type": "markdown",
   "id": "b9ab708c",
   "metadata": {},
   "source": [
    "### Compile, Fit, Evaluate"
   ]
  },
  {
   "cell_type": "code",
   "execution_count": 4,
   "id": "53548450",
   "metadata": {},
   "outputs": [
    {
     "name": "stdout",
     "output_type": "stream",
     "text": [
      "Metal device set to: Apple M1\n",
      "Model: \"model\"\n",
      "_________________________________________________________________\n",
      "Layer (type)                 Output Shape              Param #   \n",
      "=================================================================\n",
      "input_1 (InputLayer)         [(None, 28, 28)]          0         \n",
      "_________________________________________________________________\n",
      "flatten (Flatten)            (None, 784)               0         \n",
      "_________________________________________________________________\n",
      "dense (Dense)                (None, 100)               78500     \n",
      "_________________________________________________________________\n",
      "dense_1 (Dense)              (None, 30)                3030      \n",
      "_________________________________________________________________\n",
      "dense_2 (Dense)              (None, 10)                310       \n",
      "=================================================================\n",
      "Total params: 81,840\n",
      "Trainable params: 81,840\n",
      "Non-trainable params: 0\n",
      "_________________________________________________________________\n"
     ]
    },
    {
     "name": "stderr",
     "output_type": "stream",
     "text": [
      "2021-08-13 14:34:29.726517: I tensorflow/core/common_runtime/pluggable_device/pluggable_device_factory.cc:305] Could not identify NUMA node of platform GPU ID 0, defaulting to 0. Your kernel may not have been built with NUMA support.\n",
      "2021-08-13 14:34:29.726853: I tensorflow/core/common_runtime/pluggable_device/pluggable_device_factory.cc:271] Created TensorFlow device (/job:localhost/replica:0/task:0/device:GPU:0 with 0 MB memory) -> physical PluggableDevice (device: 0, name: METAL, pci bus id: <undefined>)\n"
     ]
    }
   ],
   "source": [
    "from tensorflow.keras.optimizers import Adam\n",
    "\n",
    "model = create_model()\n",
    "model.summary()"
   ]
  },
  {
   "cell_type": "code",
   "execution_count": 5,
   "id": "e939fc4d",
   "metadata": {},
   "outputs": [],
   "source": [
    "model.compile(optimizer=Adam(0.001), loss='categorical_crossentropy', metrics=['accuracy'])"
   ]
  },
  {
   "cell_type": "code",
   "execution_count": 6,
   "id": "3bf6e3a6",
   "metadata": {
    "scrolled": true
   },
   "outputs": [
    {
     "name": "stderr",
     "output_type": "stream",
     "text": [
      "2021-08-13 14:34:33.541725: I tensorflow/compiler/mlir/mlir_graph_optimization_pass.cc:176] None of the MLIR Optimization Passes are enabled (registered 2)\n",
      "2021-08-13 14:34:33.544421: W tensorflow/core/platform/profile_utils/cpu_utils.cc:128] Failed to get CPU frequency: 0 Hz\n",
      "2021-08-13 14:34:33.671864: I tensorflow/core/grappler/optimizers/custom_graph_optimizer_registry.cc:112] Plugin optimizer for device_type GPU is enabled.\n"
     ]
    },
    {
     "name": "stdout",
     "output_type": "stream",
     "text": [
      "Epoch 1/20\n",
      "392/399 [============================>.] - ETA: 0s - loss: 0.6084 - accuracy: 0.7953"
     ]
    },
    {
     "name": "stderr",
     "output_type": "stream",
     "text": [
      "2021-08-13 14:34:36.283103: I tensorflow/core/grappler/optimizers/custom_graph_optimizer_registry.cc:112] Plugin optimizer for device_type GPU is enabled.\n"
     ]
    },
    {
     "name": "stdout",
     "output_type": "stream",
     "text": [
      "399/399 [==============================] - 3s 6ms/step - loss: 0.6058 - accuracy: 0.7960 - val_loss: 0.4758 - val_accuracy: 0.8351\n",
      "Epoch 2/20\n",
      "399/399 [==============================] - 2s 6ms/step - loss: 0.4116 - accuracy: 0.8564 - val_loss: 0.4024 - val_accuracy: 0.8558\n",
      "Epoch 3/20\n",
      "399/399 [==============================] - 2s 6ms/step - loss: 0.3743 - accuracy: 0.8675 - val_loss: 0.3953 - val_accuracy: 0.8572\n",
      "Epoch 4/20\n",
      "399/399 [==============================] - 2s 6ms/step - loss: 0.3459 - accuracy: 0.8770 - val_loss: 0.3842 - val_accuracy: 0.8614\n",
      "Epoch 5/20\n",
      "399/399 [==============================] - 2s 6ms/step - loss: 0.3313 - accuracy: 0.8811 - val_loss: 0.3677 - val_accuracy: 0.8656\n",
      "Epoch 6/20\n",
      "399/399 [==============================] - 2s 6ms/step - loss: 0.3119 - accuracy: 0.8875 - val_loss: 0.3471 - val_accuracy: 0.8770\n",
      "Epoch 7/20\n",
      "399/399 [==============================] - 2s 6ms/step - loss: 0.3012 - accuracy: 0.8910 - val_loss: 0.3391 - val_accuracy: 0.8738\n",
      "Epoch 8/20\n",
      "399/399 [==============================] - 2s 6ms/step - loss: 0.2881 - accuracy: 0.8950 - val_loss: 0.3305 - val_accuracy: 0.8792\n",
      "Epoch 9/20\n",
      "399/399 [==============================] - 2s 6ms/step - loss: 0.2781 - accuracy: 0.8986 - val_loss: 0.3417 - val_accuracy: 0.8783\n",
      "Epoch 10/20\n",
      "399/399 [==============================] - 2s 6ms/step - loss: 0.2700 - accuracy: 0.9020 - val_loss: 0.3189 - val_accuracy: 0.8846\n",
      "Epoch 11/20\n",
      "399/399 [==============================] - 2s 6ms/step - loss: 0.2622 - accuracy: 0.9034 - val_loss: 0.3235 - val_accuracy: 0.8837\n",
      "Epoch 12/20\n",
      "399/399 [==============================] - 2s 6ms/step - loss: 0.2535 - accuracy: 0.9061 - val_loss: 0.3274 - val_accuracy: 0.8822\n",
      "Epoch 13/20\n",
      "399/399 [==============================] - 2s 6ms/step - loss: 0.2464 - accuracy: 0.9111 - val_loss: 0.3208 - val_accuracy: 0.8866\n",
      "Epoch 14/20\n",
      "399/399 [==============================] - 2s 6ms/step - loss: 0.2414 - accuracy: 0.9117 - val_loss: 0.3193 - val_accuracy: 0.8850\n",
      "Epoch 15/20\n",
      "399/399 [==============================] - 2s 6ms/step - loss: 0.2366 - accuracy: 0.9125 - val_loss: 0.3337 - val_accuracy: 0.8822\n",
      "Epoch 16/20\n",
      "399/399 [==============================] - 2s 6ms/step - loss: 0.2295 - accuracy: 0.9149 - val_loss: 0.3248 - val_accuracy: 0.8840\n",
      "Epoch 17/20\n",
      "399/399 [==============================] - 2s 6ms/step - loss: 0.2242 - accuracy: 0.9165 - val_loss: 0.3385 - val_accuracy: 0.8814\n",
      "Epoch 18/20\n",
      "399/399 [==============================] - 2s 6ms/step - loss: 0.2171 - accuracy: 0.9201 - val_loss: 0.3219 - val_accuracy: 0.8853\n",
      "Epoch 19/20\n",
      "399/399 [==============================] - 2s 6ms/step - loss: 0.2128 - accuracy: 0.9223 - val_loss: 0.3160 - val_accuracy: 0.8898\n",
      "Epoch 20/20\n",
      "399/399 [==============================] - 2s 6ms/step - loss: 0.2074 - accuracy: 0.9229 - val_loss: 0.3306 - val_accuracy: 0.8886\n"
     ]
    }
   ],
   "source": [
    "history = model.fit(x=tr_images, y=tr_oh_labels, batch_size=128, epochs=20, validation_data=(val_images, val_oh_labels))"
   ]
  },
  {
   "cell_type": "markdown",
   "id": "086b50a4",
   "metadata": {},
   "source": [
    "### Plotting"
   ]
  },
  {
   "cell_type": "code",
   "execution_count": 7,
   "id": "7a8c14e9",
   "metadata": {},
   "outputs": [
    {
     "data": {
      "image/png": "[encoded data removed]",
      "text/plain": [
       "<Figure size 432x288 with 1 Axes>"
      ]
     },
     "metadata": {
      "needs_background": "light"
     },
     "output_type": "display_data"
    }
   ],
   "source": [
    "import matplotlib.pyplot as plt\n",
    "%matplotlib inline\n",
    "\n",
    "def show_history(history):\n",
    "    plt.plot(history.history['accuracy'], label='train')\n",
    "    plt.plot(history.history['val_accuracy'], label='valid')\n",
    "    plt.legend()\n",
    "\n",
    "show_history(history)"
   ]
  },
  {
   "cell_type": "markdown",
   "id": "59d1aa96",
   "metadata": {},
   "source": [
    "### Callback"
   ]
  },
  {
   "cell_type": "code",
   "execution_count": 8,
   "id": "c433910f",
   "metadata": {},
   "outputs": [
    {
     "name": "stdout",
     "output_type": "stream",
     "text": [
      "/Users/jamm/Documents/Github/AI/DeepLearning_CNN/Fashion_MNIST\r\n"
     ]
    }
   ],
   "source": [
    "!pwd"
   ]
  },
  {
   "cell_type": "code",
   "execution_count": 9,
   "id": "98117458",
   "metadata": {},
   "outputs": [],
   "source": [
    "import os\n",
    "\n",
    "current_path = os.getcwd()\n",
    "callback_path = os.path.join(current_path, 'callbacks')"
   ]
  },
  {
   "cell_type": "markdown",
   "id": "4a6f4c72",
   "metadata": {},
   "source": [
    "### ModelCheckpoint"
   ]
  },
  {
   "cell_type": "code",
   "execution_count": 10,
   "id": "5d0d5b89",
   "metadata": {
    "scrolled": true
   },
   "outputs": [
    {
     "name": "stdout",
     "output_type": "stream",
     "text": [
      "WARNING:tensorflow:`period` argument is deprecated. Please use `save_freq` to specify the frequency in number of batches seen.\n",
      "Epoch 1/10\n",
      " 18/399 [>.............................] - ETA: 2s - loss: 1.6893 - accuracy: 0.4579"
     ]
    },
    {
     "name": "stderr",
     "output_type": "stream",
     "text": [
      "2021-08-13 14:35:49.243258: I tensorflow/core/grappler/optimizers/custom_graph_optimizer_registry.cc:112] Plugin optimizer for device_type GPU is enabled.\n"
     ]
    },
    {
     "name": "stdout",
     "output_type": "stream",
     "text": [
      "395/399 [============================>.] - ETA: 0s - loss: 0.6101 - accuracy: 0.7908"
     ]
    },
    {
     "name": "stderr",
     "output_type": "stream",
     "text": [
      "2021-08-13 14:35:51.543052: I tensorflow/core/grappler/optimizers/custom_graph_optimizer_registry.cc:112] Plugin optimizer for device_type GPU is enabled.\n"
     ]
    },
    {
     "name": "stdout",
     "output_type": "stream",
     "text": [
      "399/399 [==============================] - 3s 6ms/step - loss: 0.6092 - accuracy: 0.7911 - val_loss: 0.4579 - val_accuracy: 0.8372\n",
      "Epoch 2/10\n",
      "399/399 [==============================] - 2s 6ms/step - loss: 0.4186 - accuracy: 0.8523 - val_loss: 0.4234 - val_accuracy: 0.8450\n",
      "Epoch 3/10\n",
      "399/399 [==============================] - 2s 6ms/step - loss: 0.3780 - accuracy: 0.8659 - val_loss: 0.3941 - val_accuracy: 0.8590\n",
      "\n",
      "Epoch 00003: val_loss improved from inf to 0.39408, saving model to /Users/jamm/Documents/Github/AI/DeepLearning_CNN/Fashion_MNIST/callbacks/weights.03-0.39.hdf5\n",
      "Epoch 4/10\n",
      "399/399 [==============================] - 2s 6ms/step - loss: 0.3500 - accuracy: 0.8748 - val_loss: 0.3852 - val_accuracy: 0.8593\n",
      "Epoch 5/10\n",
      "399/399 [==============================] - 2s 6ms/step - loss: 0.3350 - accuracy: 0.8783 - val_loss: 0.3501 - val_accuracy: 0.8762\n",
      "Epoch 6/10\n",
      "399/399 [==============================] - 2s 6ms/step - loss: 0.3151 - accuracy: 0.8862 - val_loss: 0.3385 - val_accuracy: 0.8771\n",
      "\n",
      "Epoch 00006: val_loss improved from 0.39408 to 0.33847, saving model to /Users/jamm/Documents/Github/AI/DeepLearning_CNN/Fashion_MNIST/callbacks/weights.06-0.34.hdf5\n",
      "Epoch 7/10\n",
      "399/399 [==============================] - 2s 6ms/step - loss: 0.3018 - accuracy: 0.8907 - val_loss: 0.3572 - val_accuracy: 0.8680\n",
      "Epoch 8/10\n",
      "399/399 [==============================] - 2s 6ms/step - loss: 0.2953 - accuracy: 0.8936 - val_loss: 0.3333 - val_accuracy: 0.8802\n",
      "Epoch 9/10\n",
      "399/399 [==============================] - 2s 6ms/step - loss: 0.2811 - accuracy: 0.8979 - val_loss: 0.3376 - val_accuracy: 0.8806\n",
      "\n",
      "Epoch 00009: val_loss improved from 0.33847 to 0.33755, saving model to /Users/jamm/Documents/Github/AI/DeepLearning_CNN/Fashion_MNIST/callbacks/weights.09-0.34.hdf5\n",
      "Epoch 10/10\n",
      "399/399 [==============================] - 2s 6ms/step - loss: 0.2745 - accuracy: 0.8998 - val_loss: 0.3339 - val_accuracy: 0.8789\n"
     ]
    }
   ],
   "source": [
    "from tensorflow.keras.callbacks import ModelCheckpoint\n",
    "\n",
    "model = create_model()\n",
    "\n",
    "model.compile(\n",
    "    optimizer=Adam(0.001), loss='categorical_crossentropy', metrics=['accuracy']\n",
    ")\n",
    "\n",
    "mcp_cb = ModelCheckpoint(filepath=callback_path + '/weights.{epoch:02d}-{val_loss:.2f}.hdf5', \n",
    "                        monitor='val_loss',\n",
    "                         save_best_only=True,\n",
    "                         save_weights_only=True,\n",
    "                         mode='min',\n",
    "                         period=3,\n",
    "                         verbose=1\n",
    "                        )\n",
    "\n",
    "history = model.fit(\n",
    "    x=tr_images,\n",
    "    y=tr_oh_labels,\n",
    "    batch_size=128,\n",
    "    epochs=10,\n",
    "    validation_data=(val_images, val_oh_labels),\n",
    "    callbacks=[mcp_cb]\n",
    ")"
   ]
  },
  {
   "cell_type": "code",
   "execution_count": 11,
   "id": "3cfb9684",
   "metadata": {},
   "outputs": [
    {
     "name": "stdout",
     "output_type": "stream",
     "text": [
      "/Users/jamm/Documents/Github/AI/DeepLearning_CNN/Fashion_MNIST/callbacks\n"
     ]
    }
   ],
   "source": [
    "%cd /Users/jamm/Documents/Github/AI/DeepLearning_CNN/Fashion_MNIST/callbacks"
   ]
  },
  {
   "cell_type": "code",
   "execution_count": 12,
   "id": "5c0f639f",
   "metadata": {},
   "outputs": [
    {
     "name": "stdout",
     "output_type": "stream",
     "text": [
      "/Users/jamm/Documents/Github/AI/DeepLearning_CNN/Fashion_MNIST/callbacks\r\n"
     ]
    }
   ],
   "source": [
    "!pwd"
   ]
  },
  {
   "cell_type": "code",
   "execution_count": 13,
   "id": "f1f0c65d",
   "metadata": {},
   "outputs": [
    {
     "name": "stdout",
     "output_type": "stream",
     "text": [
      "total 2016\r\n",
      "5527260 drwxr-xr-x  5 jamm  staff     160  8 13 14:36 \u001b[34m.\u001b[m\u001b[m\r\n",
      "5318448 drwxr-xr-x  9 jamm  staff     288  8 13 14:35 \u001b[34m..\u001b[m\u001b[m\r\n",
      "5636821 -rw-r--r--  1 jamm  staff  343264  8 13 14:35 weights.03-0.39.hdf5\r\n",
      "5636850 -rw-r--r--  1 jamm  staff  343264  8 13 14:36 weights.06-0.34.hdf5\r\n",
      "5636879 -rw-r--r--  1 jamm  staff  343264  8 13 14:36 weights.09-0.34.hdf5\r\n"
     ]
    }
   ],
   "source": [
    "!ls -lia"
   ]
  },
  {
   "cell_type": "code",
   "execution_count": 14,
   "id": "6f6c75e9",
   "metadata": {},
   "outputs": [],
   "source": [
    "!rm -rf weight*"
   ]
  },
  {
   "cell_type": "code",
   "execution_count": 15,
   "id": "cf9c7055",
   "metadata": {},
   "outputs": [
    {
     "name": "stdout",
     "output_type": "stream",
     "text": [
      "total 0\r\n",
      "5527260 drwxr-xr-x  2 jamm  staff   64  8 13 14:37 \u001b[34m.\u001b[m\u001b[m\r\n",
      "5318448 drwxr-xr-x  9 jamm  staff  288  8 13 14:35 \u001b[34m..\u001b[m\u001b[m\r\n"
     ]
    }
   ],
   "source": [
    "!ls -lia"
   ]
  },
  {
   "cell_type": "code",
   "execution_count": 16,
   "id": "9cd379e2",
   "metadata": {},
   "outputs": [
    {
     "name": "stdout",
     "output_type": "stream",
     "text": [
      "/Users/jamm/Documents/Github/AI/DeepLearning_CNN/Fashion_MNIST\n"
     ]
    }
   ],
   "source": [
    "%cd .."
   ]
  },
  {
   "cell_type": "code",
   "execution_count": 17,
   "id": "aec3728b",
   "metadata": {},
   "outputs": [
    {
     "name": "stdout",
     "output_type": "stream",
     "text": [
      "/Users/jamm/Documents/Github/AI/DeepLearning_CNN/Fashion_MNIST\r\n"
     ]
    }
   ],
   "source": [
    "!pwd"
   ]
  },
  {
   "cell_type": "markdown",
   "id": "18415137",
   "metadata": {},
   "source": [
    "### ReduceLROnPlateau"
   ]
  },
  {
   "cell_type": "code",
   "execution_count": 18,
   "id": "1e6ee12b",
   "metadata": {},
   "outputs": [
    {
     "name": "stdout",
     "output_type": "stream",
     "text": [
      "Epoch 1/30\n",
      " 18/399 [>.............................] - ETA: 2s - loss: 1.8004 - accuracy: 0.3646"
     ]
    },
    {
     "name": "stderr",
     "output_type": "stream",
     "text": [
      "2021-08-13 14:41:42.364434: I tensorflow/core/grappler/optimizers/custom_graph_optimizer_registry.cc:112] Plugin optimizer for device_type GPU is enabled.\n"
     ]
    },
    {
     "name": "stdout",
     "output_type": "stream",
     "text": [
      "397/399 [============================>.] - ETA: 0s - loss: 0.6084 - accuracy: 0.7910"
     ]
    },
    {
     "name": "stderr",
     "output_type": "stream",
     "text": [
      "2021-08-13 14:41:44.659944: I tensorflow/core/grappler/optimizers/custom_graph_optimizer_registry.cc:112] Plugin optimizer for device_type GPU is enabled.\n"
     ]
    },
    {
     "name": "stdout",
     "output_type": "stream",
     "text": [
      "399/399 [==============================] - 3s 6ms/step - loss: 0.6079 - accuracy: 0.7911 - val_loss: 0.4855 - val_accuracy: 0.8262\n",
      "Epoch 2/30\n",
      "399/399 [==============================] - 2s 6ms/step - loss: 0.4181 - accuracy: 0.8545 - val_loss: 0.4086 - val_accuracy: 0.8569\n",
      "Epoch 3/30\n",
      "399/399 [==============================] - 2s 6ms/step - loss: 0.3742 - accuracy: 0.8675 - val_loss: 0.3876 - val_accuracy: 0.8624\n",
      "Epoch 4/30\n",
      "399/399 [==============================] - 2s 6ms/step - loss: 0.3449 - accuracy: 0.8761 - val_loss: 0.3560 - val_accuracy: 0.8722\n",
      "Epoch 5/30\n",
      "399/399 [==============================] - 3s 6ms/step - loss: 0.3233 - accuracy: 0.8834 - val_loss: 0.3654 - val_accuracy: 0.8682\n",
      "Epoch 6/30\n",
      "399/399 [==============================] - 2s 6ms/step - loss: 0.3105 - accuracy: 0.8883 - val_loss: 0.3415 - val_accuracy: 0.8798\n",
      "Epoch 7/30\n",
      "399/399 [==============================] - 2s 6ms/step - loss: 0.3007 - accuracy: 0.8900 - val_loss: 0.3260 - val_accuracy: 0.8827\n",
      "Epoch 8/30\n",
      "399/399 [==============================] - 2s 6ms/step - loss: 0.2905 - accuracy: 0.8948 - val_loss: 0.3504 - val_accuracy: 0.8730\n",
      "Epoch 9/30\n",
      "399/399 [==============================] - 2s 6ms/step - loss: 0.2787 - accuracy: 0.8978 - val_loss: 0.3327 - val_accuracy: 0.8807\n",
      "Epoch 10/30\n",
      "399/399 [==============================] - 2s 6ms/step - loss: 0.2700 - accuracy: 0.9017 - val_loss: 0.3104 - val_accuracy: 0.8869\n",
      "Epoch 11/30\n",
      "399/399 [==============================] - 2s 6ms/step - loss: 0.2603 - accuracy: 0.9049 - val_loss: 0.3415 - val_accuracy: 0.8760\n",
      "Epoch 12/30\n",
      "399/399 [==============================] - 2s 6ms/step - loss: 0.2553 - accuracy: 0.9056 - val_loss: 0.3379 - val_accuracy: 0.8793\n",
      "Epoch 13/30\n",
      "399/399 [==============================] - 2s 6ms/step - loss: 0.2496 - accuracy: 0.9072 - val_loss: 0.3331 - val_accuracy: 0.8804\n",
      "\n",
      "Epoch 00013: ReduceLROnPlateau reducing learning rate to 0.0003000000142492354.\n",
      "Epoch 14/30\n",
      "399/399 [==============================] - 2s 6ms/step - loss: 0.2193 - accuracy: 0.9203 - val_loss: 0.2993 - val_accuracy: 0.8926\n",
      "Epoch 15/30\n",
      "399/399 [==============================] - 2s 6ms/step - loss: 0.2147 - accuracy: 0.9211 - val_loss: 0.2972 - val_accuracy: 0.8937\n",
      "Epoch 16/30\n",
      "399/399 [==============================] - 2s 6ms/step - loss: 0.2106 - accuracy: 0.9234 - val_loss: 0.2961 - val_accuracy: 0.8957\n",
      "Epoch 17/30\n",
      "399/399 [==============================] - 2s 6ms/step - loss: 0.2080 - accuracy: 0.9238 - val_loss: 0.2963 - val_accuracy: 0.8929\n",
      "Epoch 18/30\n",
      "399/399 [==============================] - 3s 6ms/step - loss: 0.2059 - accuracy: 0.9240 - val_loss: 0.3024 - val_accuracy: 0.8930\n",
      "Epoch 19/30\n",
      "399/399 [==============================] - 2s 6ms/step - loss: 0.2034 - accuracy: 0.9254 - val_loss: 0.2998 - val_accuracy: 0.8949\n",
      "\n",
      "Epoch 00019: ReduceLROnPlateau reducing learning rate to 9.000000427477062e-05.\n",
      "Epoch 20/30\n",
      "399/399 [==============================] - 2s 6ms/step - loss: 0.1922 - accuracy: 0.9307 - val_loss: 0.2950 - val_accuracy: 0.8963\n",
      "Epoch 21/30\n",
      "399/399 [==============================] - 3s 6ms/step - loss: 0.1913 - accuracy: 0.9308 - val_loss: 0.2945 - val_accuracy: 0.8957\n",
      "Epoch 22/30\n",
      "399/399 [==============================] - 3s 6ms/step - loss: 0.1899 - accuracy: 0.9308 - val_loss: 0.2955 - val_accuracy: 0.8958\n",
      "Epoch 23/30\n",
      "399/399 [==============================] - 2s 6ms/step - loss: 0.1889 - accuracy: 0.9319 - val_loss: 0.2929 - val_accuracy: 0.8968\n",
      "Epoch 24/30\n",
      "399/399 [==============================] - 2s 6ms/step - loss: 0.1877 - accuracy: 0.9324 - val_loss: 0.2960 - val_accuracy: 0.8954\n",
      "Epoch 25/30\n",
      "399/399 [==============================] - 2s 6ms/step - loss: 0.1865 - accuracy: 0.9338 - val_loss: 0.2967 - val_accuracy: 0.8962\n",
      "Epoch 26/30\n",
      "399/399 [==============================] - 2s 6ms/step - loss: 0.1855 - accuracy: 0.9332 - val_loss: 0.2947 - val_accuracy: 0.8968\n",
      "\n",
      "Epoch 00026: ReduceLROnPlateau reducing learning rate to 2.700000040931627e-05.\n",
      "Epoch 27/30\n",
      "399/399 [==============================] - 2s 6ms/step - loss: 0.1824 - accuracy: 0.9349 - val_loss: 0.2957 - val_accuracy: 0.8966\n",
      "Epoch 28/30\n",
      "399/399 [==============================] - 2s 6ms/step - loss: 0.1818 - accuracy: 0.9350 - val_loss: 0.2945 - val_accuracy: 0.8969\n",
      "Epoch 29/30\n",
      "399/399 [==============================] - 2s 6ms/step - loss: 0.1815 - accuracy: 0.9353 - val_loss: 0.2951 - val_accuracy: 0.8967\n",
      "\n",
      "Epoch 00029: ReduceLROnPlateau reducing learning rate to 8.100000013655517e-06.\n",
      "Epoch 30/30\n",
      "399/399 [==============================] - 2s 6ms/step - loss: 0.1804 - accuracy: 0.9357 - val_loss: 0.2949 - val_accuracy: 0.8964\n"
     ]
    }
   ],
   "source": [
    "from tensorflow.keras.callbacks import ReduceLROnPlateau\n",
    "\n",
    "model = create_model()\n",
    "model.compile(optimizer=Adam(0.001), loss='categorical_crossentropy', metrics=['accuracy'])\n",
    "\n",
    "rlr_cb = ReduceLROnPlateau(\n",
    "    monitor='val_loss',\n",
    "    factor=0.3,\n",
    "    patience=3,\n",
    "    mode='min',\n",
    "    verbose=1\n",
    ")\n",
    "\n",
    "history = model.fit(\n",
    "    x=tr_images,\n",
    "    y=tr_oh_labels,\n",
    "    batch_size=128,\n",
    "    epochs=30,\n",
    "    validation_data=(val_images, val_oh_labels),\n",
    "    callbacks=[rlr_cb]\n",
    ")"
   ]
  },
  {
   "cell_type": "markdown",
   "id": "e742638c",
   "metadata": {},
   "source": [
    "### EarlyStopping"
   ]
  },
  {
   "cell_type": "code",
   "execution_count": 22,
   "id": "b00ab662",
   "metadata": {
    "scrolled": true
   },
   "outputs": [
    {
     "name": "stdout",
     "output_type": "stream",
     "text": [
      "Epoch 1/30\n",
      " 18/399 [>.............................] - ETA: 2s - loss: 1.6156 - accuracy: 0.4531"
     ]
    },
    {
     "name": "stderr",
     "output_type": "stream",
     "text": [
      "2021-08-13 14:48:12.922029: I tensorflow/core/grappler/optimizers/custom_graph_optimizer_registry.cc:112] Plugin optimizer for device_type GPU is enabled.\n"
     ]
    },
    {
     "name": "stdout",
     "output_type": "stream",
     "text": [
      "395/399 [============================>.] - ETA: 0s - loss: 0.5911 - accuracy: 0.7973"
     ]
    },
    {
     "name": "stderr",
     "output_type": "stream",
     "text": [
      "2021-08-13 14:48:15.218097: I tensorflow/core/grappler/optimizers/custom_graph_optimizer_registry.cc:112] Plugin optimizer for device_type GPU is enabled.\n"
     ]
    },
    {
     "name": "stdout",
     "output_type": "stream",
     "text": [
      "399/399 [==============================] - 3s 6ms/step - loss: 0.5898 - accuracy: 0.7976 - val_loss: 0.4563 - val_accuracy: 0.8406\n",
      "Epoch 2/30\n",
      "399/399 [==============================] - 2s 6ms/step - loss: 0.4125 - accuracy: 0.8541 - val_loss: 0.4201 - val_accuracy: 0.8502\n",
      "Epoch 3/30\n",
      "399/399 [==============================] - 2s 6ms/step - loss: 0.3754 - accuracy: 0.8657 - val_loss: 0.3778 - val_accuracy: 0.8610\n",
      "Epoch 4/30\n",
      "399/399 [==============================] - 2s 6ms/step - loss: 0.3506 - accuracy: 0.8730 - val_loss: 0.3603 - val_accuracy: 0.8679\n",
      "Epoch 5/30\n",
      "399/399 [==============================] - 2s 6ms/step - loss: 0.3358 - accuracy: 0.8795 - val_loss: 0.3577 - val_accuracy: 0.8661\n",
      "Epoch 6/30\n",
      "399/399 [==============================] - 2s 6ms/step - loss: 0.3201 - accuracy: 0.8838 - val_loss: 0.3417 - val_accuracy: 0.8748\n",
      "Epoch 7/30\n",
      "399/399 [==============================] - 2s 6ms/step - loss: 0.3052 - accuracy: 0.8883 - val_loss: 0.3382 - val_accuracy: 0.8770\n",
      "Epoch 8/30\n",
      "399/399 [==============================] - 2s 6ms/step - loss: 0.2941 - accuracy: 0.8919 - val_loss: 0.3401 - val_accuracy: 0.8768\n",
      "Epoch 9/30\n",
      "399/399 [==============================] - 2s 6ms/step - loss: 0.2843 - accuracy: 0.8953 - val_loss: 0.3477 - val_accuracy: 0.8779\n",
      "Epoch 10/30\n",
      "399/399 [==============================] - 2s 6ms/step - loss: 0.2753 - accuracy: 0.8988 - val_loss: 0.3292 - val_accuracy: 0.8794\n",
      "Epoch 11/30\n",
      "399/399 [==============================] - 2s 6ms/step - loss: 0.2610 - accuracy: 0.9037 - val_loss: 0.3132 - val_accuracy: 0.8887\n",
      "Epoch 12/30\n",
      "399/399 [==============================] - 2s 6ms/step - loss: 0.2592 - accuracy: 0.9038 - val_loss: 0.3199 - val_accuracy: 0.8830\n",
      "Epoch 13/30\n",
      "399/399 [==============================] - 2s 6ms/step - loss: 0.2509 - accuracy: 0.9076 - val_loss: 0.3164 - val_accuracy: 0.8890\n",
      "Epoch 14/30\n",
      "399/399 [==============================] - 2s 6ms/step - loss: 0.2429 - accuracy: 0.9109 - val_loss: 0.3075 - val_accuracy: 0.8882\n",
      "Epoch 15/30\n",
      "399/399 [==============================] - 2s 6ms/step - loss: 0.2346 - accuracy: 0.9130 - val_loss: 0.3232 - val_accuracy: 0.8832\n",
      "Epoch 16/30\n",
      "399/399 [==============================] - 2s 6ms/step - loss: 0.2267 - accuracy: 0.9160 - val_loss: 0.3324 - val_accuracy: 0.8819\n",
      "Epoch 17/30\n",
      "399/399 [==============================] - 2s 6ms/step - loss: 0.2228 - accuracy: 0.9174 - val_loss: 0.3116 - val_accuracy: 0.8923\n",
      "Epoch 00017: early stopping\n"
     ]
    }
   ],
   "source": [
    "from tensorflow.keras.callbacks import EarlyStopping\n",
    "\n",
    "model = create_model()\n",
    "model.compile(optimizer=Adam(0.001), loss='categorical_crossentropy', metrics=['accuracy'])\n",
    "\n",
    "ely_cb = EarlyStopping(\n",
    "    monitor='val_loss',\n",
    "    patience=3,\n",
    "    mode='min',\n",
    "    verbose=1\n",
    ")\n",
    "\n",
    "history = model.fit(\n",
    "    x=tr_images,\n",
    "    y=tr_oh_labels,\n",
    "    batch_size=128,\n",
    "    epochs=30,\n",
    "    validation_data=(val_images, val_oh_labels),\n",
    "    callbacks=[ely_cb]\n",
    ")"
   ]
  },
  {
   "cell_type": "markdown",
   "id": "d7edad59",
   "metadata": {},
   "source": [
    "### Callbacks Summary"
   ]
  },
  {
   "cell_type": "code",
   "execution_count": 26,
   "id": "f89c70af",
   "metadata": {
    "scrolled": true
   },
   "outputs": [
    {
     "name": "stdout",
     "output_type": "stream",
     "text": [
      "WARNING:tensorflow:`period` argument is deprecated. Please use `save_freq` to specify the frequency in number of batches seen.\n",
      "Epoch 1/40\n",
      " 19/399 [>.............................] - ETA: 2s - loss: 1.6796 - accuracy: 0.4630"
     ]
    },
    {
     "name": "stderr",
     "output_type": "stream",
     "text": [
      "2021-08-13 15:00:02.365632: I tensorflow/core/grappler/optimizers/custom_graph_optimizer_registry.cc:112] Plugin optimizer for device_type GPU is enabled.\n"
     ]
    },
    {
     "name": "stdout",
     "output_type": "stream",
     "text": [
      "395/399 [============================>.] - ETA: 0s - loss: 0.6109 - accuracy: 0.7910"
     ]
    },
    {
     "name": "stderr",
     "output_type": "stream",
     "text": [
      "2021-08-13 15:00:04.654883: I tensorflow/core/grappler/optimizers/custom_graph_optimizer_registry.cc:112] Plugin optimizer for device_type GPU is enabled.\n"
     ]
    },
    {
     "name": "stdout",
     "output_type": "stream",
     "text": [
      "399/399 [==============================] - 3s 6ms/step - loss: 0.6092 - accuracy: 0.7916 - val_loss: 0.5187 - val_accuracy: 0.8107\n",
      "Epoch 2/40\n",
      "399/399 [==============================] - 2s 6ms/step - loss: 0.4240 - accuracy: 0.8517 - val_loss: 0.4382 - val_accuracy: 0.8404\n",
      "Epoch 3/40\n",
      "399/399 [==============================] - 2s 6ms/step - loss: 0.3842 - accuracy: 0.8629 - val_loss: 0.3783 - val_accuracy: 0.8658\n",
      "Epoch 4/40\n",
      "399/399 [==============================] - 3s 6ms/step - loss: 0.3550 - accuracy: 0.8727 - val_loss: 0.3759 - val_accuracy: 0.8658\n",
      "Epoch 5/40\n",
      "399/399 [==============================] - 2s 6ms/step - loss: 0.3324 - accuracy: 0.8805 - val_loss: 0.3463 - val_accuracy: 0.8783\n",
      "Epoch 6/40\n",
      "399/399 [==============================] - 2s 6ms/step - loss: 0.3186 - accuracy: 0.8837 - val_loss: 0.3574 - val_accuracy: 0.8676\n",
      "Epoch 7/40\n",
      "399/399 [==============================] - 2s 6ms/step - loss: 0.3033 - accuracy: 0.8903 - val_loss: 0.3644 - val_accuracy: 0.8693\n",
      "Epoch 8/40\n",
      "399/399 [==============================] - 2s 6ms/step - loss: 0.2937 - accuracy: 0.8922 - val_loss: 0.3240 - val_accuracy: 0.8823\n",
      "Epoch 9/40\n",
      "399/399 [==============================] - 2s 6ms/step - loss: 0.2832 - accuracy: 0.8963 - val_loss: 0.3493 - val_accuracy: 0.8710\n",
      "Epoch 10/40\n",
      "399/399 [==============================] - 2s 6ms/step - loss: 0.2724 - accuracy: 0.9008 - val_loss: 0.3677 - val_accuracy: 0.8717\n",
      "Epoch 11/40\n",
      "399/399 [==============================] - 2s 6ms/step - loss: 0.2644 - accuracy: 0.9028 - val_loss: 0.3471 - val_accuracy: 0.8762\n",
      "Epoch 12/40\n",
      "399/399 [==============================] - 2s 6ms/step - loss: 0.2566 - accuracy: 0.9053 - val_loss: 0.3240 - val_accuracy: 0.8848\n",
      "Epoch 13/40\n",
      "399/399 [==============================] - 2s 6ms/step - loss: 0.2489 - accuracy: 0.9082 - val_loss: 0.3148 - val_accuracy: 0.8849\n",
      "Epoch 14/40\n",
      "399/399 [==============================] - 2s 6ms/step - loss: 0.2420 - accuracy: 0.9099 - val_loss: 0.3164 - val_accuracy: 0.8851\n",
      "Epoch 15/40\n",
      "399/399 [==============================] - 2s 6ms/step - loss: 0.2353 - accuracy: 0.9132 - val_loss: 0.3212 - val_accuracy: 0.8821\n",
      "Epoch 16/40\n",
      "399/399 [==============================] - 3s 6ms/step - loss: 0.2315 - accuracy: 0.9136 - val_loss: 0.3249 - val_accuracy: 0.8849\n",
      "Epoch 17/40\n",
      "399/399 [==============================] - 3s 6ms/step - loss: 0.2284 - accuracy: 0.9152 - val_loss: 0.3136 - val_accuracy: 0.8873\n",
      "Epoch 18/40\n",
      "399/399 [==============================] - 3s 6ms/step - loss: 0.2168 - accuracy: 0.9199 - val_loss: 0.3141 - val_accuracy: 0.8877\n",
      "Epoch 19/40\n",
      "399/399 [==============================] - 2s 6ms/step - loss: 0.2129 - accuracy: 0.9213 - val_loss: 0.3082 - val_accuracy: 0.8892\n",
      "Epoch 20/40\n",
      "399/399 [==============================] - 2s 6ms/step - loss: 0.2095 - accuracy: 0.9224 - val_loss: 0.3362 - val_accuracy: 0.8836\n",
      "Epoch 21/40\n",
      "399/399 [==============================] - 2s 6ms/step - loss: 0.2049 - accuracy: 0.9241 - val_loss: 0.3215 - val_accuracy: 0.8846\n",
      "Epoch 22/40\n",
      "399/399 [==============================] - 2s 6ms/step - loss: 0.1960 - accuracy: 0.9273 - val_loss: 0.3254 - val_accuracy: 0.8863\n",
      "Epoch 23/40\n",
      "399/399 [==============================] - 2s 6ms/step - loss: 0.1951 - accuracy: 0.9271 - val_loss: 0.3223 - val_accuracy: 0.8910\n",
      "Epoch 24/40\n",
      "399/399 [==============================] - 2s 6ms/step - loss: 0.1895 - accuracy: 0.9307 - val_loss: 0.3279 - val_accuracy: 0.8848\n",
      "\n",
      "Epoch 00024: ReduceLROnPlateau reducing learning rate to 0.0003000000142492354.\n",
      "Epoch 25/40\n",
      "399/399 [==============================] - 2s 6ms/step - loss: 0.1597 - accuracy: 0.9419 - val_loss: 0.3144 - val_accuracy: 0.8944\n",
      "Epoch 26/40\n",
      "399/399 [==============================] - 2s 6ms/step - loss: 0.1562 - accuracy: 0.9441 - val_loss: 0.3106 - val_accuracy: 0.8927\n",
      "Epoch 00026: early stopping\n"
     ]
    }
   ],
   "source": [
    "from tensorflow.keras.callbacks import ModelCheckpoint, ReduceLROnPlateau, EarlyStopping\n",
    "\n",
    "model = create_model()\n",
    "model.compile(optimizer=Adam(0.001), loss='categorical_crossentropy', metrics=['accuracy'])\n",
    "\n",
    "mcp_cb = ModelCheckpoint(\n",
    "    filepath=callback_path + '/weights.{epoch:02d}-{val_loss:.2f}.hdf5',\n",
    "    monitor='val_loss',\n",
    "    save_best_only=True,\n",
    "    save_weights_only=True,\n",
    "    mode='min',\n",
    "    period=1,\n",
    "    verbose=0\n",
    ")\n",
    "\n",
    "rlr_cb = ReduceLROnPlateau(\n",
    "    monitor='val_loss',\n",
    "    factor=0.3,\n",
    "    patience=5,\n",
    "    mode='min',\n",
    "    verbose=1\n",
    ")\n",
    "\n",
    "ely_cb = EarlyStopping(\n",
    "    monitor='val_loss',\n",
    "    patience=7,\n",
    "    mode='min',\n",
    "    verbose=1\n",
    ")\n",
    "\n",
    "history = model.fit(\n",
    "    x=tr_images,\n",
    "    y=tr_oh_labels,\n",
    "    batch_size=128,\n",
    "    epochs=40,\n",
    "    validation_data=(val_images, val_oh_labels),\n",
    "    callbacks=[mcp_cb, rlr_cb, ely_cb]\n",
    ")"
   ]
  },
  {
   "cell_type": "code",
   "execution_count": 27,
   "id": "2683f5fc",
   "metadata": {},
   "outputs": [
    {
     "name": "stdout",
     "output_type": "stream",
     "text": [
      "/Users/jamm/Documents/Github/AI/DeepLearning_CNN/Fashion_MNIST\r\n"
     ]
    }
   ],
   "source": [
    "!pwd"
   ]
  },
  {
   "cell_type": "code",
   "execution_count": 29,
   "id": "65845400",
   "metadata": {},
   "outputs": [
    {
     "name": "stdout",
     "output_type": "stream",
     "text": [
      "/Users/jamm/Documents/Github/AI/DeepLearning_CNN/Fashion_MNIST/callbacks\n"
     ]
    }
   ],
   "source": [
    "%cd /Users/jamm/Documents/Github/AI/DeepLearning_CNN/Fashion_MNIST/callbacks"
   ]
  },
  {
   "cell_type": "code",
   "execution_count": 30,
   "id": "a8615114",
   "metadata": {},
   "outputs": [
    {
     "name": "stdout",
     "output_type": "stream",
     "text": [
      "/Users/jamm/Documents/Github/AI/DeepLearning_CNN/Fashion_MNIST/callbacks\r\n"
     ]
    }
   ],
   "source": [
    "!pwd"
   ]
  },
  {
   "cell_type": "code",
   "execution_count": 31,
   "id": "24cdfe7a",
   "metadata": {},
   "outputs": [
    {
     "name": "stdout",
     "output_type": "stream",
     "text": [
      "total 6048\r\n",
      "5527260 drwxr-xr-x  11 jamm  staff     352  8 13 15:00 \u001b[34m.\u001b[m\u001b[m\r\n",
      "5318448 drwxr-xr-x   9 jamm  staff     288  8 13 15:01 \u001b[34m..\u001b[m\u001b[m\r\n",
      "5641663 -rw-r--r--   1 jamm  staff  343440  8 13 15:00 weights.01-0.52.hdf5\r\n",
      "5641665 -rw-r--r--   1 jamm  staff  343440  8 13 15:00 weights.02-0.44.hdf5\r\n",
      "5641675 -rw-r--r--   1 jamm  staff  343440  8 13 15:00 weights.03-0.38.hdf5\r\n",
      "5641696 -rw-r--r--   1 jamm  staff  343440  8 13 15:00 weights.04-0.38.hdf5\r\n",
      "5641701 -rw-r--r--   1 jamm  staff  343440  8 13 15:00 weights.05-0.35.hdf5\r\n",
      "5641729 -rw-r--r--   1 jamm  staff  343440  8 13 15:00 weights.08-0.32.hdf5\r\n",
      "5641766 -rw-r--r--   1 jamm  staff  343440  8 13 15:00 weights.13-0.31.hdf5\r\n",
      "5641796 -rw-r--r--   1 jamm  staff  343440  8 13 15:00 weights.17-0.31.hdf5\r\n",
      "5641800 -rw-r--r--   1 jamm  staff  343440  8 13 15:00 weights.19-0.31.hdf5\r\n"
     ]
    }
   ],
   "source": [
    "!ls -lia"
   ]
  },
  {
   "cell_type": "code",
   "execution_count": 32,
   "id": "463842c7",
   "metadata": {},
   "outputs": [],
   "source": [
    "!rm weight*"
   ]
  },
  {
   "cell_type": "code",
   "execution_count": 33,
   "id": "63b002ff",
   "metadata": {},
   "outputs": [
    {
     "name": "stdout",
     "output_type": "stream",
     "text": [
      "total 0\r\n",
      "5527260 drwxr-xr-x  2 jamm  staff   64  8 13 15:02 \u001b[34m.\u001b[m\u001b[m\r\n",
      "5318448 drwxr-xr-x  9 jamm  staff  288  8 13 15:01 \u001b[34m..\u001b[m\u001b[m\r\n"
     ]
    }
   ],
   "source": [
    "!ls -lia"
   ]
  },
  {
   "cell_type": "code",
   "execution_count": 34,
   "id": "7a176000",
   "metadata": {},
   "outputs": [
    {
     "name": "stdout",
     "output_type": "stream",
     "text": [
      "/Users/jamm/Documents/Github/AI/DeepLearning_CNN/Fashion_MNIST\n"
     ]
    }
   ],
   "source": [
    "%cd .."
   ]
  },
  {
   "cell_type": "code",
   "execution_count": null,
   "id": "40951750",
   "metadata": {},
   "outputs": [],
   "source": []
  }
 ],
 "metadata": {
  "kernelspec": {
   "display_name": "Python 3 (ipykernel)",
   "language": "python",
   "name": "python3"
  },
  "language_info": {
   "codemirror_mode": {
    "name": "ipython",
    "version": 3
   },
   "file_extension": ".py",
   "mimetype": "text/x-python",
   "name": "python",
   "nbconvert_exporter": "python",
   "pygments_lexer": "ipython3",
   "version": "3.9.5"
  }
 },
 "nbformat": 4,
 "nbformat_minor": 5
}
