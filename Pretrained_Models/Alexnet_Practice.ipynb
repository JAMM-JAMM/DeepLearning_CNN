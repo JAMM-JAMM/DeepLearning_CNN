{
 "cells": [
  {
   "cell_type": "code",
   "execution_count": null,
   "metadata": {
    "execution": {
     "iopub.execute_input": "2021-08-26T05:49:34.799478Z",
     "iopub.status.busy": "2021-08-26T05:49:34.799129Z",
     "iopub.status.idle": "2021-08-26T05:49:34.810098Z",
     "shell.execute_reply": "2021-08-26T05:49:34.809133Z",
     "shell.execute_reply.started": "2021-08-26T05:49:34.799403Z"
    }
   },
   "outputs": [],
   "source": [
    "import numpy as np\n",
    "import pandas as pd\n",
    "import os"
   ]
  },
  {
   "cell_type": "markdown",
   "metadata": {},
   "source": [
    "### CIFAR10 Dataset Preprocessing and Split"
   ]
  },
  {
   "cell_type": "code",
   "execution_count": null,
   "metadata": {
    "execution": {
     "iopub.execute_input": "2021-08-26T06:25:48.47674Z",
     "iopub.status.busy": "2021-08-26T06:25:48.476396Z",
     "iopub.status.idle": "2021-08-26T06:25:54.318812Z",
     "shell.execute_reply": "2021-08-26T06:25:54.31725Z",
     "shell.execute_reply.started": "2021-08-26T06:25:48.476688Z"
    }
   },
   "outputs": [],
   "source": [
    "from tensorflow.keras.datasets import cifar10\n",
    "\n",
    "(train_images, train_labels), (test_images, test_labels) = \\\n",
    "    cifar10.load_data()\n",
    "\n",
    "print('train dataset shape: ', train_images.shape, train_labels.shape)\n",
    "print('test dataset shape: ', test_images.shape, test_labels.shape)"
   ]
  },
  {
   "cell_type": "code",
   "execution_count": null,
   "metadata": {
    "execution": {
     "iopub.execute_input": "2021-08-26T06:34:53.338863Z",
     "iopub.status.busy": "2021-08-26T06:34:53.338513Z",
     "iopub.status.idle": "2021-08-26T06:34:53.347186Z",
     "shell.execute_reply": "2021-08-26T06:34:53.344597Z",
     "shell.execute_reply.started": "2021-08-26T06:34:53.338832Z"
    }
   },
   "outputs": [],
   "source": [
    "from tensorflow.keras.utils import to_categorical\n",
    "from sklearn.model_selection import train_test_split\n",
    "from tensorflow.keras.datasets import cifar10\n",
    "\n",
    "def get_preprocessed_ohe(images, labels, pre_func=None):\n",
    "    if pre_func is not None:\n",
    "        image = pre_func(images)\n",
    "    oh_labels = to_categorical(labels)\n",
    "    return images, oh_labels\n",
    "\n",
    "def get_train_valid_test_set(train_images, train_labels, test_images, test_labels, valid_size=0.15, random_state=2021):\n",
    "    train_images, train_oh_labels = get_preprocessed_ohe(train_images, train_labels)\n",
    "    test_images, test_oh_labels = get_preprocessed_ohe(test_images, test_labels)\n",
    "    \n",
    "    tr_images, val_images, tr_oh_labels, val_oh_labels = train_test_split(train_images, train_oh_labels, test_size=valid_size, random_state=random_state)\n",
    "    \n",
    "    return (tr_images, tr_oh_labels), (val_images, val_oh_labels), (test_images, test_oh_labels)\n"
   ]
  },
  {
   "cell_type": "code",
   "execution_count": null,
   "metadata": {
    "execution": {
     "iopub.execute_input": "2021-08-26T06:34:54.921446Z",
     "iopub.status.busy": "2021-08-26T06:34:54.921132Z",
     "iopub.status.idle": "2021-08-26T06:34:54.987123Z",
     "shell.execute_reply": "2021-08-26T06:34:54.986114Z",
     "shell.execute_reply.started": "2021-08-26T06:34:54.921417Z"
    }
   },
   "outputs": [],
   "source": [
    "(tr_images, tr_oh_labels), (val_images, val_oh_labels), (test_images, test_oh_labels) = \\\n",
    "    get_train_valid_test_set(train_images, train_labels, test_images, test_labels, valid_size=0.2, random_state=2021)\n",
    "\n",
    "print('train dataset shape: ', tr_images.shape, tr_oh_labels.shape)\n",
    "print('validation dataset shape: ', val_images.shape, val_oh_labels.shape)\n",
    "print('test dataset shape: ', test_images.shape, test_oh_labels.shape)"
   ]
  },
  {
   "cell_type": "markdown",
   "metadata": {},
   "source": [
    "### AlexNet Model Create"
   ]
  },
  {
   "cell_type": "code",
   "execution_count": null,
   "metadata": {
    "execution": {
     "iopub.execute_input": "2021-08-26T06:04:24.243588Z",
     "iopub.status.busy": "2021-08-26T06:04:24.24327Z",
     "iopub.status.idle": "2021-08-26T06:04:24.25826Z",
     "shell.execute_reply": "2021-08-26T06:04:24.257263Z",
     "shell.execute_reply.started": "2021-08-26T06:04:24.243556Z"
    }
   },
   "outputs": [],
   "source": [
    "from tensorflow.keras.models import Model\n",
    "from tensorflow.keras.layers import Input, Dense, Conv2D, Dropout, Flatten, Activation, MaxPooling2D, GlobalAveragePooling2D\n",
    "from tensorflow.keras.optimizers import Adam , RMSprop \n",
    "from tensorflow.keras.layers import BatchNormalization\n",
    "from tensorflow.keras.callbacks import ReduceLROnPlateau , EarlyStopping , ModelCheckpoint , LearningRateScheduler\n",
    "from tensorflow.keras import regularizers\n",
    "\n",
    "def create_alexnet(in_shape=(227, 227, 3), n_classes=10, kernel_regular=None):\n",
    "    \n",
    "    input_tensor = Input(shape=in_shape)\n",
    "    \n",
    "    x = Conv2D(filters=96, kernel_size=(11, 11), strides=(4, 4), padding='valid')(input_tensor)\n",
    "    x = Activation('relu')(x)\n",
    "    x = BatchNormalization()(x)\n",
    "    x = MaxPooling2D(pool_size=(3, 3), strides=(2, 2))(x)\n",
    "    \n",
    "    x = Conv2D(filters=256, kernel_size=(5, 5), strides=(1, 1), padding='same', kernel_regularizer=kernel_regular)(x)\n",
    "    x = Activation('relu')(x)\n",
    "    x = BatchNormalization()(x)\n",
    "    x = MaxPooling2D(pool_size=(3, 3), strides=(2, 2))(x)\n",
    "    \n",
    "    x = Conv2D(filters=384, kernel_size=(3, 3), strides=(1, 1), padding='same', kernel_regularizer=kernel_regular)(x)\n",
    "    x = Activation('relu')(x)\n",
    "    x = BatchNormalization()(x)\n",
    "    \n",
    "    x = Conv2D(filters=384, kernel_size=(3, 3), strides=(1, 1), padding='same', kernel_regularizer=kernel_regular)(x)\n",
    "    x = Activation('relu')(x)\n",
    "    x = BatchNormalization()(x)\n",
    "    \n",
    "    x = Conv2D(filters=256, kernel_size=(3, 3), strides=(1, 1), padding='same', kernel_regularizer=kernel_regular)(x)\n",
    "    x = Activation('relu')(x)\n",
    "    x = BatchNormalization()(x)\n",
    "    x = MaxPooling2D(pool_size=(3, 3), strides=(2, 2))(x)\n",
    "    \n",
    "    x = Flatten()(x)\n",
    "    \n",
    "    x = Dense(units=4096, activation='relu')(x)\n",
    "    x = Dropout(0.5)(x)\n",
    "    \n",
    "    x = Dense(units=4096, activation='relu')(x)\n",
    "    x = Dropout(0.5)(x)\n",
    "    \n",
    "    output = Dense(units=n_classes, activation='softmax')(x)\n",
    "    \n",
    "    model = Model(inputs=input_tensor, outputs=output)\n",
    "    \n",
    "    model.summary()\n",
    "\n",
    "    return model"
   ]
  },
  {
   "cell_type": "code",
   "execution_count": null,
   "metadata": {
    "execution": {
     "iopub.execute_input": "2021-08-26T06:04:24.577112Z",
     "iopub.status.busy": "2021-08-26T06:04:24.57678Z",
     "iopub.status.idle": "2021-08-26T06:04:24.740631Z",
     "shell.execute_reply": "2021-08-26T06:04:24.739666Z",
     "shell.execute_reply.started": "2021-08-26T06:04:24.577082Z"
    }
   },
   "outputs": [],
   "source": [
    "model = create_alexnet(in_shape=(227, 227, 3), n_classes=10, kernel_regular=regularizers.l2(l2=1e-4))"
   ]
  },
  {
   "cell_type": "markdown",
   "metadata": {},
   "source": [
    "### CIFAR10 Dataset의 원본 이미지 크기가 32x32이지만, AlexNet 모델이 32x32 크기의 input image를 넣게되면 오류가 발생한다. (64도 마찬가지)"
   ]
  },
  {
   "cell_type": "code",
   "execution_count": null,
   "metadata": {
    "execution": {
     "iopub.execute_input": "2021-08-26T06:09:35.427823Z",
     "iopub.status.busy": "2021-08-26T06:09:35.427484Z",
     "iopub.status.idle": "2021-08-26T06:09:35.553276Z",
     "shell.execute_reply": "2021-08-26T06:09:35.552433Z",
     "shell.execute_reply.started": "2021-08-26T06:09:35.42779Z"
    }
   },
   "outputs": [],
   "source": [
    "# model = create_alexnet(in_shape=(32, 32, 3), n_classes=10, kernel_regular=regularizers.l2(l2=1e-4))\n",
    "# model = create_alexnet(in_shape=(64, 64, 3), n_classes=10, kernel_regular=regularizers.l2(l2=1e-4))\n",
    "model = create_alexnet(in_shape=(128, 128, 3), n_classes=10, kernel_regular=regularizers.l2(l2=1e-4))"
   ]
  },
  {
   "cell_type": "markdown",
   "metadata": {},
   "source": [
    "### CIFAR10 원본 이미지 크기 32x32를 128x128로 증가시키는 Sequence Dataset 생성\n",
    "- 128x128로 CIFAR10의 모든 이미지 배열 값을 증가시키면 RAM 부족\n",
    "- 배치 크기 만큼의 개수만 원본 이미지의 크기를 128x128로 증가시킨 뒤, 이를 모델에 입력하는 로직으로 Seqence Dataset을 구성"
   ]
  },
  {
   "cell_type": "code",
   "execution_count": null,
   "metadata": {
    "execution": {
     "iopub.execute_input": "2021-08-26T06:13:46.62455Z",
     "iopub.status.busy": "2021-08-26T06:13:46.624216Z",
     "iopub.status.idle": "2021-08-26T06:13:46.628807Z",
     "shell.execute_reply": "2021-08-26T06:13:46.627918Z",
     "shell.execute_reply.started": "2021-08-26T06:13:46.624519Z"
    }
   },
   "outputs": [],
   "source": [
    "IMAGE_SIZE = 128\n",
    "BATCH_SIZE = 64"
   ]
  },
  {
   "cell_type": "code",
   "execution_count": null,
   "metadata": {
    "execution": {
     "iopub.execute_input": "2021-08-26T06:37:44.00179Z",
     "iopub.status.busy": "2021-08-26T06:37:44.001448Z",
     "iopub.status.idle": "2021-08-26T06:37:44.173149Z",
     "shell.execute_reply": "2021-08-26T06:37:44.172369Z",
     "shell.execute_reply.started": "2021-08-26T06:37:44.001759Z"
    }
   },
   "outputs": [],
   "source": [
    "from tensorflow.keras.utils import Sequence\n",
    "import cv2\n",
    "import sklearn\n",
    "\n",
    "class CIFAR_Dataset(Sequence):\n",
    "    \n",
    "    def __init__(self, images_array, labels, batch_size=BATCH_SIZE, augmentor=None, shuffle=False, pre_func=None):\n",
    "        self.images_array = images_array\n",
    "        self.labels = labels\n",
    "        self.batch_size = batch_size\n",
    "        self.augmentor = augmentor\n",
    "        self.pre_func = pre_func\n",
    "        self.shuffle = shuffle\n",
    "        if self.shuffle:\n",
    "            pass\n",
    "        \n",
    "    def __len__(self):\n",
    "        return int(np.ceil(len(self.labels)/self.batch_size))\n",
    "    \n",
    "    def __getitem__(self, index):\n",
    "        \n",
    "        images_fetch = self.images_array[index*self.batch_size:(index+1)*self.batch_size]\n",
    "        \n",
    "        if self.labels is not None:\n",
    "            label_batch = self.labels[index*self.batch_size:(index+1)*self.batch_size]\n",
    "        \n",
    "        image_batch = np.zeros((images_fetch.shape[0], IMAGE_SIZE, IMAGE_SIZE, 3), dtype='float32')\n",
    "        \n",
    "        for image_index in range(images_fetch.shape[0]):\n",
    "            image = cv2.resize(images_fetch[image_index], (IMAGE_SIZE, IMAGE_SIZE))\n",
    "            if self.augmentor is not None:\n",
    "                image = self.augmentor(image=image)['image']\n",
    "            if self.pre_func is not None:\n",
    "                image = self.pre_func(image)\n",
    "            \n",
    "            image_batch[image_index] = image\n",
    "        \n",
    "        return image_batch, label_batch\n",
    "    \n",
    "    def on_epoch_end(self):\n",
    "        if (self.shuffle):\n",
    "            self.images_array, self.labels = sklearn.utils.shuffle(self.images_array, self.labels)\n",
    "        else:\n",
    "            pass"
   ]
  },
  {
   "cell_type": "code",
   "execution_count": null,
   "metadata": {
    "execution": {
     "iopub.execute_input": "2021-08-26T06:37:46.110552Z",
     "iopub.status.busy": "2021-08-26T06:37:46.110226Z",
     "iopub.status.idle": "2021-08-26T06:37:46.114427Z",
     "shell.execute_reply": "2021-08-26T06:37:46.113596Z",
     "shell.execute_reply.started": "2021-08-26T06:37:46.110522Z"
    }
   },
   "outputs": [],
   "source": [
    "def zero_one_scaler(image):\n",
    "    return image/255.0"
   ]
  },
  {
   "cell_type": "code",
   "execution_count": null,
   "metadata": {
    "execution": {
     "iopub.execute_input": "2021-08-26T06:37:46.483058Z",
     "iopub.status.busy": "2021-08-26T06:37:46.482768Z",
     "iopub.status.idle": "2021-08-26T06:37:46.488727Z",
     "shell.execute_reply": "2021-08-26T06:37:46.487814Z",
     "shell.execute_reply.started": "2021-08-26T06:37:46.483031Z"
    }
   },
   "outputs": [],
   "source": [
    "tr_ds = CIFAR_Dataset(\n",
    "    tr_images,\n",
    "    tr_oh_labels,\n",
    "    batch_size=BATCH_SIZE,\n",
    "    augmentor=None,\n",
    "    shuffle=True,\n",
    "    pre_func=zero_one_scaler\n",
    ")\n",
    "\n",
    "val_ds = CIFAR_Dataset(\n",
    "    val_images,\n",
    "    val_oh_labels,\n",
    "    batch_size=BATCH_SIZE,\n",
    "    augmentor=None,\n",
    "    shuffle=False,\n",
    "    pre_func=zero_one_scaler\n",
    ")"
   ]
  },
  {
   "cell_type": "code",
   "execution_count": null,
   "metadata": {
    "execution": {
     "iopub.execute_input": "2021-08-26T06:39:11.450893Z",
     "iopub.status.busy": "2021-08-26T06:39:11.45054Z",
     "iopub.status.idle": "2021-08-26T06:39:11.488852Z",
     "shell.execute_reply": "2021-08-26T06:39:11.487888Z",
     "shell.execute_reply.started": "2021-08-26T06:39:11.450859Z"
    }
   },
   "outputs": [],
   "source": [
    "print('train batch shape: ', next(iter(tr_ds))[0].shape, next(iter(tr_ds))[1].shape)\n",
    "print('validation batch shape: ', next(iter(val_ds))[0].shape, next(iter(val_ds))[1].shape)\n"
   ]
  },
  {
   "cell_type": "code",
   "execution_count": null,
   "metadata": {
    "execution": {
     "iopub.execute_input": "2021-08-26T06:42:01.15478Z",
     "iopub.status.busy": "2021-08-26T06:42:01.15439Z",
     "iopub.status.idle": "2021-08-26T06:42:01.297683Z",
     "shell.execute_reply": "2021-08-26T06:42:01.296906Z",
     "shell.execute_reply.started": "2021-08-26T06:42:01.154746Z"
    }
   },
   "outputs": [],
   "source": [
    "model = create_alexnet(\n",
    "    in_shape=(128, 128, 3),\n",
    "    n_classes=10,\n",
    "    kernel_regular=regularizers.l2(l2=1e-4)\n",
    ")\n",
    "\n",
    "model.compile(\n",
    "    optimizer=Adam(lr=0.001),\n",
    "    loss='categorical_crossentropy',\n",
    "    metrics=['accuracy']\n",
    ")\n",
    "\n",
    "rlr_cb = ReduceLROnPlateau(\n",
    "    monitor='val_loss',\n",
    "    factor=0.2,\n",
    "    patience=5,\n",
    "    mode='min',\n",
    "    verbose=1\n",
    ")\n",
    "\n",
    "ely_cb = EarlyStopping(\n",
    "    monitor='val_loss',\n",
    "    patience=10,\n",
    "    mode='min',\n",
    "    verbose=1\n",
    ")"
   ]
  },
  {
   "cell_type": "code",
   "execution_count": null,
   "metadata": {
    "execution": {
     "iopub.execute_input": "2021-08-26T06:46:03.257598Z",
     "iopub.status.busy": "2021-08-26T06:46:03.257259Z",
     "iopub.status.idle": "2021-08-26T06:52:04.109564Z",
     "shell.execute_reply": "2021-08-26T06:52:04.108359Z",
     "shell.execute_reply.started": "2021-08-26T06:46:03.257569Z"
    }
   },
   "outputs": [],
   "source": [
    "history = model.fit(\n",
    "    tr_ds,\n",
    "    epochs=30,\n",
    "    validation_data=val_ds,\n",
    "    callbacks=[rlr_cb, ely_cb]\n",
    ")"
   ]
  },
  {
   "cell_type": "code",
   "execution_count": null,
   "metadata": {
    "execution": {
     "iopub.execute_input": "2021-08-26T06:55:10.527586Z",
     "iopub.status.busy": "2021-08-26T06:55:10.52725Z",
     "iopub.status.idle": "2021-08-26T06:55:13.55669Z",
     "shell.execute_reply": "2021-08-26T06:55:13.555933Z",
     "shell.execute_reply.started": "2021-08-26T06:55:10.527557Z"
    }
   },
   "outputs": [],
   "source": [
    "test_ds = CIFAR_Dataset(\n",
    "    test_images,\n",
    "    test_oh_labels,\n",
    "    batch_size=BATCH_SIZE,\n",
    "    augmentor=None,\n",
    "    shuffle=False,\n",
    "    pre_func=zero_one_scaler\n",
    ")\n",
    "\n",
    "model.evaluate(test_ds)"
   ]
  },
  {
   "cell_type": "code",
   "execution_count": null,
   "metadata": {},
   "outputs": [],
   "source": []
  }
 ],
 "metadata": {
  "kernelspec": {
   "display_name": "Python 3 (ipykernel)",
   "language": "python",
   "name": "python3"
  },
  "language_info": {
   "codemirror_mode": {
    "name": "ipython",
    "version": 3
   },
   "file_extension": ".py",
   "mimetype": "text/x-python",
   "name": "python",
   "nbconvert_exporter": "python",
   "pygments_lexer": "ipython3",
   "version": "3.9.5"
  }
 },
 "nbformat": 4,
 "nbformat_minor": 4
}
