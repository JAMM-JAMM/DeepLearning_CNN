{
 "cells": [
  {
   "cell_type": "code",
   "execution_count": 1,
   "metadata": {
    "execution": {
     "iopub.execute_input": "2021-08-27T04:20:40.054123Z",
     "iopub.status.busy": "2021-08-27T04:20:40.053468Z",
     "iopub.status.idle": "2021-08-27T04:20:40.063781Z",
     "shell.execute_reply": "2021-08-27T04:20:40.062862Z",
     "shell.execute_reply.started": "2021-08-27T04:20:40.054048Z"
    }
   },
   "outputs": [],
   "source": [
    "import numpy as np\n",
    "import pandas as pd\n",
    "import os"
   ]
  },
  {
   "cell_type": "markdown",
   "metadata": {},
   "source": [
    "### CIFAR10 Dataset Preprocessing and Split"
   ]
  },
  {
   "cell_type": "code",
   "execution_count": 2,
   "metadata": {
    "execution": {
     "iopub.execute_input": "2021-08-27T04:20:41.823237Z",
     "iopub.status.busy": "2021-08-27T04:20:41.822862Z",
     "iopub.status.idle": "2021-08-27T04:20:44.271678Z",
     "shell.execute_reply": "2021-08-27T04:20:44.270622Z",
     "shell.execute_reply.started": "2021-08-27T04:20:41.823207Z"
    }
   },
   "outputs": [
    {
     "name": "stdout",
     "output_type": "stream",
     "text": [
      "train dataset shape:  (50000, 32, 32, 3) (50000, 1)\n",
      "test dataset shape:  (10000, 32, 32, 3) (10000, 1)\n"
     ]
    }
   ],
   "source": [
    "from tensorflow.keras.datasets import cifar10\n",
    "\n",
    "(train_images, train_labels), (test_images, test_labels) = \\\n",
    "    cifar10.load_data()\n",
    "\n",
    "print('train dataset shape: ', train_images.shape, train_labels.shape)\n",
    "print('test dataset shape: ', test_images.shape, test_labels.shape)"
   ]
  },
  {
   "cell_type": "code",
   "execution_count": 3,
   "metadata": {
    "execution": {
     "iopub.execute_input": "2021-08-27T04:20:47.888217Z",
     "iopub.status.busy": "2021-08-27T04:20:47.887861Z",
     "iopub.status.idle": "2021-08-27T04:20:48.108539Z",
     "shell.execute_reply": "2021-08-27T04:20:48.107688Z",
     "shell.execute_reply.started": "2021-08-27T04:20:47.888186Z"
    }
   },
   "outputs": [],
   "source": [
    "from tensorflow.keras.utils import to_categorical\n",
    "from sklearn.model_selection import train_test_split\n",
    "from tensorflow.keras.datasets import cifar10\n",
    "\n",
    "def zero_one_scaler(image):\n",
    "    return image/255.0\n",
    "\n",
    "def get_preprocessed_ohe(images, labels, pre_func=None):\n",
    "    if pre_func is not None:\n",
    "        image = pre_func(images)\n",
    "    oh_labels = to_categorical(labels)\n",
    "    return images, oh_labels\n",
    "\n",
    "def get_train_valid_test_set(train_images, train_labels, test_images, test_labels, valid_size=0.15, random_state=2021):\n",
    "    train_images, train_oh_labels = get_preprocessed_ohe(train_images, train_labels)\n",
    "    test_images, test_oh_labels = get_preprocessed_ohe(test_images, test_labels)\n",
    "    \n",
    "    tr_images, val_images, tr_oh_labels, val_oh_labels = train_test_split(train_images, train_oh_labels, test_size=valid_size, random_state=random_state)\n",
    "    \n",
    "    return (tr_images, tr_oh_labels), (val_images, val_oh_labels), (test_images, test_oh_labels)"
   ]
  },
  {
   "cell_type": "code",
   "execution_count": 4,
   "metadata": {
    "execution": {
     "iopub.execute_input": "2021-08-27T04:20:48.435799Z",
     "iopub.status.busy": "2021-08-27T04:20:48.435479Z",
     "iopub.status.idle": "2021-08-27T04:20:48.498022Z",
     "shell.execute_reply": "2021-08-27T04:20:48.497059Z",
     "shell.execute_reply.started": "2021-08-27T04:20:48.435769Z"
    }
   },
   "outputs": [
    {
     "name": "stdout",
     "output_type": "stream",
     "text": [
      "train dataset shape:  (40000, 32, 32, 3) (40000, 10)\n",
      "validation dataset shape:  (10000, 32, 32, 3) (10000, 10)\n",
      "test dataset shape:  (10000, 32, 32, 3) (10000, 10)\n"
     ]
    }
   ],
   "source": [
    "(tr_images, tr_oh_labels), (val_images, val_oh_labels), (test_images, test_oh_labels) = \\\n",
    "    get_train_valid_test_set(train_images, train_labels, test_images, test_labels, valid_size=0.2, random_state=2021)\n",
    "\n",
    "print('train dataset shape: ', tr_images.shape, tr_oh_labels.shape)\n",
    "print('validation dataset shape: ', val_images.shape, val_oh_labels.shape)\n",
    "print('test dataset shape: ', test_images.shape, test_oh_labels.shape)"
   ]
  },
  {
   "cell_type": "markdown",
   "metadata": {},
   "source": [
    "### Pretrained VGG16 Model Structure"
   ]
  },
  {
   "cell_type": "code",
   "execution_count": 5,
   "metadata": {
    "execution": {
     "iopub.execute_input": "2021-08-27T04:20:51.630088Z",
     "iopub.status.busy": "2021-08-27T04:20:51.629735Z",
     "iopub.status.idle": "2021-08-27T04:20:54.492809Z",
     "shell.execute_reply": "2021-08-27T04:20:54.491989Z",
     "shell.execute_reply.started": "2021-08-27T04:20:51.630056Z"
    }
   },
   "outputs": [
    {
     "name": "stdout",
     "output_type": "stream",
     "text": [
      "Model: \"model\"\n",
      "_________________________________________________________________\n",
      "Layer (type)                 Output Shape              Param #   \n",
      "=================================================================\n",
      "input_1 (InputLayer)         [(None, 224, 224, 3)]     0         \n",
      "_________________________________________________________________\n",
      "block1_conv1 (Conv2D)        (None, 224, 224, 64)      1792      \n",
      "_________________________________________________________________\n",
      "block1_conv2 (Conv2D)        (None, 224, 224, 64)      36928     \n",
      "_________________________________________________________________\n",
      "block1_pool (MaxPooling2D)   (None, 112, 112, 64)      0         \n",
      "_________________________________________________________________\n",
      "block2_conv1 (Conv2D)        (None, 112, 112, 128)     73856     \n",
      "_________________________________________________________________\n",
      "block2_conv2 (Conv2D)        (None, 112, 112, 128)     147584    \n",
      "_________________________________________________________________\n",
      "block2_pool (MaxPooling2D)   (None, 56, 56, 128)       0         \n",
      "_________________________________________________________________\n",
      "block3_conv1 (Conv2D)        (None, 56, 56, 256)       295168    \n",
      "_________________________________________________________________\n",
      "block3_conv2 (Conv2D)        (None, 56, 56, 256)       590080    \n",
      "_________________________________________________________________\n",
      "block3_conv3 (Conv2D)        (None, 56, 56, 256)       590080    \n",
      "_________________________________________________________________\n",
      "block3_pool (MaxPooling2D)   (None, 28, 28, 256)       0         \n",
      "_________________________________________________________________\n",
      "block4_conv1 (Conv2D)        (None, 28, 28, 512)       1180160   \n",
      "_________________________________________________________________\n",
      "block4_conv2 (Conv2D)        (None, 28, 28, 512)       2359808   \n",
      "_________________________________________________________________\n",
      "block4_conv3 (Conv2D)        (None, 28, 28, 512)       2359808   \n",
      "_________________________________________________________________\n",
      "block4_pool (MaxPooling2D)   (None, 14, 14, 512)       0         \n",
      "_________________________________________________________________\n",
      "block5_conv1 (Conv2D)        (None, 14, 14, 512)       2359808   \n",
      "_________________________________________________________________\n",
      "block5_conv2 (Conv2D)        (None, 14, 14, 512)       2359808   \n",
      "_________________________________________________________________\n",
      "block5_conv3 (Conv2D)        (None, 14, 14, 512)       2359808   \n",
      "_________________________________________________________________\n",
      "block5_pool (MaxPooling2D)   (None, 7, 7, 512)         0         \n",
      "_________________________________________________________________\n",
      "flatten (Flatten)            (None, 25088)             0         \n",
      "_________________________________________________________________\n",
      "fc1 (Dense)                  (None, 4096)              102764544 \n",
      "_________________________________________________________________\n",
      "fc2 (Dense)                  (None, 4096)              16781312  \n",
      "_________________________________________________________________\n",
      "predictions (Dense)          (None, 1000)              4097000   \n",
      "=================================================================\n",
      "Total params: 138,357,544\n",
      "Trainable params: 138,357,544\n",
      "Non-trainable params: 0\n",
      "_________________________________________________________________\n"
     ]
    }
   ],
   "source": [
    "from tensorflow.keras.applications.vgg16 import VGG16\n",
    "from tensorflow.keras.layers import Input\n",
    "from tensorflow.keras.models import Model\n",
    "\n",
    "input_tensor = Input(shape=(224, 224, 3))\n",
    "base_model = VGG16(input_tensor=input_tensor, include_top=True, weights='imagenet')\n",
    "model = Model(inputs=input_tensor, outputs=base_model.output)\n",
    "model.summary()"
   ]
  },
  {
   "cell_type": "markdown",
   "metadata": {},
   "source": [
    "### VGG16 Model Create"
   ]
  },
  {
   "cell_type": "code",
   "execution_count": 6,
   "metadata": {
    "execution": {
     "iopub.execute_input": "2021-08-27T04:20:58.977615Z",
     "iopub.status.busy": "2021-08-27T04:20:58.977270Z",
     "iopub.status.idle": "2021-08-27T04:20:58.995677Z",
     "shell.execute_reply": "2021-08-27T04:20:58.994840Z",
     "shell.execute_reply.started": "2021-08-27T04:20:58.977582Z"
    }
   },
   "outputs": [],
   "source": [
    "from tensorflow.keras.models import Model\n",
    "from tensorflow.keras.layers import Input, Dense, Conv2D, Dropout, Flatten, Activation, MaxPooling2D, GlobalAveragePooling2D\n",
    "from tensorflow.keras.optimizers import Adam\n",
    "\n",
    "def create_vggnet(in_shape=(224, 224, 3), n_classes=10):\n",
    "    \n",
    "    input_tensor = Input(shape=in_shape)\n",
    "    \n",
    "    # Block 1\n",
    "    x = Conv2D(64, (3, 3), activation='relu', padding='same', name='block1_conv1')(input_tensor)\n",
    "    x = Conv2D(64, (3, 3), activation='relu', padding='same', name='block1_conv2')(x)\n",
    "    x = MaxPooling2D((2, 2), strides=(2, 2), name='block1_pool')(x)\n",
    "    \n",
    "    # Block 2\n",
    "    x = Conv2D(128, (3, 3), activation='relu', padding='same', name='block2_conv1')(x)\n",
    "    x = Conv2D(128, (3, 3), activation='relu', padding='same', name='block2_conv2')(x)\n",
    "    x = MaxPooling2D((2, 2), strides=(2, 2), name='block2_pool')(x)\n",
    "    \n",
    "    # Block 3\n",
    "    x = Conv2D(256, (3, 3), activation='relu', padding='same', name='block3_conv1')(x)\n",
    "    x = Conv2D(256, (3, 3), activation='relu', padding='same', name='block3_conv2')(x)\n",
    "    x = Conv2D(256, (3, 3), activation='relu', padding='same', name='block3_conv3')(x)\n",
    "    x = MaxPooling2D((2, 2), strides=(2, 2), name='block3_pool')(x)\n",
    "    \n",
    "    # Block 4\n",
    "    x = Conv2D(512, (3, 3), activation='relu', padding='same', name='block4_conv1')(x)\n",
    "    x = Conv2D(512, (3, 3), activation='relu', padding='same', name='block4_conv2')(x)\n",
    "    x = Conv2D(512, (3, 3), activation='relu', padding='same', name='block4_conv3')(x)\n",
    "    x = MaxPooling2D((2, 2), strides=(2, 2), name='block4_pool')(x)\n",
    "    \n",
    "    # Block 5\n",
    "    x = Conv2D(512, (3, 3), activation='relu', padding='same', name='block5_conv1')(x)\n",
    "    x = Conv2D(512, (3, 3), activation='relu', padding='same', name='block5_conv2')(x)\n",
    "    x = Conv2D(512, (3, 3), activation='relu', padding='same', name='block5_conv3')(x)\n",
    "    x = MaxPooling2D((2, 2), strides=(2, 2), name='block5_pool')(x)\n",
    "    \n",
    "    x = GlobalAveragePooling2D()(x)\n",
    "    x = Dropout(0.5)(x)\n",
    "    x = Dense(units=120, activation='relu')(x)\n",
    "    x = Dropout(0.5)(x)\n",
    "    \n",
    "    output = Dense(units=n_classes, activation='softmax')(x)\n",
    "    \n",
    "    model = Model(inputs=input_tensor, outputs=output)\n",
    "    \n",
    "    model.summary()\n",
    "    \n",
    "    return model"
   ]
  },
  {
   "cell_type": "code",
   "execution_count": 7,
   "metadata": {
    "execution": {
     "iopub.execute_input": "2021-08-27T04:21:03.027264Z",
     "iopub.status.busy": "2021-08-27T04:21:03.026889Z",
     "iopub.status.idle": "2021-08-27T04:21:03.167642Z",
     "shell.execute_reply": "2021-08-27T04:21:03.166823Z",
     "shell.execute_reply.started": "2021-08-27T04:21:03.027233Z"
    }
   },
   "outputs": [
    {
     "name": "stdout",
     "output_type": "stream",
     "text": [
      "Model: \"model_1\"\n",
      "_________________________________________________________________\n",
      "Layer (type)                 Output Shape              Param #   \n",
      "=================================================================\n",
      "input_2 (InputLayer)         [(None, 224, 224, 3)]     0         \n",
      "_________________________________________________________________\n",
      "block1_conv1 (Conv2D)        (None, 224, 224, 64)      1792      \n",
      "_________________________________________________________________\n",
      "block1_conv2 (Conv2D)        (None, 224, 224, 64)      36928     \n",
      "_________________________________________________________________\n",
      "block1_pool (MaxPooling2D)   (None, 112, 112, 64)      0         \n",
      "_________________________________________________________________\n",
      "block2_conv1 (Conv2D)        (None, 112, 112, 128)     73856     \n",
      "_________________________________________________________________\n",
      "block2_conv2 (Conv2D)        (None, 112, 112, 128)     147584    \n",
      "_________________________________________________________________\n",
      "block2_pool (MaxPooling2D)   (None, 56, 56, 128)       0         \n",
      "_________________________________________________________________\n",
      "block3_conv1 (Conv2D)        (None, 56, 56, 256)       295168    \n",
      "_________________________________________________________________\n",
      "block3_conv2 (Conv2D)        (None, 56, 56, 256)       590080    \n",
      "_________________________________________________________________\n",
      "block3_conv3 (Conv2D)        (None, 56, 56, 256)       590080    \n",
      "_________________________________________________________________\n",
      "block3_pool (MaxPooling2D)   (None, 28, 28, 256)       0         \n",
      "_________________________________________________________________\n",
      "block4_conv1 (Conv2D)        (None, 28, 28, 512)       1180160   \n",
      "_________________________________________________________________\n",
      "block4_conv2 (Conv2D)        (None, 28, 28, 512)       2359808   \n",
      "_________________________________________________________________\n",
      "block4_conv3 (Conv2D)        (None, 28, 28, 512)       2359808   \n",
      "_________________________________________________________________\n",
      "block4_pool (MaxPooling2D)   (None, 14, 14, 512)       0         \n",
      "_________________________________________________________________\n",
      "block5_conv1 (Conv2D)        (None, 14, 14, 512)       2359808   \n",
      "_________________________________________________________________\n",
      "block5_conv2 (Conv2D)        (None, 14, 14, 512)       2359808   \n",
      "_________________________________________________________________\n",
      "block5_conv3 (Conv2D)        (None, 14, 14, 512)       2359808   \n",
      "_________________________________________________________________\n",
      "block5_pool (MaxPooling2D)   (None, 7, 7, 512)         0         \n",
      "_________________________________________________________________\n",
      "global_average_pooling2d (Gl (None, 512)               0         \n",
      "_________________________________________________________________\n",
      "dropout (Dropout)            (None, 512)               0         \n",
      "_________________________________________________________________\n",
      "dense (Dense)                (None, 120)               61560     \n",
      "_________________________________________________________________\n",
      "dropout_1 (Dropout)          (None, 120)               0         \n",
      "_________________________________________________________________\n",
      "dense_1 (Dense)              (None, 10)                1210      \n",
      "=================================================================\n",
      "Total params: 14,777,458\n",
      "Trainable params: 14,777,458\n",
      "Non-trainable params: 0\n",
      "_________________________________________________________________\n"
     ]
    }
   ],
   "source": [
    "model = create_vggnet(in_shape=(224, 224, 3), n_classes=10)"
   ]
  },
  {
   "cell_type": "code",
   "execution_count": 8,
   "metadata": {
    "execution": {
     "iopub.execute_input": "2021-08-27T04:21:03.357758Z",
     "iopub.status.busy": "2021-08-27T04:21:03.357461Z",
     "iopub.status.idle": "2021-08-27T04:21:03.364938Z",
     "shell.execute_reply": "2021-08-27T04:21:03.364024Z",
     "shell.execute_reply.started": "2021-08-27T04:21:03.357729Z"
    }
   },
   "outputs": [],
   "source": [
    "from tensorflow.keras.layers import Conv2D, Dense, MaxPooling2D, GlobalAveragePooling2D\n",
    "from tensorflow.keras.models import Model\n",
    "\n",
    "def conv_block(tensor_in, filters, kernel_size, repeats=2, pool_strides=(2, 2), block_id=1):\n",
    "    \n",
    "    x = tensor_in\n",
    "    \n",
    "    for i in range(repeats):\n",
    "        conv_name = 'block' + str(block_id) + '_conv' + str(i+1)\n",
    "        x = Conv2D(filters=filters, kernel_size=kernel_size, activation='relu', padding='same', name=conv_name)(x)\n",
    "    \n",
    "    x = MaxPooling2D((2, 2), strides=pool_strides, name='block'+str(block_id)+'_pool')(x)\n",
    "    \n",
    "    return x"
   ]
  },
  {
   "cell_type": "code",
   "execution_count": 9,
   "metadata": {
    "execution": {
     "iopub.execute_input": "2021-08-27T04:21:07.873012Z",
     "iopub.status.busy": "2021-08-27T04:21:07.872658Z",
     "iopub.status.idle": "2021-08-27T04:21:07.882990Z",
     "shell.execute_reply": "2021-08-27T04:21:07.881873Z",
     "shell.execute_reply.started": "2021-08-27T04:21:07.872981Z"
    }
   },
   "outputs": [],
   "source": [
    "def create_vggnet_by_block(in_shape=(224, 224, 3), n_classes=10):\n",
    "    \n",
    "    input_tensor = Input(shape=in_shape, name='Input Tensor')\n",
    "    \n",
    "    x = conv_block(input_tensor, filters=64, kernel_size=(3, 3), repeats=2, pool_strides=(2, 2), block_id=1)\n",
    "    \n",
    "    x = conv_block(x, filters=128, kernel_size=(3, 3), repeats=2, pool_strides=(2, 2), block_id=2)\n",
    "    \n",
    "    x = conv_block(x, filters=256, kernel_size=(3, 3), repeats=3, pool_strides=(2, 2), block_id=3)\n",
    "    \n",
    "    x = conv_block(x, filters=512, kernel_size=(3, 3), repeats=3, pool_strides=(2, 2), block_id=4)\n",
    "    \n",
    "    x = conv_block(x, filters=512, kernel_size=(3, 3), repeats=3, pool_strides=(2, 2), block_id=5)\n",
    "    \n",
    "    x = GlobalAveragePooling2D()(x)\n",
    "    x = Dropout(0.5)(x)\n",
    "    x = Dense(units=120, activation='relu')(x)\n",
    "    x = Dropout(0.5)(x)\n",
    "    \n",
    "    output = Dense(units=n_classes, activation='softmax')(x)\n",
    "    \n",
    "    model = Model(inputs=input_tensor, outputs=output, name='vgg_by_block')\n",
    "    \n",
    "    model.summary()\n",
    "    \n",
    "    return model"
   ]
  },
  {
   "cell_type": "code",
   "execution_count": 10,
   "metadata": {
    "execution": {
     "iopub.execute_input": "2021-08-27T04:21:12.404257Z",
     "iopub.status.busy": "2021-08-27T04:21:12.403903Z",
     "iopub.status.idle": "2021-08-27T04:21:12.540987Z",
     "shell.execute_reply": "2021-08-27T04:21:12.540176Z",
     "shell.execute_reply.started": "2021-08-27T04:21:12.404229Z"
    }
   },
   "outputs": [
    {
     "name": "stdout",
     "output_type": "stream",
     "text": [
      "Model: \"vgg_by_block\"\n",
      "_________________________________________________________________\n",
      "Layer (type)                 Output Shape              Param #   \n",
      "=================================================================\n",
      "Input Tensor (InputLayer)    [(None, 224, 224, 3)]     0         \n",
      "_________________________________________________________________\n",
      "block1_conv1 (Conv2D)        (None, 224, 224, 64)      1792      \n",
      "_________________________________________________________________\n",
      "block1_conv2 (Conv2D)        (None, 224, 224, 64)      36928     \n",
      "_________________________________________________________________\n",
      "block1_pool (MaxPooling2D)   (None, 112, 112, 64)      0         \n",
      "_________________________________________________________________\n",
      "block2_conv1 (Conv2D)        (None, 112, 112, 128)     73856     \n",
      "_________________________________________________________________\n",
      "block2_conv2 (Conv2D)        (None, 112, 112, 128)     147584    \n",
      "_________________________________________________________________\n",
      "block2_pool (MaxPooling2D)   (None, 56, 56, 128)       0         \n",
      "_________________________________________________________________\n",
      "block3_conv1 (Conv2D)        (None, 56, 56, 256)       295168    \n",
      "_________________________________________________________________\n",
      "block3_conv2 (Conv2D)        (None, 56, 56, 256)       590080    \n",
      "_________________________________________________________________\n",
      "block3_conv3 (Conv2D)        (None, 56, 56, 256)       590080    \n",
      "_________________________________________________________________\n",
      "block3_pool (MaxPooling2D)   (None, 28, 28, 256)       0         \n",
      "_________________________________________________________________\n",
      "block4_conv1 (Conv2D)        (None, 28, 28, 512)       1180160   \n",
      "_________________________________________________________________\n",
      "block4_conv2 (Conv2D)        (None, 28, 28, 512)       2359808   \n",
      "_________________________________________________________________\n",
      "block4_conv3 (Conv2D)        (None, 28, 28, 512)       2359808   \n",
      "_________________________________________________________________\n",
      "block4_pool (MaxPooling2D)   (None, 14, 14, 512)       0         \n",
      "_________________________________________________________________\n",
      "block5_conv1 (Conv2D)        (None, 14, 14, 512)       2359808   \n",
      "_________________________________________________________________\n",
      "block5_conv2 (Conv2D)        (None, 14, 14, 512)       2359808   \n",
      "_________________________________________________________________\n",
      "block5_conv3 (Conv2D)        (None, 14, 14, 512)       2359808   \n",
      "_________________________________________________________________\n",
      "block5_pool (MaxPooling2D)   (None, 7, 7, 512)         0         \n",
      "_________________________________________________________________\n",
      "global_average_pooling2d_1 ( (None, 512)               0         \n",
      "_________________________________________________________________\n",
      "dropout_2 (Dropout)          (None, 512)               0         \n",
      "_________________________________________________________________\n",
      "dense_2 (Dense)              (None, 120)               61560     \n",
      "_________________________________________________________________\n",
      "dropout_3 (Dropout)          (None, 120)               0         \n",
      "_________________________________________________________________\n",
      "dense_3 (Dense)              (None, 10)                1210      \n",
      "=================================================================\n",
      "Total params: 14,777,458\n",
      "Trainable params: 14,777,458\n",
      "Non-trainable params: 0\n",
      "_________________________________________________________________\n"
     ]
    }
   ],
   "source": [
    "model = create_vggnet_by_block(in_shape=(224, 224, 3), n_classes=10)"
   ]
  },
  {
   "cell_type": "markdown",
   "metadata": {},
   "source": [
    "### CIFAR10 Sequence Dataset"
   ]
  },
  {
   "cell_type": "code",
   "execution_count": 11,
   "metadata": {
    "execution": {
     "iopub.execute_input": "2021-08-27T04:21:15.075767Z",
     "iopub.status.busy": "2021-08-27T04:21:15.075446Z",
     "iopub.status.idle": "2021-08-27T04:21:15.079330Z",
     "shell.execute_reply": "2021-08-27T04:21:15.078465Z",
     "shell.execute_reply.started": "2021-08-27T04:21:15.075737Z"
    }
   },
   "outputs": [],
   "source": [
    "IMAGE_SIZE = 128\n",
    "BATCH_SIZE = 64"
   ]
  },
  {
   "cell_type": "code",
   "execution_count": 12,
   "metadata": {
    "execution": {
     "iopub.execute_input": "2021-08-27T04:21:17.474851Z",
     "iopub.status.busy": "2021-08-27T04:21:17.474529Z",
     "iopub.status.idle": "2021-08-27T04:21:17.499150Z",
     "shell.execute_reply": "2021-08-27T04:21:17.498372Z",
     "shell.execute_reply.started": "2021-08-27T04:21:17.474821Z"
    }
   },
   "outputs": [],
   "source": [
    "from tensorflow.keras.utils import Sequence\n",
    "import cv2\n",
    "import sklearn\n",
    "\n",
    "class CIFAR_Dataset(Sequence):\n",
    "    \n",
    "    def __init__(self, images_array, labels, batch_size=BATCH_SIZE, augmentor=None, shuffle=False, pre_func=None):\n",
    "        self.images_array = images_array\n",
    "        self.labels = labels\n",
    "        self.batch_size = batch_size\n",
    "        self.augmentor = augmentor\n",
    "        self.pre_func = pre_func\n",
    "        self.shuffle = shuffle\n",
    "        if self.shuffle:\n",
    "            pass\n",
    "        \n",
    "    def __len__(self):\n",
    "        return int(np.ceil(len(self.labels)/self.batch_size))\n",
    "    \n",
    "    def __getitem__(self, index):\n",
    "        \n",
    "        images_fetch = self.images_array[index*self.batch_size:(index+1)*self.batch_size]\n",
    "        \n",
    "        if self.labels is not None:\n",
    "            label_batch = self.labels[index*self.batch_size:(index+1)*self.batch_size]\n",
    "        \n",
    "        image_batch = np.zeros((images_fetch.shape[0], IMAGE_SIZE, IMAGE_SIZE, 3), dtype='float32')\n",
    "        \n",
    "        for image_index in range(images_fetch.shape[0]):\n",
    "            image = cv2.resize(images_fetch[image_index], (IMAGE_SIZE, IMAGE_SIZE))\n",
    "            if self.augmentor is not None:\n",
    "                image = self.augmentor(image=image)['image']\n",
    "            if self.pre_func is not None:\n",
    "                image = self.pre_func(image)\n",
    "            \n",
    "            image_batch[image_index] = image\n",
    "        \n",
    "        return image_batch, label_batch\n",
    "    \n",
    "    def on_epoch_end(self):\n",
    "        if (self.shuffle):\n",
    "            self.images_array, self.labels = sklearn.utils.shuffle(self.images_array, self.labels)\n",
    "        else:\n",
    "            pass"
   ]
  },
  {
   "cell_type": "markdown",
   "metadata": {},
   "source": [
    "### Train, Validation CIFAR10 Dataset Create"
   ]
  },
  {
   "cell_type": "code",
   "execution_count": 15,
   "metadata": {
    "execution": {
     "iopub.execute_input": "2021-08-27T04:24:13.122249Z",
     "iopub.status.busy": "2021-08-27T04:24:13.121865Z",
     "iopub.status.idle": "2021-08-27T04:24:13.128384Z",
     "shell.execute_reply": "2021-08-27T04:24:13.127413Z",
     "shell.execute_reply.started": "2021-08-27T04:24:13.122217Z"
    }
   },
   "outputs": [],
   "source": [
    "from tensorflow.keras.applications.vgg16 import preprocess_input as vgg_preprocess\n",
    "\n",
    "tr_ds = CIFAR_Dataset(tr_images, tr_oh_labels, batch_size=BATCH_SIZE, augmentor=None, shuffle=True, pre_func=vgg_preprocess)\n",
    "val_ds = CIFAR_Dataset(val_images, val_oh_labels, batch_size=BATCH_SIZE, augmentor=None, shuffle=False, pre_func=vgg_preprocess)\n"
   ]
  },
  {
   "cell_type": "code",
   "execution_count": 16,
   "metadata": {
    "execution": {
     "iopub.execute_input": "2021-08-27T04:24:14.083913Z",
     "iopub.status.busy": "2021-08-27T04:24:14.083581Z",
     "iopub.status.idle": "2021-08-27T04:24:14.213331Z",
     "shell.execute_reply": "2021-08-27T04:24:14.211235Z",
     "shell.execute_reply.started": "2021-08-27T04:24:14.083879Z"
    }
   },
   "outputs": [
    {
     "name": "stdout",
     "output_type": "stream",
     "text": [
      "train batch shape:  (64, 128, 128, 3) (64, 10)\n",
      "validation batch shape:  (64, 128, 128, 3) (64, 10)\n"
     ]
    }
   ],
   "source": [
    "print('train batch shape: ', next(iter(tr_ds))[0].shape, next(iter(tr_ds))[1].shape)\n",
    "print('validation batch shape: ', next(iter(val_ds))[0].shape, next(iter(val_ds))[1].shape)"
   ]
  },
  {
   "cell_type": "markdown",
   "metadata": {},
   "source": [
    "### VGG16 Model Create and Fit and Evaluation"
   ]
  },
  {
   "cell_type": "code",
   "execution_count": 20,
   "metadata": {
    "execution": {
     "iopub.execute_input": "2021-08-27T04:27:56.534849Z",
     "iopub.status.busy": "2021-08-27T04:27:56.534450Z",
     "iopub.status.idle": "2021-08-27T04:27:56.685555Z",
     "shell.execute_reply": "2021-08-27T04:27:56.684767Z",
     "shell.execute_reply.started": "2021-08-27T04:27:56.534817Z"
    }
   },
   "outputs": [
    {
     "name": "stdout",
     "output_type": "stream",
     "text": [
      "Model: \"vgg_by_block\"\n",
      "_________________________________________________________________\n",
      "Layer (type)                 Output Shape              Param #   \n",
      "=================================================================\n",
      "Input Tensor (InputLayer)    [(None, 128, 128, 3)]     0         \n",
      "_________________________________________________________________\n",
      "block1_conv1 (Conv2D)        (None, 128, 128, 64)      1792      \n",
      "_________________________________________________________________\n",
      "block1_conv2 (Conv2D)        (None, 128, 128, 64)      36928     \n",
      "_________________________________________________________________\n",
      "block1_pool (MaxPooling2D)   (None, 64, 64, 64)        0         \n",
      "_________________________________________________________________\n",
      "block2_conv1 (Conv2D)        (None, 64, 64, 128)       73856     \n",
      "_________________________________________________________________\n",
      "block2_conv2 (Conv2D)        (None, 64, 64, 128)       147584    \n",
      "_________________________________________________________________\n",
      "block2_pool (MaxPooling2D)   (None, 32, 32, 128)       0         \n",
      "_________________________________________________________________\n",
      "block3_conv1 (Conv2D)        (None, 32, 32, 256)       295168    \n",
      "_________________________________________________________________\n",
      "block3_conv2 (Conv2D)        (None, 32, 32, 256)       590080    \n",
      "_________________________________________________________________\n",
      "block3_conv3 (Conv2D)        (None, 32, 32, 256)       590080    \n",
      "_________________________________________________________________\n",
      "block3_pool (MaxPooling2D)   (None, 16, 16, 256)       0         \n",
      "_________________________________________________________________\n",
      "block4_conv1 (Conv2D)        (None, 16, 16, 512)       1180160   \n",
      "_________________________________________________________________\n",
      "block4_conv2 (Conv2D)        (None, 16, 16, 512)       2359808   \n",
      "_________________________________________________________________\n",
      "block4_conv3 (Conv2D)        (None, 16, 16, 512)       2359808   \n",
      "_________________________________________________________________\n",
      "block4_pool (MaxPooling2D)   (None, 8, 8, 512)         0         \n",
      "_________________________________________________________________\n",
      "block5_conv1 (Conv2D)        (None, 8, 8, 512)         2359808   \n",
      "_________________________________________________________________\n",
      "block5_conv2 (Conv2D)        (None, 8, 8, 512)         2359808   \n",
      "_________________________________________________________________\n",
      "block5_conv3 (Conv2D)        (None, 8, 8, 512)         2359808   \n",
      "_________________________________________________________________\n",
      "block5_pool (MaxPooling2D)   (None, 4, 4, 512)         0         \n",
      "_________________________________________________________________\n",
      "global_average_pooling2d_4 ( (None, 512)               0         \n",
      "_________________________________________________________________\n",
      "dropout_8 (Dropout)          (None, 512)               0         \n",
      "_________________________________________________________________\n",
      "dense_8 (Dense)              (None, 120)               61560     \n",
      "_________________________________________________________________\n",
      "dropout_9 (Dropout)          (None, 120)               0         \n",
      "_________________________________________________________________\n",
      "dense_9 (Dense)              (None, 10)                1210      \n",
      "=================================================================\n",
      "Total params: 14,777,458\n",
      "Trainable params: 14,777,458\n",
      "Non-trainable params: 0\n",
      "_________________________________________________________________\n"
     ]
    }
   ],
   "source": [
    "from tensorflow.keras.callbacks import ReduceLROnPlateau , EarlyStopping , ModelCheckpoint , LearningRateScheduler\n",
    "\n",
    "vgg_model = create_vggnet_by_block(in_shape=(128, 128, 3), n_classes=10)\n",
    "\n",
    "vgg_model.compile(\n",
    "    optimizer=Adam(lr=0.0001),\n",
    "    loss='categorical_crossentropy',\n",
    "    metrics=['accuracy']\n",
    ")\n",
    "\n",
    "rlr_cb = ReduceLROnPlateau(\n",
    "    monitor='val_loss',\n",
    "    factor=0.2,\n",
    "    patience=5,\n",
    "    mode='min',\n",
    "    verbose=1\n",
    ")\n",
    "\n",
    "ely_cb = EarlyStopping(\n",
    "    monitor='val_loss',\n",
    "    patience=10,\n",
    "    mode='min',\n",
    "    verbose=1\n",
    ")"
   ]
  },
  {
   "cell_type": "code",
   "execution_count": 21,
   "metadata": {
    "execution": {
     "iopub.execute_input": "2021-08-27T04:28:07.866203Z",
     "iopub.status.busy": "2021-08-27T04:28:07.865792Z",
     "iopub.status.idle": "2021-08-27T04:56:11.245601Z",
     "shell.execute_reply": "2021-08-27T04:56:11.244755Z",
     "shell.execute_reply.started": "2021-08-27T04:28:07.866169Z"
    }
   },
   "outputs": [
    {
     "name": "stdout",
     "output_type": "stream",
     "text": [
      "Epoch 1/30\n",
      "625/625 [==============================] - 95s 151ms/step - loss: 2.1037 - accuracy: 0.1933 - val_loss: 1.5798 - val_accuracy: 0.3750\n",
      "Epoch 2/30\n",
      "625/625 [==============================] - 94s 150ms/step - loss: 1.6021 - accuracy: 0.3792 - val_loss: 1.2420 - val_accuracy: 0.5585\n",
      "Epoch 3/30\n",
      "625/625 [==============================] - 94s 150ms/step - loss: 1.2495 - accuracy: 0.5472 - val_loss: 0.9670 - val_accuracy: 0.6525\n",
      "Epoch 4/30\n",
      "625/625 [==============================] - 93s 149ms/step - loss: 0.9832 - accuracy: 0.6526 - val_loss: 0.8223 - val_accuracy: 0.7089\n",
      "Epoch 5/30\n",
      "625/625 [==============================] - 93s 149ms/step - loss: 0.7904 - accuracy: 0.7350 - val_loss: 0.6854 - val_accuracy: 0.7650\n",
      "Epoch 6/30\n",
      "625/625 [==============================] - 93s 149ms/step - loss: 0.6366 - accuracy: 0.7879 - val_loss: 0.6604 - val_accuracy: 0.7789\n",
      "Epoch 7/30\n",
      "625/625 [==============================] - 93s 149ms/step - loss: 0.5155 - accuracy: 0.8325 - val_loss: 0.6969 - val_accuracy: 0.7767\n",
      "Epoch 8/30\n",
      "625/625 [==============================] - 93s 149ms/step - loss: 0.4111 - accuracy: 0.8667 - val_loss: 0.5524 - val_accuracy: 0.8239\n",
      "Epoch 9/30\n",
      "625/625 [==============================] - 93s 149ms/step - loss: 0.3161 - accuracy: 0.8982 - val_loss: 0.5866 - val_accuracy: 0.8159\n",
      "Epoch 10/30\n",
      "625/625 [==============================] - 94s 150ms/step - loss: 0.2400 - accuracy: 0.9236 - val_loss: 0.5730 - val_accuracy: 0.8334\n",
      "Epoch 11/30\n",
      "625/625 [==============================] - 93s 149ms/step - loss: 0.1938 - accuracy: 0.9393 - val_loss: 0.6327 - val_accuracy: 0.8274\n",
      "Epoch 12/30\n",
      "625/625 [==============================] - 93s 149ms/step - loss: 0.1469 - accuracy: 0.9531 - val_loss: 0.7023 - val_accuracy: 0.8294\n",
      "Epoch 13/30\n",
      "625/625 [==============================] - 93s 149ms/step - loss: 0.1204 - accuracy: 0.9609 - val_loss: 0.6557 - val_accuracy: 0.8340\n",
      "\n",
      "Epoch 00013: ReduceLROnPlateau reducing learning rate to 1.9999999494757503e-05.\n",
      "Epoch 14/30\n",
      "625/625 [==============================] - 93s 149ms/step - loss: 0.0498 - accuracy: 0.9854 - val_loss: 0.7508 - val_accuracy: 0.8598\n",
      "Epoch 15/30\n",
      "625/625 [==============================] - 93s 149ms/step - loss: 0.0142 - accuracy: 0.9969 - val_loss: 0.9197 - val_accuracy: 0.8539\n",
      "Epoch 16/30\n",
      "625/625 [==============================] - 94s 150ms/step - loss: 0.0077 - accuracy: 0.9983 - val_loss: 0.9658 - val_accuracy: 0.8575\n",
      "Epoch 17/30\n",
      "625/625 [==============================] - 93s 149ms/step - loss: 0.0061 - accuracy: 0.9986 - val_loss: 0.9887 - val_accuracy: 0.8478\n",
      "Epoch 18/30\n",
      "625/625 [==============================] - 93s 149ms/step - loss: 0.0070 - accuracy: 0.9983 - val_loss: 0.9942 - val_accuracy: 0.8564\n",
      "\n",
      "Epoch 00018: ReduceLROnPlateau reducing learning rate to 3.999999898951501e-06.\n",
      "Epoch 00018: early stopping\n"
     ]
    }
   ],
   "source": [
    "history = vgg_model.fit(\n",
    "    tr_ds,\n",
    "    epochs=30,\n",
    "    validation_data=val_ds,\n",
    "    callbacks=[rlr_cb, ely_cb]\n",
    ")"
   ]
  },
  {
   "cell_type": "code",
   "execution_count": 22,
   "metadata": {
    "execution": {
     "iopub.execute_input": "2021-08-27T04:56:11.247904Z",
     "iopub.status.busy": "2021-08-27T04:56:11.247550Z",
     "iopub.status.idle": "2021-08-27T04:56:17.898382Z",
     "shell.execute_reply": "2021-08-27T04:56:17.897605Z",
     "shell.execute_reply.started": "2021-08-27T04:56:11.247862Z"
    }
   },
   "outputs": [
    {
     "name": "stdout",
     "output_type": "stream",
     "text": [
      "157/157 [==============================] - 7s 42ms/step - loss: 1.0887 - accuracy: 0.8445\n"
     ]
    },
    {
     "data": {
      "text/plain": [
       "[1.0887054204940796, 0.8445000052452087]"
      ]
     },
     "execution_count": 22,
     "metadata": {},
     "output_type": "execute_result"
    }
   ],
   "source": [
    "test_ds = CIFAR_Dataset(test_images, test_oh_labels, batch_size=BATCH_SIZE, augmentor=None, shuffle=False, pre_func=vgg_preprocess)\n",
    "vgg_model.evaluate(test_ds)"
   ]
  },
  {
   "cell_type": "code",
   "execution_count": null,
   "metadata": {},
   "outputs": [],
   "source": []
  },
  {
   "cell_type": "code",
   "execution_count": null,
   "metadata": {},
   "outputs": [],
   "source": []
  },
  {
   "cell_type": "code",
   "execution_count": null,
   "metadata": {},
   "outputs": [],
   "source": []
  },
  {
   "cell_type": "code",
   "execution_count": null,
   "metadata": {},
   "outputs": [],
   "source": []
  },
  {
   "cell_type": "code",
   "execution_count": null,
   "metadata": {},
   "outputs": [],
   "source": []
  },
  {
   "cell_type": "code",
   "execution_count": null,
   "metadata": {},
   "outputs": [],
   "source": []
  },
  {
   "cell_type": "code",
   "execution_count": null,
   "metadata": {},
   "outputs": [],
   "source": []
  },
  {
   "cell_type": "code",
   "execution_count": null,
   "metadata": {},
   "outputs": [],
   "source": []
  },
  {
   "cell_type": "code",
   "execution_count": null,
   "metadata": {},
   "outputs": [],
   "source": []
  },
  {
   "cell_type": "code",
   "execution_count": null,
   "metadata": {},
   "outputs": [],
   "source": []
  },
  {
   "cell_type": "code",
   "execution_count": null,
   "metadata": {},
   "outputs": [],
   "source": []
  },
  {
   "cell_type": "code",
   "execution_count": null,
   "metadata": {},
   "outputs": [],
   "source": []
  },
  {
   "cell_type": "code",
   "execution_count": null,
   "metadata": {},
   "outputs": [],
   "source": []
  },
  {
   "cell_type": "code",
   "execution_count": null,
   "metadata": {},
   "outputs": [],
   "source": []
  },
  {
   "cell_type": "code",
   "execution_count": null,
   "metadata": {},
   "outputs": [],
   "source": []
  }
 ],
 "metadata": {
  "kernelspec": {
   "display_name": "Python 3 (ipykernel)",
   "language": "python",
   "name": "python3"
  },
  "language_info": {
   "codemirror_mode": {
    "name": "ipython",
    "version": 3
   },
   "file_extension": ".py",
   "mimetype": "text/x-python",
   "name": "python",
   "nbconvert_exporter": "python",
   "pygments_lexer": "ipython3",
   "version": "3.9.5"
  }
 },
 "nbformat": 4,
 "nbformat_minor": 4
}
