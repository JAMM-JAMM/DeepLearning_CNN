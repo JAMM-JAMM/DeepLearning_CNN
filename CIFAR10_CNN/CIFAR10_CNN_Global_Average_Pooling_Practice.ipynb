{
 "cells": [
  {
   "cell_type": "code",
   "execution_count": null,
   "metadata": {
    "_cell_guid": "b1076dfc-b9ad-4769-8c92-a6c4dae69d19",
    "_uuid": "8f2839f25d086af736a60e9eeb907d3b93b6e0e5"
   },
   "outputs": [],
   "source": [
    "# This Python 3 environment comes with many helpful analytics libraries installed\n",
    "# It is defined by the kaggle/python Docker image: https://github.com/kaggle/docker-python\n",
    "# For example, here's several helpful packages to load\n",
    "\n",
    "import numpy as np # linear algebra\n",
    "import pandas as pd # data processing, CSV file I/O (e.g. pd.read_csv)\n",
    "\n",
    "# Input data files are available in the read-only \"../input/\" directory\n",
    "# For example, running this (by clicking run or pressing Shift+Enter) will list all files under the input directory\n",
    "\n",
    "import os\n",
    "for dirname, _, filenames in os.walk('/kaggle/input'):\n",
    "    for filename in filenames:\n",
    "        print(os.path.join(dirname, filename))\n",
    "\n",
    "# You can write up to 20GB to the current directory (/kaggle/working/) that gets preserved as output when you create a version using \"Save & Run All\" \n",
    "# You can also write temporary files to /kaggle/temp/, but they won't be saved outside of the current session"
   ]
  },
  {
   "cell_type": "markdown",
   "metadata": {},
   "source": [
    "### Data Preprocessing"
   ]
  },
  {
   "cell_type": "code",
   "execution_count": 1,
   "metadata": {
    "execution": {
     "iopub.execute_input": "2021-08-22T09:54:02.976738Z",
     "iopub.status.busy": "2021-08-22T09:54:02.976306Z",
     "iopub.status.idle": "2021-08-22T09:54:07.560073Z",
     "shell.execute_reply": "2021-08-22T09:54:07.558865Z",
     "shell.execute_reply.started": "2021-08-22T09:54:02.976646Z"
    }
   },
   "outputs": [],
   "source": [
    "import tensorflow as tf\n",
    "import numpy as np\n",
    "import pandas as pd"
   ]
  },
  {
   "cell_type": "markdown",
   "metadata": {},
   "source": []
  },
  {
   "cell_type": "code",
   "execution_count": 2,
   "metadata": {
    "execution": {
     "iopub.execute_input": "2021-08-22T09:54:21.683954Z",
     "iopub.status.busy": "2021-08-22T09:54:21.683539Z",
     "iopub.status.idle": "2021-08-22T09:54:22.340518Z",
     "shell.execute_reply": "2021-08-22T09:54:22.336443Z",
     "shell.execute_reply.started": "2021-08-22T09:54:21.683910Z"
    }
   },
   "outputs": [],
   "source": [
    "import random as python_random\n",
    "\n",
    "from tensorflow.keras.utils import to_categorical\n",
    "from sklearn.model_selection import train_test_split\n",
    "from tensorflow.keras.datasets import cifar10\n",
    "\n",
    "# set seed\n",
    "def set_random_seed(seed_value):\n",
    "    np.random.seed(seed_value)\n",
    "    python_random.seed(seed_value)\n",
    "    tf.random.set_seed(seed_value)\n",
    "\n",
    "# data preprocessing to float32\n",
    "def get_preprocessed_data(images, labels):\n",
    "    \n",
    "    images = np.array(images/255.0, dtype=np.float32)\n",
    "\n",
    "    \n",
    "    return images, labels\n",
    "\n",
    "# data preprocessing to one hot encoding\n",
    "def get_preprocessed_ohe(images, labels):\n",
    "    \n",
    "    images, labels = get_preprocessed_data(images, labels)\n",
    "    oh_labels = to_categorical(labels)\n",
    "    \n",
    "    return images, oh_labels\n",
    "\n",
    "# train/validation/test split\n",
    "def get_train_valid_test_set(train_images, train_labels, test_images, test_labels, valid_size=0.15, random_state=2021):\n",
    "    \n",
    "    train_images, train_oh_labels = get_preprocessed_ohe(train_images, train_labels)\n",
    "    test_images, test_oh_labels = get_preprocessed_ohe(test_images, test_labels)\n",
    "    \n",
    "    tr_images, val_images, tr_oh_labels, val_oh_labels = train_test_split(train_images, train_oh_labels, test_size=valid_size, random_state=random_state)\n",
    "    \n",
    "    return (tr_images, tr_oh_labels), (val_images, val_oh_labels), (test_images, test_oh_labels)"
   ]
  },
  {
   "cell_type": "code",
   "execution_count": 3,
   "metadata": {
    "execution": {
     "iopub.execute_input": "2021-08-22T09:54:36.832064Z",
     "iopub.status.busy": "2021-08-22T09:54:36.831630Z",
     "iopub.status.idle": "2021-08-22T09:54:36.837491Z",
     "shell.execute_reply": "2021-08-22T09:54:36.836065Z",
     "shell.execute_reply.started": "2021-08-22T09:54:36.832027Z"
    }
   },
   "outputs": [],
   "source": [
    "# set random seed\n",
    "set_random_seed(2021)"
   ]
  },
  {
   "cell_type": "code",
   "execution_count": 4,
   "metadata": {
    "execution": {
     "iopub.execute_input": "2021-08-22T09:54:44.390255Z",
     "iopub.status.busy": "2021-08-22T09:54:44.389716Z",
     "iopub.status.idle": "2021-08-22T09:54:48.731636Z",
     "shell.execute_reply": "2021-08-22T09:54:48.730640Z",
     "shell.execute_reply.started": "2021-08-22T09:54:44.390203Z"
    }
   },
   "outputs": [
    {
     "name": "stdout",
     "output_type": "stream",
     "text": [
      "Downloading data from https://www.cs.toronto.edu/~kriz/cifar-10-python.tar.gz\n",
      "170500096/170498071 [==============================] - 2s 0us/step\n",
      "train dataset shape:  (50000, 32, 32, 3) (50000, 1)\n",
      "test dataset shape:  (10000, 32, 32, 3) (10000, 1)\n"
     ]
    }
   ],
   "source": [
    "# CIFAR10 dataset load\n",
    "(train_images, train_labels), (test_images, test_labels) = \\\n",
    "    cifar10.load_data()\n",
    "\n",
    "print('train dataset shape: ', train_images.shape, train_labels.shape)\n",
    "print('test dataset shape: ', test_images.shape, test_labels.shape)"
   ]
  },
  {
   "cell_type": "code",
   "execution_count": 5,
   "metadata": {
    "execution": {
     "iopub.execute_input": "2021-08-22T09:54:56.564873Z",
     "iopub.status.busy": "2021-08-22T09:54:56.564495Z",
     "iopub.status.idle": "2021-08-22T09:54:57.565172Z",
     "shell.execute_reply": "2021-08-22T09:54:57.564127Z",
     "shell.execute_reply.started": "2021-08-22T09:54:56.564819Z"
    }
   },
   "outputs": [
    {
     "name": "stdout",
     "output_type": "stream",
     "text": [
      "train dataset shape:  (42500, 32, 32, 3) (42500, 10)\n",
      "validation dataset shape:  (7500, 32, 32, 3) (7500, 10)\n",
      "test dataset shape:  (10000, 32, 32, 3) (10000, 10)\n"
     ]
    }
   ],
   "source": [
    "# CIFAR10 dataset preprocessing & split\n",
    "(tr_images, tr_oh_labels), (val_images, val_oh_labels), (test_images, test_oh_labels) = \\\n",
    "    get_train_valid_test_set(train_images, train_labels, test_images, test_labels, valid_size=0.15, random_state=2021)\n",
    "\n",
    "print('train dataset shape: ', tr_images.shape, tr_oh_labels.shape)\n",
    "print('validation dataset shape: ', val_images.shape, val_oh_labels.shape)\n",
    "print('test dataset shape: ', test_images.shape, test_oh_labels.shape)"
   ]
  },
  {
   "cell_type": "code",
   "execution_count": 6,
   "metadata": {
    "execution": {
     "iopub.execute_input": "2021-08-22T09:55:02.860698Z",
     "iopub.status.busy": "2021-08-22T09:55:02.860335Z",
     "iopub.status.idle": "2021-08-22T09:55:02.864728Z",
     "shell.execute_reply": "2021-08-22T09:55:02.863763Z",
     "shell.execute_reply.started": "2021-08-22T09:55:02.860666Z"
    }
   },
   "outputs": [],
   "source": [
    "IMAGE_SIZE = 32"
   ]
  },
  {
   "cell_type": "code",
   "execution_count": 7,
   "metadata": {
    "execution": {
     "iopub.execute_input": "2021-08-22T09:57:03.668658Z",
     "iopub.status.busy": "2021-08-22T09:57:03.668278Z",
     "iopub.status.idle": "2021-08-22T09:57:03.679313Z",
     "shell.execute_reply": "2021-08-22T09:57:03.678254Z",
     "shell.execute_reply.started": "2021-08-22T09:57:03.668626Z"
    }
   },
   "outputs": [],
   "source": [
    "import matplotlib.pyplot as plt\n",
    "%matplotlib inline\n",
    "\n",
    "def show_history(history):\n",
    "    plt.figure(figsize=(8, 4))\n",
    "    plt.yticks(np.arange(0, 1, 0.05))\n",
    "    plt.xticks(np.arange(0, 30, 2))\n",
    "    plt.plot(history.history['accuracy'], label='train')\n",
    "    plt.plot(history.history['val_accuracy'], label='valid')\n",
    "    plt.legend()"
   ]
  },
  {
   "cell_type": "code",
   "execution_count": 8,
   "metadata": {
    "execution": {
     "iopub.execute_input": "2021-08-22T09:59:22.127378Z",
     "iopub.status.busy": "2021-08-22T09:59:22.127001Z",
     "iopub.status.idle": "2021-08-22T09:59:22.143312Z",
     "shell.execute_reply": "2021-08-22T09:59:22.141866Z",
     "shell.execute_reply.started": "2021-08-22T09:59:22.127348Z"
    }
   },
   "outputs": [],
   "source": [
    "from tensorflow.keras.models import Model\n",
    "from tensorflow.keras.layers import Input, Dense, Conv2D, Dropout, Flatten, Activation, MaxPooling2D, GlobalAveragePooling2D\n",
    "from tensorflow.keras.optimizers import Adam\n",
    "from tensorflow.keras.layers import BatchNormalization\n",
    "from tensorflow.keras.callbacks import ReduceLROnPlateau, EarlyStopping, ModelCheckpoint, LearningRateScheduler\n",
    "\n",
    "def create_model(verbose=False):\n",
    "    \n",
    "    input_tensor = Input(shape=(IMAGE_SIZE, IMAGE_SIZE, 3))\n",
    "    \n",
    "    x = Conv2D(filters=64, kernel_size=(3, 3), padding='same')(input_tensor)\n",
    "    x = BatchNormalization()(x)\n",
    "    x = Activation('relu')(x)\n",
    "    \n",
    "    x = Conv2D(filters=64, kernel_size=(3, 3), padding='same')(x)\n",
    "    x = BatchNormalization()(x)\n",
    "    x = Activation('relu')(x)\n",
    "    x = MaxPooling2D(pool_size=(2, 2))(x)\n",
    "    \n",
    "    x = Conv2D(filters=128, kernel_size=3, padding='same')(x)\n",
    "    x = BatchNormalization()(x)\n",
    "    x = Activation('relu')(x)\n",
    "    \n",
    "    x = Conv2D(filters=128, kernel_size=3, padding='same')(x)\n",
    "    x = BatchNormalization()(x)\n",
    "    x = Activation('relu')(x)\n",
    "    x = MaxPooling2D(pool_size=2)(x)\n",
    "    \n",
    "    x = Conv2D(filters=256, kernel_size=3, padding='same')(x)\n",
    "    x = BatchNormalization()(x)\n",
    "    x = Activation('relu')(x)\n",
    "    \n",
    "    x = Conv2D(filters=256, kernel_size=3, padding='same')(x)\n",
    "    x = BatchNormalization()(x)\n",
    "    x = Activation('relu')(x)\n",
    "\n",
    "    x = Conv2D(filters=512, kernel_size=3, padding='same')(x)\n",
    "    x = BatchNormalization()(x)\n",
    "    x = Activation('relu')(x)\n",
    "    \n",
    "    # Flatten 대신 Global AveragePooling\n",
    "    x = GlobalAveragePooling2D()(x)\n",
    "    x = Dropout(rate=0.5)(x)\n",
    "    x = Dense(50, activation='relu', name='fc1')(x)\n",
    "    x = Dropout(rate=0.2)(x)\n",
    "    \n",
    "    output = Dense(10, activation='softmax', name='output')(x)\n",
    "    \n",
    "    model = Model(inputs=input_tensor, outputs=output)\n",
    "\n",
    "    if verbose:\n",
    "        model.summary()\n",
    "    \n",
    "    return model"
   ]
  },
  {
   "cell_type": "code",
   "execution_count": 9,
   "metadata": {
    "execution": {
     "iopub.execute_input": "2021-08-22T09:59:43.335466Z",
     "iopub.status.busy": "2021-08-22T09:59:43.335077Z",
     "iopub.status.idle": "2021-08-22T09:59:45.801092Z",
     "shell.execute_reply": "2021-08-22T09:59:45.800138Z",
     "shell.execute_reply.started": "2021-08-22T09:59:43.335432Z"
    }
   },
   "outputs": [],
   "source": [
    "model = create_model()"
   ]
  },
  {
   "cell_type": "code",
   "execution_count": 10,
   "metadata": {
    "execution": {
     "iopub.execute_input": "2021-08-22T10:02:49.156983Z",
     "iopub.status.busy": "2021-08-22T10:02:49.156584Z",
     "iopub.status.idle": "2021-08-22T10:02:49.165176Z",
     "shell.execute_reply": "2021-08-22T10:02:49.164228Z",
     "shell.execute_reply.started": "2021-08-22T10:02:49.156948Z"
    }
   },
   "outputs": [],
   "source": [
    "from tensorflow.keras.callbacks import ReduceLROnPlateau\n",
    "from tensorflow.keras.callbacks import EarlyStopping\n",
    "\n",
    "rlr_cb = ReduceLROnPlateau(\n",
    "    monitor='val_loss',\n",
    "    factor=0.2,\n",
    "    patience=5,\n",
    "    mode='min',\n",
    "    verbose=1\n",
    ")\n",
    "\n",
    "ely_cb = EarlyStopping(\n",
    "    monitor='val_loss',\n",
    "    patience=10,\n",
    "    mode='min',\n",
    "    verbose=1\n",
    ")\n",
    "\n"
   ]
  },
  {
   "cell_type": "code",
   "execution_count": 11,
   "metadata": {
    "execution": {
     "iopub.execute_input": "2021-08-22T10:02:53.648821Z",
     "iopub.status.busy": "2021-08-22T10:02:53.648466Z",
     "iopub.status.idle": "2021-08-22T10:02:53.668240Z",
     "shell.execute_reply": "2021-08-22T10:02:53.667190Z",
     "shell.execute_reply.started": "2021-08-22T10:02:53.648783Z"
    }
   },
   "outputs": [],
   "source": [
    "model.compile(\n",
    "    optimizer=Adam(lr=0.001),\n",
    "    loss='categorical_crossentropy',\n",
    "    metrics=['accuracy']\n",
    ")"
   ]
  },
  {
   "cell_type": "code",
   "execution_count": 12,
   "metadata": {
    "execution": {
     "iopub.execute_input": "2021-08-22T10:03:42.960005Z",
     "iopub.status.busy": "2021-08-22T10:03:42.959627Z",
     "iopub.status.idle": "2021-08-22T10:09:48.265161Z",
     "shell.execute_reply": "2021-08-22T10:09:48.264145Z",
     "shell.execute_reply.started": "2021-08-22T10:03:42.959971Z"
    }
   },
   "outputs": [
    {
     "name": "stdout",
     "output_type": "stream",
     "text": [
      "Epoch 1/30\n",
      "1329/1329 [==============================] - 23s 12ms/step - loss: 1.7352 - accuracy: 0.3621 - val_loss: 1.8766 - val_accuracy: 0.3841\n",
      "Epoch 2/30\n",
      "1329/1329 [==============================] - 14s 11ms/step - loss: 1.1150 - accuracy: 0.6066 - val_loss: 1.1574 - val_accuracy: 0.6079\n",
      "Epoch 3/30\n",
      "1329/1329 [==============================] - 14s 11ms/step - loss: 0.8770 - accuracy: 0.6964 - val_loss: 0.8922 - val_accuracy: 0.7052\n",
      "Epoch 4/30\n",
      "1329/1329 [==============================] - 14s 11ms/step - loss: 0.7455 - accuracy: 0.7411 - val_loss: 0.9223 - val_accuracy: 0.6857\n",
      "Epoch 5/30\n",
      "1329/1329 [==============================] - 14s 11ms/step - loss: 0.6293 - accuracy: 0.7880 - val_loss: 1.4962 - val_accuracy: 0.6041\n",
      "Epoch 6/30\n",
      "1329/1329 [==============================] - 15s 11ms/step - loss: 0.5481 - accuracy: 0.8136 - val_loss: 1.0369 - val_accuracy: 0.6845\n",
      "Epoch 7/30\n",
      "1329/1329 [==============================] - 14s 11ms/step - loss: 0.4752 - accuracy: 0.8406 - val_loss: 0.6386 - val_accuracy: 0.7925\n",
      "Epoch 8/30\n",
      "1329/1329 [==============================] - 15s 11ms/step - loss: 0.4041 - accuracy: 0.8653 - val_loss: 0.6659 - val_accuracy: 0.7868\n",
      "Epoch 9/30\n",
      "1329/1329 [==============================] - 14s 11ms/step - loss: 0.3441 - accuracy: 0.8864 - val_loss: 0.5226 - val_accuracy: 0.8265\n",
      "Epoch 10/30\n",
      "1329/1329 [==============================] - 14s 11ms/step - loss: 0.2940 - accuracy: 0.9037 - val_loss: 0.5764 - val_accuracy: 0.8249\n",
      "Epoch 11/30\n",
      "1329/1329 [==============================] - 14s 11ms/step - loss: 0.2553 - accuracy: 0.9162 - val_loss: 0.6965 - val_accuracy: 0.8028\n",
      "Epoch 12/30\n",
      "1329/1329 [==============================] - 14s 11ms/step - loss: 0.2086 - accuracy: 0.9305 - val_loss: 1.0328 - val_accuracy: 0.7443\n",
      "Epoch 13/30\n",
      "1329/1329 [==============================] - 14s 10ms/step - loss: 0.1964 - accuracy: 0.9352 - val_loss: 1.1108 - val_accuracy: 0.7393\n",
      "Epoch 14/30\n",
      "1329/1329 [==============================] - 14s 11ms/step - loss: 0.1683 - accuracy: 0.9440 - val_loss: 0.7027 - val_accuracy: 0.8035\n",
      "\n",
      "Epoch 00014: ReduceLROnPlateau reducing learning rate to 0.00020000000949949026.\n",
      "Epoch 15/30\n",
      "1329/1329 [==============================] - 14s 11ms/step - loss: 0.0902 - accuracy: 0.9722 - val_loss: 0.4838 - val_accuracy: 0.8855\n",
      "Epoch 16/30\n",
      "1329/1329 [==============================] - 14s 10ms/step - loss: 0.0571 - accuracy: 0.9819 - val_loss: 0.5386 - val_accuracy: 0.8764\n",
      "Epoch 17/30\n",
      "1329/1329 [==============================] - 15s 11ms/step - loss: 0.0373 - accuracy: 0.9877 - val_loss: 0.5505 - val_accuracy: 0.8792\n",
      "Epoch 18/30\n",
      "1329/1329 [==============================] - 14s 11ms/step - loss: 0.0305 - accuracy: 0.9903 - val_loss: 0.5535 - val_accuracy: 0.8823\n",
      "Epoch 19/30\n",
      "1329/1329 [==============================] - 14s 11ms/step - loss: 0.0282 - accuracy: 0.9913 - val_loss: 0.6044 - val_accuracy: 0.8775\n",
      "Epoch 20/30\n",
      "1329/1329 [==============================] - 14s 11ms/step - loss: 0.0258 - accuracy: 0.9915 - val_loss: 0.6792 - val_accuracy: 0.8731\n",
      "\n",
      "Epoch 00020: ReduceLROnPlateau reducing learning rate to 4.0000001899898055e-05.\n",
      "Epoch 21/30\n",
      "1329/1329 [==============================] - 14s 11ms/step - loss: 0.0166 - accuracy: 0.9950 - val_loss: 0.5948 - val_accuracy: 0.8871\n",
      "Epoch 22/30\n",
      "1329/1329 [==============================] - 14s 10ms/step - loss: 0.0133 - accuracy: 0.9963 - val_loss: 0.5920 - val_accuracy: 0.8868\n",
      "Epoch 23/30\n",
      "1329/1329 [==============================] - 14s 10ms/step - loss: 0.0122 - accuracy: 0.9965 - val_loss: 0.5996 - val_accuracy: 0.8869\n",
      "Epoch 24/30\n",
      "1329/1329 [==============================] - 14s 11ms/step - loss: 0.0107 - accuracy: 0.9966 - val_loss: 0.6137 - val_accuracy: 0.8864\n",
      "Epoch 25/30\n",
      "1329/1329 [==============================] - 14s 11ms/step - loss: 0.0109 - accuracy: 0.9965 - val_loss: 0.6143 - val_accuracy: 0.8872\n",
      "\n",
      "Epoch 00025: ReduceLROnPlateau reducing learning rate to 8.000000525498762e-06.\n",
      "Epoch 00025: early stopping\n"
     ]
    }
   ],
   "source": [
    "history = model.fit(\n",
    "    x=tr_images,\n",
    "    y=tr_oh_labels,\n",
    "    batch_size=32,\n",
    "    epochs=30,\n",
    "    shuffle=True,\n",
    "    validation_data=(val_images, val_oh_labels),\n",
    "    callbacks=[rlr_cb, ely_cb]\n",
    ")"
   ]
  },
  {
   "cell_type": "code",
   "execution_count": 13,
   "metadata": {
    "execution": {
     "iopub.execute_input": "2021-08-22T10:09:53.415775Z",
     "iopub.status.busy": "2021-08-22T10:09:53.415407Z",
     "iopub.status.idle": "2021-08-22T10:09:55.841078Z",
     "shell.execute_reply": "2021-08-22T10:09:55.840111Z",
     "shell.execute_reply.started": "2021-08-22T10:09:53.415740Z"
    }
   },
   "outputs": [
    {
     "name": "stdout",
     "output_type": "stream",
     "text": [
      "313/313 [==============================] - 2s 6ms/step - loss: 0.6626 - accuracy: 0.8757\n"
     ]
    },
    {
     "data": {
      "image/png": "[encoded data removed]",
      "text/plain": [
       "<Figure size 576x288 with 1 Axes>"
      ]
     },
     "metadata": {
      "needs_background": "light"
     },
     "output_type": "display_data"
    }
   ],
   "source": [
    "model.evaluate(test_images, test_oh_labels)\n",
    "show_history(history)"
   ]
  },
  {
   "cell_type": "code",
   "execution_count": null,
   "metadata": {},
   "outputs": [],
   "source": []
  }
 ],
 "metadata": {
  "kernelspec": {
   "display_name": "Python 3 (ipykernel)",
   "language": "python",
   "name": "python3"
  },
  "language_info": {
   "codemirror_mode": {
    "name": "ipython",
    "version": 3
   },
   "file_extension": ".py",
   "mimetype": "text/x-python",
   "name": "python",
   "nbconvert_exporter": "python",
   "pygments_lexer": "ipython3",
   "version": "3.9.5"
  }
 },
 "nbformat": 4,
 "nbformat_minor": 4
}
