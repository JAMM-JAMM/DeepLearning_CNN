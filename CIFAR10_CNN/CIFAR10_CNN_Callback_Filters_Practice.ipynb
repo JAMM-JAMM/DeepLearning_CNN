{
 "cells": [
  {
   "cell_type": "markdown",
   "id": "35936b01",
   "metadata": {},
   "source": [
    "### Date Preprocessing"
   ]
  },
  {
   "cell_type": "code",
   "execution_count": 1,
   "id": "fdba344a",
   "metadata": {},
   "outputs": [
    {
     "name": "stdout",
     "output_type": "stream",
     "text": [
      "Init Plugin\n",
      "Init Graph Optimizer\n",
      "Init Kernel\n"
     ]
    }
   ],
   "source": [
    "import tensorflow as tf\n",
    "import numpy as np\n",
    "import pandas as pd"
   ]
  },
  {
   "cell_type": "code",
   "execution_count": 2,
   "id": "268e8e37",
   "metadata": {},
   "outputs": [],
   "source": [
    "import random as python_random\n",
    "\n",
    "from tensorflow.keras.utils import to_categorical\n",
    "from sklearn.model_selection import train_test_split\n",
    "from tensorflow.keras.datasets import cifar10\n",
    "\n",
    "# set seed\n",
    "def set_random_seed(seed_value):\n",
    "    np.random.seed(seed_value)\n",
    "    python_random.seed(seed_value)\n",
    "    tf.random.set_seed(seed_value)\n",
    "\n",
    "# data preprocessing to float32\n",
    "def get_preprocessed_data(images, labels):\n",
    "    \n",
    "    images = np.array(images/255.0, dtype=np.float32)\n",
    "\n",
    "    \n",
    "    return images, labels\n",
    "\n",
    "# data preprocessing to one hot encoding\n",
    "def get_preprocessed_ohe(images, labels):\n",
    "    \n",
    "    images, labels = get_preprocessed_data(images, labels)\n",
    "    oh_labels = to_categorical(labels)\n",
    "    \n",
    "    return images, oh_labels\n",
    "\n",
    "# train/validation/test split\n",
    "def get_train_valid_test_set(train_images, train_labels, test_images, test_labels, valid_size=0.15, random_state=2021):\n",
    "    \n",
    "    train_images, train_oh_labels = get_preprocessed_ohe(train_images, train_labels)\n",
    "    test_images, test_oh_labels = get_preprocessed_ohe(test_images, test_labels)\n",
    "    \n",
    "    tr_images, val_images, tr_oh_labels, val_oh_labels = train_test_split(train_images, train_oh_labels, test_size=valid_size, random_state=random_state)\n",
    "    \n",
    "    return (tr_images, tr_oh_labels), (val_images, val_oh_labels), (test_images, test_oh_labels)\n",
    "\n"
   ]
  },
  {
   "cell_type": "code",
   "execution_count": 3,
   "id": "57fdc055",
   "metadata": {},
   "outputs": [],
   "source": [
    "# set random seed\n",
    "set_random_seed(2021)"
   ]
  },
  {
   "cell_type": "code",
   "execution_count": 4,
   "id": "d3aa38b8",
   "metadata": {},
   "outputs": [
    {
     "name": "stdout",
     "output_type": "stream",
     "text": [
      "train dataset shape:  (50000, 32, 32, 3) (50000, 1)\n",
      "test dataset shape:  (10000, 32, 32, 3) (10000, 1)\n"
     ]
    }
   ],
   "source": [
    "# CIFAR10 dataset load\n",
    "(train_images, train_labels), (test_images, test_labels) = \\\n",
    "    cifar10.load_data()\n",
    "\n",
    "print('train dataset shape: ', train_images.shape, train_labels.shape)\n",
    "print('test dataset shape: ', test_images.shape, test_labels.shape)"
   ]
  },
  {
   "cell_type": "code",
   "execution_count": 5,
   "id": "cec3e5c6",
   "metadata": {},
   "outputs": [
    {
     "name": "stdout",
     "output_type": "stream",
     "text": [
      "train dataset shape:  (42500, 32, 32, 3) (42500, 10)\n",
      "validation dataset shape:  (7500, 32, 32, 3) (7500, 10)\n",
      "test dataset shape:  (10000, 32, 32, 3) (10000, 10)\n"
     ]
    }
   ],
   "source": [
    "# CIFAR10 dataset preprocessing & split\n",
    "(tr_images, tr_oh_labels), (val_images, val_oh_labels), (test_images, test_oh_labels) = \\\n",
    "    get_train_valid_test_set(train_images, train_labels, test_images, test_labels, valid_size=0.15, random_state=2021)\n",
    "\n",
    "print('train dataset shape: ', tr_images.shape, tr_oh_labels.shape)\n",
    "print('validation dataset shape: ', val_images.shape, val_oh_labels.shape)\n",
    "print('test dataset shape: ', test_images.shape, test_oh_labels.shape)"
   ]
  },
  {
   "cell_type": "code",
   "execution_count": 6,
   "id": "0f82e9c3",
   "metadata": {},
   "outputs": [],
   "source": [
    "IMAGE_SIZE = 32"
   ]
  },
  {
   "cell_type": "markdown",
   "id": "8a3e977e",
   "metadata": {},
   "source": [
    "### Model Create Function"
   ]
  },
  {
   "cell_type": "code",
   "execution_count": 7,
   "id": "f0368fa0",
   "metadata": {},
   "outputs": [],
   "source": [
    "from tensorflow.keras.models import Model\n",
    "from tensorflow.keras.layers import Input, Dense, Conv2D, Dropout, Flatten, Activation, MaxPooling2D, GlobalAveragePooling2D\n",
    "from tensorflow.keras.optimizers import Adam\n",
    "from tensorflow.keras.layers import BatchNormalization\n",
    "from tensorflow.keras.callbacks import ReduceLROnPlateau, EarlyStopping, ModelCheckpoint, LearningRateScheduler\n",
    "\n",
    "def create_model(verbose=False):\n",
    "    \n",
    "    input_tensor = Input(shape=(IMAGE_SIZE, IMAGE_SIZE, 3))\n",
    "    \n",
    "    x = Conv2D(filters=32, kernel_size=(3, 3), padding='same')(input_tensor)\n",
    "    x = BatchNormalization()(x)\n",
    "    x = Activation('relu')(x)\n",
    "    \n",
    "    x = Conv2D(filters=32, kernel_size=(3, 3), padding='same')(x)\n",
    "    x = BatchNormalization()(x)\n",
    "    x = Activation('relu')(x)\n",
    "    x = MaxPooling2D(pool_size=(2, 2))(x)\n",
    "    \n",
    "    x = Conv2D(filters=64, kernel_size=3, padding='same')(x)\n",
    "    x = BatchNormalization()(x)\n",
    "    x = Activation('relu')(x)\n",
    "    \n",
    "    x = Conv2D(filters=64, kernel_size=3, padding='same')(x)\n",
    "    x = BatchNormalization()(x)\n",
    "    x = Activation('relu')(x)\n",
    "    x = MaxPooling2D(pool_size=2)(x)\n",
    "    \n",
    "    x = Conv2D(filters=128, kernel_size=3, padding='same')(x)\n",
    "    x = BatchNormalization()(x)\n",
    "    x = Activation('relu')(x)\n",
    "    \n",
    "    x = Conv2D(filters=128, kernel_size=3, padding='same')(x)\n",
    "    x = BatchNormalization()(x)\n",
    "    x = Activation('relu')(x)\n",
    "    x = MaxPooling2D(pool_size=2)(x)\n",
    "    \n",
    "    x = Flatten(name='flatten')(x)\n",
    "    x = Dropout(rate=0.5)(x)\n",
    "    x = Dense(300, activation='relu', name='fc1')(x)\n",
    "    x = Dropout(rate=0.3)(x)\n",
    "    \n",
    "    output = Dense(10, activation='softmax', name='output')(x)\n",
    "    \n",
    "    model = Model(inputs=input_tensor, outputs=output)\n",
    "\n",
    "    if verbose:\n",
    "        model.summary()\n",
    "    \n",
    "    return model\n",
    "    "
   ]
  },
  {
   "cell_type": "code",
   "execution_count": 8,
   "id": "8d2fb0b7",
   "metadata": {},
   "outputs": [
    {
     "name": "stdout",
     "output_type": "stream",
     "text": [
      "zsh:1: no matches found: *.hdf5\r\n"
     ]
    }
   ],
   "source": [
    "!rm *.hdf5"
   ]
  },
  {
   "cell_type": "code",
   "execution_count": 9,
   "id": "72dcbe88",
   "metadata": {},
   "outputs": [
    {
     "name": "stdout",
     "output_type": "stream",
     "text": [
      "current path:  /Users/jamm/Documents/Github/AI/DeepLearning_CNN/CIFAR10_CNN\n"
     ]
    }
   ],
   "source": [
    "import os\n",
    "\n",
    "current_path = os.getcwd()\n",
    "print('current path: ', current_path)"
   ]
  },
  {
   "cell_type": "markdown",
   "id": "aee70d54",
   "metadata": {},
   "source": [
    "### Callbacks"
   ]
  },
  {
   "cell_type": "code",
   "execution_count": 10,
   "id": "d27f302c",
   "metadata": {},
   "outputs": [
    {
     "name": "stdout",
     "output_type": "stream",
     "text": [
      "WARNING:tensorflow:`period` argument is deprecated. Please use `save_freq` to specify the frequency in number of batches seen.\n"
     ]
    }
   ],
   "source": [
    "mcp_cb = ModelCheckpoint(\n",
    "    filepath=current_path + '/weights.{epoch:02d}-{val_loss:.2f}.hdf5',\n",
    "    monitor='val_loss',\n",
    "    save_best_only=True,\n",
    "    save_weights_only=True,\n",
    "    model='min',\n",
    "    period=1,\n",
    "    verbose=0\n",
    ")\n",
    "\n",
    "rlr_cb = ReduceLROnPlateau(\n",
    "    monitor='val_loss',\n",
    "    factor=0.2,\n",
    "    mode='min',\n",
    "    verbose=1\n",
    ")\n",
    "\n",
    "ely_cb = EarlyStopping(\n",
    "    monitor='val_loss',\n",
    "    patience=10,\n",
    "    mode='min',\n",
    "    verbose=1\n",
    ")"
   ]
  },
  {
   "cell_type": "markdown",
   "id": "88870ef6",
   "metadata": {},
   "source": [
    "### Compile & Fit"
   ]
  },
  {
   "cell_type": "code",
   "execution_count": 11,
   "id": "688aaf5a",
   "metadata": {
    "scrolled": true
   },
   "outputs": [
    {
     "name": "stdout",
     "output_type": "stream",
     "text": [
      "Metal device set to: Apple M1\n"
     ]
    },
    {
     "name": "stderr",
     "output_type": "stream",
     "text": [
      "2021-08-20 13:14:44.996645: I tensorflow/core/common_runtime/pluggable_device/pluggable_device_factory.cc:305] Could not identify NUMA node of platform GPU ID 0, defaulting to 0. Your kernel may not have been built with NUMA support.\n",
      "2021-08-20 13:14:44.996741: I tensorflow/core/common_runtime/pluggable_device/pluggable_device_factory.cc:271] Created TensorFlow device (/job:localhost/replica:0/task:0/device:GPU:0 with 0 MB memory) -> physical PluggableDevice (device: 0, name: METAL, pci bus id: <undefined>)\n",
      "/Users/jamm/miniforge3/envs/tf/lib/python3.9/site-packages/tensorflow/python/keras/optimizer_v2/optimizer_v2.py:374: UserWarning: The `lr` argument is deprecated, use `learning_rate` instead.\n",
      "  warnings.warn(\n",
      "2021-08-20 13:14:45.275207: I tensorflow/compiler/mlir/mlir_graph_optimization_pass.cc:176] None of the MLIR Optimization Passes are enabled (registered 2)\n",
      "2021-08-20 13:14:45.275398: W tensorflow/core/platform/profile_utils/cpu_utils.cc:128] Failed to get CPU frequency: 0 Hz\n"
     ]
    },
    {
     "name": "stdout",
     "output_type": "stream",
     "text": [
      "Epoch 1/30\n",
      "   1/1329 [..............................] - ETA: 8:52 - loss: 3.3774 - accuracy: 0.1250"
     ]
    },
    {
     "name": "stderr",
     "output_type": "stream",
     "text": [
      "2021-08-20 13:14:45.494240: I tensorflow/core/grappler/optimizers/custom_graph_optimizer_registry.cc:112] Plugin optimizer for device_type GPU is enabled.\n"
     ]
    },
    {
     "name": "stdout",
     "output_type": "stream",
     "text": [
      "1329/1329 [==============================] - ETA: 0s - loss: 1.5534 - accuracy: 0.4349"
     ]
    },
    {
     "name": "stderr",
     "output_type": "stream",
     "text": [
      "2021-08-20 13:15:12.221482: I tensorflow/core/grappler/optimizers/custom_graph_optimizer_registry.cc:112] Plugin optimizer for device_type GPU is enabled.\n"
     ]
    },
    {
     "name": "stdout",
     "output_type": "stream",
     "text": [
      "1329/1329 [==============================] - 29s 21ms/step - loss: 1.5534 - accuracy: 0.4349 - val_loss: 2.1748 - val_accuracy: 0.3211\n",
      "Epoch 2/30\n",
      "1329/1329 [==============================] - 28s 21ms/step - loss: 1.1183 - accuracy: 0.6011 - val_loss: 1.2018 - val_accuracy: 0.5916\n",
      "Epoch 3/30\n",
      "1329/1329 [==============================] - 28s 21ms/step - loss: 0.9228 - accuracy: 0.6752 - val_loss: 0.8760 - val_accuracy: 0.6949\n",
      "Epoch 4/30\n",
      "1329/1329 [==============================] - 28s 21ms/step - loss: 0.8246 - accuracy: 0.7134 - val_loss: 0.8571 - val_accuracy: 0.6980\n",
      "Epoch 5/30\n",
      "1329/1329 [==============================] - 28s 21ms/step - loss: 0.7345 - accuracy: 0.7482 - val_loss: 0.7112 - val_accuracy: 0.7583\n",
      "Epoch 6/30\n",
      "1329/1329 [==============================] - 28s 21ms/step - loss: 0.6537 - accuracy: 0.7765 - val_loss: 0.8249 - val_accuracy: 0.7200\n",
      "Epoch 7/30\n",
      "1329/1329 [==============================] - 28s 21ms/step - loss: 0.5961 - accuracy: 0.7974 - val_loss: 0.6224 - val_accuracy: 0.7891\n",
      "Epoch 8/30\n",
      "1329/1329 [==============================] - 28s 21ms/step - loss: 0.5473 - accuracy: 0.8152 - val_loss: 0.7668 - val_accuracy: 0.7513\n",
      "Epoch 9/30\n",
      "1329/1329 [==============================] - 28s 21ms/step - loss: 0.4999 - accuracy: 0.8302 - val_loss: 0.6909 - val_accuracy: 0.7745\n",
      "Epoch 10/30\n",
      "1329/1329 [==============================] - 28s 21ms/step - loss: 0.4606 - accuracy: 0.8443 - val_loss: 0.6413 - val_accuracy: 0.7872\n",
      "Epoch 11/30\n",
      "1329/1329 [==============================] - 28s 21ms/step - loss: 0.4210 - accuracy: 0.8563 - val_loss: 0.7237 - val_accuracy: 0.7817\n",
      "Epoch 12/30\n",
      "1329/1329 [==============================] - 28s 21ms/step - loss: 0.3854 - accuracy: 0.8677 - val_loss: 0.5964 - val_accuracy: 0.8041\n",
      "Epoch 13/30\n",
      "1329/1329 [==============================] - 28s 21ms/step - loss: 0.3636 - accuracy: 0.8767 - val_loss: 0.5546 - val_accuracy: 0.8163\n",
      "Epoch 14/30\n",
      "1329/1329 [==============================] - 28s 21ms/step - loss: 0.3335 - accuracy: 0.8856 - val_loss: 0.5811 - val_accuracy: 0.8124\n",
      "Epoch 15/30\n",
      "1329/1329 [==============================] - 28s 21ms/step - loss: 0.3121 - accuracy: 0.8922 - val_loss: 0.6093 - val_accuracy: 0.8156\n",
      "Epoch 16/30\n",
      "1329/1329 [==============================] - 28s 21ms/step - loss: 0.2874 - accuracy: 0.9019 - val_loss: 0.5117 - val_accuracy: 0.8385\n",
      "Epoch 17/30\n",
      "1329/1329 [==============================] - 28s 21ms/step - loss: 0.2657 - accuracy: 0.9087 - val_loss: 0.9262 - val_accuracy: 0.7605\n",
      "Epoch 18/30\n",
      "1329/1329 [==============================] - 28s 21ms/step - loss: 0.2544 - accuracy: 0.9114 - val_loss: 0.6046 - val_accuracy: 0.8279\n",
      "Epoch 19/30\n",
      "1329/1329 [==============================] - 28s 21ms/step - loss: 0.2417 - accuracy: 0.9160 - val_loss: 0.8248 - val_accuracy: 0.7799\n",
      "Epoch 20/30\n",
      "1329/1329 [==============================] - 28s 21ms/step - loss: 0.2281 - accuracy: 0.9213 - val_loss: 0.5533 - val_accuracy: 0.8312\n",
      "Epoch 21/30\n",
      "1329/1329 [==============================] - 28s 21ms/step - loss: 0.2175 - accuracy: 0.9248 - val_loss: 0.5933 - val_accuracy: 0.8301\n",
      "Epoch 22/30\n",
      "1329/1329 [==============================] - 28s 21ms/step - loss: 0.2061 - accuracy: 0.9284 - val_loss: 0.6900 - val_accuracy: 0.8120\n",
      "Epoch 23/30\n",
      "1329/1329 [==============================] - 28s 21ms/step - loss: 0.1909 - accuracy: 0.9346 - val_loss: 0.6459 - val_accuracy: 0.8211\n",
      "Epoch 24/30\n",
      "1329/1329 [==============================] - 28s 21ms/step - loss: 0.1877 - accuracy: 0.9342 - val_loss: 0.6849 - val_accuracy: 0.8231\n",
      "Epoch 25/30\n",
      "1329/1329 [==============================] - 29s 22ms/step - loss: 0.1758 - accuracy: 0.9407 - val_loss: 0.5750 - val_accuracy: 0.8408\n",
      "Epoch 26/30\n",
      "1329/1329 [==============================] - 30s 22ms/step - loss: 0.1716 - accuracy: 0.9420 - val_loss: 0.6570 - val_accuracy: 0.8288\n",
      "\n",
      "Epoch 00026: ReduceLROnPlateau reducing learning rate to 0.00020000000949949026.\n",
      "Epoch 00026: early stopping\n"
     ]
    }
   ],
   "source": [
    "model = create_model()\n",
    "\n",
    "model.compile(\n",
    "    optimizer=Adam(lr=0.001),\n",
    "    loss='categorical_crossentropy',\n",
    "    metrics=['accuracy']\n",
    ")\n",
    "\n",
    "history = model.fit(\n",
    "    x=tr_images,\n",
    "    y=tr_oh_labels,\n",
    "    batch_size=32,\n",
    "    epochs=30,\n",
    "    shuffle=True,\n",
    "    validation_data=(val_images, val_oh_labels),\n",
    "    callbacks=[mcp_cb, rlr_cb, ely_cb]\n",
    ")"
   ]
  },
  {
   "cell_type": "markdown",
   "id": "3b7fd31c",
   "metadata": {},
   "source": [
    "### Evaluate"
   ]
  },
  {
   "cell_type": "code",
   "execution_count": 12,
   "id": "50693ff6",
   "metadata": {},
   "outputs": [
    {
     "name": "stdout",
     "output_type": "stream",
     "text": [
      "313/313 [==============================] - 3s 10ms/step - loss: 0.7051 - accuracy: 0.8201\n"
     ]
    },
    {
     "data": {
      "text/plain": [
       "[0.7050707936286926, 0.8201000094413757]"
      ]
     },
     "execution_count": 12,
     "metadata": {},
     "output_type": "execute_result"
    }
   ],
   "source": [
    "model.evaluate(test_images, test_oh_labels)"
   ]
  },
  {
   "cell_type": "code",
   "execution_count": 13,
   "id": "4a0877a3",
   "metadata": {},
   "outputs": [
    {
     "name": "stdout",
     "output_type": "stream",
     "text": [
      "total 67456\r\n",
      "5892047 drwxr-xr-x  17 jamm  staff      544  8 20 13:27 \u001b[34m.\u001b[m\u001b[m\r\n",
      "5109589 drwxr-xr-x  11 jamm  staff      352  8 20 13:12 \u001b[34m..\u001b[m\u001b[m\r\n",
      "5892142 drwxr-xr-x   7 jamm  staff      224  8 20 12:14 \u001b[34m.ipynb_checkpoints\u001b[m\u001b[m\r\n",
      "5945315 -rw-r--r--   1 jamm  staff    31256  8 16 20:54 CIFAR10_CNN_Batch_Normalization_Practice.ipynb\r\n",
      "6133863 -rw-r--r--   1 jamm  staff    18498  8 20 13:27 CIFAR10_CNN_Callback_Filters_Practice.ipynb\r\n",
      "5926369 -rw-r--r--   1 jamm  staff    44970  8 16 20:54 CIFAR10_CNN_Kernel(Weights)_Initializer_Practice.ipynb\r\n",
      "5892184 -rw-r--r--   1 jamm  staff   996341  8 16 18:31 CIFAR10_CNN_Practice.ipynb\r\n",
      "6091419 -rw-r--r--   1 jamm  staff   222519  8 19 22:11 CIFAR10_CNN_Shuffle_Practice.ipynb\r\n",
      "6137864 -rw-r--r--   1 jamm  staff  3689408  8 20 13:15 weights.01-2.17.hdf5\r\n",
      "6137876 -rw-r--r--   1 jamm  staff  3689408  8 20 13:15 weights.02-1.20.hdf5\r\n",
      "6137887 -rw-r--r--   1 jamm  staff  3689408  8 20 13:16 weights.03-0.88.hdf5\r\n",
      "6137902 -rw-r--r--   1 jamm  staff  3689408  8 20 13:16 weights.04-0.86.hdf5\r\n",
      "6137907 -rw-r--r--   1 jamm  staff  3689408  8 20 13:17 weights.05-0.71.hdf5\r\n",
      "6137921 -rw-r--r--   1 jamm  staff  3689408  8 20 13:18 weights.07-0.62.hdf5\r\n",
      "6137970 -rw-r--r--   1 jamm  staff  3689408  8 20 13:20 weights.12-0.60.hdf5\r\n",
      "6138189 -rw-r--r--   1 jamm  staff  3689408  8 20 13:20 weights.13-0.55.hdf5\r\n",
      "6138432 -rw-r--r--   1 jamm  staff  3689408  8 20 13:22 weights.16-0.51.hdf5\r\n"
     ]
    }
   ],
   "source": [
    "!ls -lia"
   ]
  },
  {
   "cell_type": "markdown",
   "id": "234c792e",
   "metadata": {},
   "source": [
    "### 최적 weight를 모델로 재로딩한 다음 테스트 데이터로 다시 평가"
   ]
  },
  {
   "cell_type": "code",
   "execution_count": 14,
   "id": "98c82ea6",
   "metadata": {},
   "outputs": [],
   "source": [
    "model = create_model()\n",
    "model.compile(\n",
    "    optimizer=Adam(lr=0.001),\n",
    "    loss='categorical_crossentropy',\n",
    "    metrics=['accuracy']\n",
    ")\n",
    "\n",
    "model.load_weights(current_path + '/weights.16-0.51.hdf5')"
   ]
  },
  {
   "cell_type": "code",
   "execution_count": 15,
   "id": "0f7c7c42",
   "metadata": {},
   "outputs": [
    {
     "name": "stdout",
     "output_type": "stream",
     "text": [
      " 13/313 [>.............................] - ETA: 2s - loss: 0.4846 - accuracy: 0.8486"
     ]
    },
    {
     "name": "stderr",
     "output_type": "stream",
     "text": [
      "2021-08-20 13:31:44.399512: I tensorflow/core/grappler/optimizers/custom_graph_optimizer_registry.cc:112] Plugin optimizer for device_type GPU is enabled.\n"
     ]
    },
    {
     "name": "stdout",
     "output_type": "stream",
     "text": [
      "313/313 [==============================] - 3s 10ms/step - loss: 0.5388 - accuracy: 0.8297\n"
     ]
    },
    {
     "data": {
      "text/plain": [
       "[0.5388439297676086, 0.8297000527381897]"
      ]
     },
     "execution_count": 15,
     "metadata": {},
     "output_type": "execute_result"
    }
   ],
   "source": [
    "model.evaluate(test_images, test_oh_labels)"
   ]
  },
  {
   "cell_type": "code",
   "execution_count": 13,
   "id": "1d954954",
   "metadata": {},
   "outputs": [],
   "source": [
    "import matplotlib.pyplot as plt\n",
    "%matplotlib inline\n",
    "\n",
    "def show_history(history):\n",
    "    plt.figure(figsize=(8, 4))\n",
    "    plt.yticks(np.arange(0, 1, 0.05))\n",
    "    plt.xticks(np.arange(0, 30, 2))\n",
    "    plt.plot(history.history['accuracy'], label='train')\n",
    "    plt.plot(history.history['val_accuracy'], label='valid')\n",
    "    plt.legend()\n",
    "    "
   ]
  },
  {
   "cell_type": "markdown",
   "id": "18154f21",
   "metadata": {},
   "source": [
    "### Filters x 2 "
   ]
  },
  {
   "cell_type": "code",
   "execution_count": 7,
   "id": "95b69f49",
   "metadata": {},
   "outputs": [],
   "source": [
    "from tensorflow.keras.models import Model\n",
    "from tensorflow.keras.layers import Input, Dense, Conv2D, Dropout, Flatten, Activation, MaxPooling2D, GlobalAveragePooling2D\n",
    "from tensorflow.keras.optimizers import Adam\n",
    "from tensorflow.keras.layers import BatchNormalization\n",
    "from tensorflow.keras.callbacks import ReduceLROnPlateau, EarlyStopping, ModelCheckpoint, LearningRateScheduler\n",
    "\n",
    "def create_model(verbose=False):\n",
    "    \n",
    "    input_tensor = Input(shape=(IMAGE_SIZE, IMAGE_SIZE, 3))\n",
    "    \n",
    "    x = Conv2D(filters=64, kernel_size=(3, 3), padding='same')(input_tensor)\n",
    "    x = BatchNormalization()(x)\n",
    "    x = Activation('relu')(x)\n",
    "    \n",
    "    x = Conv2D(filters=64, kernel_size=(3, 3), padding='same')(x)\n",
    "    x = BatchNormalization()(x)\n",
    "    x = Activation('relu')(x)\n",
    "    x = MaxPooling2D(pool_size=(2, 2))(x)\n",
    "    \n",
    "    x = Conv2D(filters=128, kernel_size=3, padding='same')(x)\n",
    "    x = BatchNormalization()(x)\n",
    "    x = Activation('relu')(x)\n",
    "    \n",
    "    x = Conv2D(filters=128, kernel_size=3, padding='same')(x)\n",
    "    x = BatchNormalization()(x)\n",
    "    x = Activation('relu')(x)\n",
    "    x = MaxPooling2D(pool_size=2)(x)\n",
    "    \n",
    "    x = Conv2D(filters=256, kernel_size=3, padding='same')(x)\n",
    "    x = BatchNormalization()(x)\n",
    "    x = Activation('relu')(x)\n",
    "    \n",
    "    x = Conv2D(filters=256, kernel_size=3, padding='same')(x)\n",
    "    x = BatchNormalization()(x)\n",
    "    x = Activation('relu')(x)\n",
    "\n",
    "    x = Conv2D(filters=512, kernel_size=3, padding='same')(x)\n",
    "    x = BatchNormalization()(x)\n",
    "    x = Activation('relu')(x)\n",
    "    x = MaxPooling2D(pool_size=2)(x)\n",
    "    \n",
    "    x = Flatten(name='flatten')(x)\n",
    "    x = Dropout(rate=0.5)(x)\n",
    "    x = Dense(300, activation='relu', name='fc1')(x)\n",
    "    x = Dropout(rate=0.3)(x)\n",
    "    \n",
    "    output = Dense(10, activation='softmax', name='output')(x)\n",
    "    \n",
    "    model = Model(inputs=input_tensor, outputs=output)\n",
    "\n",
    "    if verbose:\n",
    "        model.summary()\n",
    "    \n",
    "    return model"
   ]
  },
  {
   "cell_type": "code",
   "execution_count": 8,
   "id": "21e6bf76",
   "metadata": {},
   "outputs": [
    {
     "name": "stdout",
     "output_type": "stream",
     "text": [
      "Metal device set to: Apple M1\n"
     ]
    },
    {
     "name": "stderr",
     "output_type": "stream",
     "text": [
      "2021-08-22 18:48:55.349844: I tensorflow/core/common_runtime/pluggable_device/pluggable_device_factory.cc:305] Could not identify NUMA node of platform GPU ID 0, defaulting to 0. Your kernel may not have been built with NUMA support.\n",
      "2021-08-22 18:48:55.350300: I tensorflow/core/common_runtime/pluggable_device/pluggable_device_factory.cc:271] Created TensorFlow device (/job:localhost/replica:0/task:0/device:GPU:0 with 0 MB memory) -> physical PluggableDevice (device: 0, name: METAL, pci bus id: <undefined>)\n"
     ]
    }
   ],
   "source": [
    "model = create_model()"
   ]
  },
  {
   "cell_type": "code",
   "execution_count": 9,
   "id": "08718e27",
   "metadata": {
    "scrolled": true
   },
   "outputs": [
    {
     "name": "stdout",
     "output_type": "stream",
     "text": [
      "Model: \"model\"\n",
      "_________________________________________________________________\n",
      "Layer (type)                 Output Shape              Param #   \n",
      "=================================================================\n",
      "input_1 (InputLayer)         [(None, 32, 32, 3)]       0         \n",
      "_________________________________________________________________\n",
      "conv2d (Conv2D)              (None, 32, 32, 64)        1792      \n",
      "_________________________________________________________________\n",
      "batch_normalization (BatchNo (None, 32, 32, 64)        256       \n",
      "_________________________________________________________________\n",
      "activation (Activation)      (None, 32, 32, 64)        0         \n",
      "_________________________________________________________________\n",
      "conv2d_1 (Conv2D)            (None, 32, 32, 64)        36928     \n",
      "_________________________________________________________________\n",
      "batch_normalization_1 (Batch (None, 32, 32, 64)        256       \n",
      "_________________________________________________________________\n",
      "activation_1 (Activation)    (None, 32, 32, 64)        0         \n",
      "_________________________________________________________________\n",
      "max_pooling2d (MaxPooling2D) (None, 16, 16, 64)        0         \n",
      "_________________________________________________________________\n",
      "conv2d_2 (Conv2D)            (None, 16, 16, 128)       73856     \n",
      "_________________________________________________________________\n",
      "batch_normalization_2 (Batch (None, 16, 16, 128)       512       \n",
      "_________________________________________________________________\n",
      "activation_2 (Activation)    (None, 16, 16, 128)       0         \n",
      "_________________________________________________________________\n",
      "conv2d_3 (Conv2D)            (None, 16, 16, 128)       147584    \n",
      "_________________________________________________________________\n",
      "batch_normalization_3 (Batch (None, 16, 16, 128)       512       \n",
      "_________________________________________________________________\n",
      "activation_3 (Activation)    (None, 16, 16, 128)       0         \n",
      "_________________________________________________________________\n",
      "max_pooling2d_1 (MaxPooling2 (None, 8, 8, 128)         0         \n",
      "_________________________________________________________________\n",
      "conv2d_4 (Conv2D)            (None, 8, 8, 256)         295168    \n",
      "_________________________________________________________________\n",
      "batch_normalization_4 (Batch (None, 8, 8, 256)         1024      \n",
      "_________________________________________________________________\n",
      "activation_4 (Activation)    (None, 8, 8, 256)         0         \n",
      "_________________________________________________________________\n",
      "conv2d_5 (Conv2D)            (None, 8, 8, 256)         590080    \n",
      "_________________________________________________________________\n",
      "batch_normalization_5 (Batch (None, 8, 8, 256)         1024      \n",
      "_________________________________________________________________\n",
      "activation_5 (Activation)    (None, 8, 8, 256)         0         \n",
      "_________________________________________________________________\n",
      "conv2d_6 (Conv2D)            (None, 8, 8, 512)         1180160   \n",
      "_________________________________________________________________\n",
      "batch_normalization_6 (Batch (None, 8, 8, 512)         2048      \n",
      "_________________________________________________________________\n",
      "activation_6 (Activation)    (None, 8, 8, 512)         0         \n",
      "_________________________________________________________________\n",
      "max_pooling2d_2 (MaxPooling2 (None, 4, 4, 512)         0         \n",
      "_________________________________________________________________\n",
      "flatten (Flatten)            (None, 8192)              0         \n",
      "_________________________________________________________________\n",
      "dropout (Dropout)            (None, 8192)              0         \n",
      "_________________________________________________________________\n",
      "fc1 (Dense)                  (None, 300)               2457900   \n",
      "_________________________________________________________________\n",
      "dropout_1 (Dropout)          (None, 300)               0         \n",
      "_________________________________________________________________\n",
      "output (Dense)               (None, 10)                3010      \n",
      "=================================================================\n",
      "Total params: 4,792,110\n",
      "Trainable params: 4,789,294\n",
      "Non-trainable params: 2,816\n",
      "_________________________________________________________________\n"
     ]
    }
   ],
   "source": [
    "model.summary()"
   ]
  },
  {
   "cell_type": "markdown",
   "id": "164a9f43",
   "metadata": {},
   "source": [
    "### Callbacks"
   ]
  },
  {
   "cell_type": "code",
   "execution_count": 10,
   "id": "d9aa6e9d",
   "metadata": {},
   "outputs": [],
   "source": [
    "rlr_cb = ReduceLROnPlateau(\n",
    "    monitor='val_loss',\n",
    "    factor=0.2,\n",
    "    patience=5,\n",
    "    mode='min',\n",
    "    verbose=1\n",
    ")\n",
    "\n",
    "ely_cb = EarlyStopping(\n",
    "    monitor='val_loss',\n",
    "    patience=10,\n",
    "    mode='min',\n",
    "    verbose=1\n",
    ")"
   ]
  },
  {
   "cell_type": "code",
   "execution_count": 11,
   "id": "d1d9d898",
   "metadata": {},
   "outputs": [
    {
     "name": "stderr",
     "output_type": "stream",
     "text": [
      "/Users/jamm/miniforge3/envs/tf/lib/python3.9/site-packages/tensorflow/python/keras/optimizer_v2/optimizer_v2.py:374: UserWarning: The `lr` argument is deprecated, use `learning_rate` instead.\n",
      "  warnings.warn(\n",
      "2021-08-22 18:49:03.757949: I tensorflow/compiler/mlir/mlir_graph_optimization_pass.cc:176] None of the MLIR Optimization Passes are enabled (registered 2)\n",
      "2021-08-22 18:49:03.760727: W tensorflow/core/platform/profile_utils/cpu_utils.cc:128] Failed to get CPU frequency: 0 Hz\n"
     ]
    },
    {
     "name": "stdout",
     "output_type": "stream",
     "text": [
      "Epoch 1/32\n"
     ]
    },
    {
     "name": "stderr",
     "output_type": "stream",
     "text": [
      "2021-08-22 18:49:04.020931: I tensorflow/core/grappler/optimizers/custom_graph_optimizer_registry.cc:112] Plugin optimizer for device_type GPU is enabled.\n"
     ]
    },
    {
     "name": "stdout",
     "output_type": "stream",
     "text": [
      "1329/1329 [==============================] - ETA: 0s - loss: 1.8591 - accuracy: 0.3072"
     ]
    },
    {
     "name": "stderr",
     "output_type": "stream",
     "text": [
      "2021-08-22 18:50:22.753457: I tensorflow/core/grappler/optimizers/custom_graph_optimizer_registry.cc:112] Plugin optimizer for device_type GPU is enabled.\n"
     ]
    },
    {
     "name": "stdout",
     "output_type": "stream",
     "text": [
      "1329/1329 [==============================] - 83s 62ms/step - loss: 1.8591 - accuracy: 0.3072 - val_loss: 1.6300 - val_accuracy: 0.4319\n",
      "Epoch 2/32\n",
      "1329/1329 [==============================] - 82s 62ms/step - loss: 1.4375 - accuracy: 0.4539 - val_loss: 1.3616 - val_accuracy: 0.5084\n",
      "Epoch 3/32\n",
      "1329/1329 [==============================] - 82s 62ms/step - loss: 1.2257 - accuracy: 0.5529 - val_loss: 1.0155 - val_accuracy: 0.6529\n",
      "Epoch 4/32\n",
      "1329/1329 [==============================] - 83s 62ms/step - loss: 1.0841 - accuracy: 0.6119 - val_loss: 0.9830 - val_accuracy: 0.6600\n",
      "Epoch 5/32\n",
      "1329/1329 [==============================] - 83s 62ms/step - loss: 0.9764 - accuracy: 0.6552 - val_loss: 0.8433 - val_accuracy: 0.7188\n",
      "Epoch 6/32\n",
      "1329/1329 [==============================] - 82s 62ms/step - loss: 0.8628 - accuracy: 0.7020 - val_loss: 0.9044 - val_accuracy: 0.7223\n",
      "Epoch 7/32\n",
      "1329/1329 [==============================] - 83s 62ms/step - loss: 0.7724 - accuracy: 0.7320 - val_loss: 0.7017 - val_accuracy: 0.7713\n",
      "Epoch 8/32\n",
      "1329/1329 [==============================] - 82s 62ms/step - loss: 0.6949 - accuracy: 0.7629 - val_loss: 0.7868 - val_accuracy: 0.7607\n",
      "Epoch 9/32\n",
      "1329/1329 [==============================] - 82s 62ms/step - loss: 0.6002 - accuracy: 0.7990 - val_loss: 0.5605 - val_accuracy: 0.8213\n",
      "Epoch 10/32\n",
      "1329/1329 [==============================] - 82s 62ms/step - loss: 0.5008 - accuracy: 0.8375 - val_loss: 0.6434 - val_accuracy: 0.7959\n",
      "Epoch 11/32\n",
      "1329/1329 [==============================] - 83s 62ms/step - loss: 0.4135 - accuracy: 0.8652 - val_loss: 0.6566 - val_accuracy: 0.8097\n",
      "Epoch 12/32\n",
      "1329/1329 [==============================] - 85s 64ms/step - loss: 0.3582 - accuracy: 0.8840 - val_loss: 0.7393 - val_accuracy: 0.8101\n",
      "Epoch 13/32\n",
      "1329/1329 [==============================] - 85s 64ms/step - loss: 0.3077 - accuracy: 0.9017 - val_loss: 0.7203 - val_accuracy: 0.8143\n",
      "Epoch 14/32\n",
      "1329/1329 [==============================] - 84s 63ms/step - loss: 0.2573 - accuracy: 0.9164 - val_loss: 0.6591 - val_accuracy: 0.8121\n",
      "\n",
      "Epoch 00014: ReduceLROnPlateau reducing learning rate to 0.00020000000949949026.\n",
      "Epoch 15/32\n",
      "1329/1329 [==============================] - 85s 64ms/step - loss: 0.1389 - accuracy: 0.9544 - val_loss: 0.5174 - val_accuracy: 0.8724\n",
      "Epoch 16/32\n",
      "1329/1329 [==============================] - 84s 63ms/step - loss: 0.0967 - accuracy: 0.9666 - val_loss: 0.5488 - val_accuracy: 0.8739\n",
      "Epoch 17/32\n",
      "1329/1329 [==============================] - 84s 64ms/step - loss: 0.0743 - accuracy: 0.9752 - val_loss: 0.5590 - val_accuracy: 0.8777\n",
      "Epoch 18/32\n",
      "1329/1329 [==============================] - 84s 63ms/step - loss: 0.0624 - accuracy: 0.9797 - val_loss: 0.6198 - val_accuracy: 0.8715\n",
      "Epoch 19/32\n",
      "1329/1329 [==============================] - 89s 67ms/step - loss: 0.0502 - accuracy: 0.9833 - val_loss: 0.6787 - val_accuracy: 0.8696\n",
      "Epoch 20/32\n",
      "1329/1329 [==============================] - 89s 67ms/step - loss: 0.0429 - accuracy: 0.9856 - val_loss: 0.6899 - val_accuracy: 0.8755\n",
      "\n",
      "Epoch 00020: ReduceLROnPlateau reducing learning rate to 4.0000001899898055e-05.\n",
      "Epoch 21/32\n",
      "1329/1329 [==============================] - 87s 65ms/step - loss: 0.0292 - accuracy: 0.9904 - val_loss: 0.6697 - val_accuracy: 0.8799\n",
      "Epoch 22/32\n",
      "1329/1329 [==============================] - 86s 65ms/step - loss: 0.0245 - accuracy: 0.9918 - val_loss: 0.6877 - val_accuracy: 0.8820\n",
      "Epoch 23/32\n",
      "1329/1329 [==============================] - 89s 67ms/step - loss: 0.0203 - accuracy: 0.9938 - val_loss: 0.7196 - val_accuracy: 0.8800\n",
      "Epoch 24/32\n",
      "1329/1329 [==============================] - 90s 67ms/step - loss: 0.0216 - accuracy: 0.9934 - val_loss: 0.7392 - val_accuracy: 0.8804\n",
      "Epoch 25/32\n",
      "1329/1329 [==============================] - 91s 69ms/step - loss: 0.0173 - accuracy: 0.9946 - val_loss: 0.7474 - val_accuracy: 0.8817\n",
      "\n",
      "Epoch 00025: ReduceLROnPlateau reducing learning rate to 8.000000525498762e-06.\n",
      "Epoch 00025: early stopping\n"
     ]
    }
   ],
   "source": [
    "model.compile(\n",
    "    optimizer=Adam(lr=0.001),\n",
    "    loss='categorical_crossentropy',\n",
    "    metrics=['accuracy']\n",
    ")\n",
    "\n",
    "history = model.fit(\n",
    "    x=tr_images,\n",
    "    y=tr_oh_labels,\n",
    "    batch_size=32,\n",
    "    epochs=32,\n",
    "    shuffle=True,\n",
    "    validation_data=(val_images, val_oh_labels),\n",
    "    callbacks=[rlr_cb, ely_cb]\n",
    ")"
   ]
  },
  {
   "cell_type": "code",
   "execution_count": 14,
   "id": "f39b21d5",
   "metadata": {},
   "outputs": [
    {
     "name": "stdout",
     "output_type": "stream",
     "text": [
      "313/313 [==============================] - 6s 18ms/step - loss: 0.7890 - accuracy: 0.8740\n"
     ]
    },
    {
     "data": {
      "image/png": "[encoded data removed]",
      "text/plain": [
       "<Figure size 576x288 with 1 Axes>"
      ]
     },
     "metadata": {
      "needs_background": "light"
     },
     "output_type": "display_data"
    }
   ],
   "source": [
    "model.evaluate(test_images, test_oh_labels)\n",
    "show_history(history)"
   ]
  },
  {
   "cell_type": "code",
   "execution_count": null,
   "id": "1345f26b",
   "metadata": {},
   "outputs": [],
   "source": []
  }
 ],
 "metadata": {
  "kernelspec": {
   "display_name": "Python 3 (ipykernel)",
   "language": "python",
   "name": "python3"
  },
  "language_info": {
   "codemirror_mode": {
    "name": "ipython",
    "version": 3
   },
   "file_extension": ".py",
   "mimetype": "text/x-python",
   "name": "python",
   "nbconvert_exporter": "python",
   "pygments_lexer": "ipython3",
   "version": "3.9.5"
  }
 },
 "nbformat": 4,
 "nbformat_minor": 5
}
