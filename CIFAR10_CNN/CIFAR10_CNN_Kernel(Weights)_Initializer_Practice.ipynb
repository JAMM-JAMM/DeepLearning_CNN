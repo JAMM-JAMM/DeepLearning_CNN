{
 "cells": [
  {
   "cell_type": "markdown",
   "id": "54d98856",
   "metadata": {},
   "source": [
    "### Random number extraction from Normal Distribution when mean is 0 and standard deviation is 1"
   ]
  },
  {
   "cell_type": "code",
   "execution_count": 15,
   "id": "b2456062",
   "metadata": {},
   "outputs": [
    {
     "name": "stdout",
     "output_type": "stream",
     "text": [
      "[[-0.27561966  0.4518818   0.68130212 ... -1.6056087   1.0547519\n",
      "   0.36118254]\n",
      " [ 0.16213683  0.35437287 -1.36017777 ... -0.52584911 -1.37213456\n",
      "   0.14177062]\n",
      " [ 1.24310563 -0.04411428  0.02893994 ...  0.80851523  1.40138184\n",
      "  -0.98059716]\n",
      " ...\n",
      " [ 0.28632231  0.24311043 -0.15603269 ... -0.50016959 -1.68216988\n",
      "  -0.00983862]\n",
      " [-1.00446556 -1.43398652  0.22143896 ... -0.27903519 -0.04086252\n",
      "   0.41132337]\n",
      " [-0.34668777 -1.03869481 -0.95700598 ...  1.42649614 -0.41963275\n",
      "   1.71358881]]\n",
      "numbers mean:  0.013064116912349832\n",
      "numbers std:  1.0104779505843091\n",
      "numbers sum:  130.64116912349832\n"
     ]
    }
   ],
   "source": [
    "import numpy as np\n",
    "\n",
    "numbers = np.random.normal(loc=0.0, scale=1, size=[100, 100])\n",
    "\n",
    "print(numbers)\n",
    "print('numbers mean: ', numbers.mean())\n",
    "print('numbers std: ', numbers.std())\n",
    "print('numbers sum: ', numbers.sum())"
   ]
  },
  {
   "cell_type": "markdown",
   "id": "276c821f",
   "metadata": {},
   "source": [
    "### Xavier initialization"
   ]
  },
  {
   "cell_type": "code",
   "execution_count": 18,
   "id": "71efe183",
   "metadata": {},
   "outputs": [
    {
     "name": "stdout",
     "output_type": "stream",
     "text": [
      "scale:  0.23904572186687872\n",
      "[[ 0.14452811 -0.27539631 -0.03188927 ... -0.07509433  0.107375\n",
      "   0.40240819]\n",
      " [ 0.19410811  0.01179494  0.00810436 ... -0.13685791 -0.12275209\n",
      "   0.19828253]\n",
      " [-0.14095433 -0.1772363   0.15440006 ...  0.48475562  0.29150202\n",
      "  -0.05348147]\n",
      " ...\n",
      " [-0.25510345  0.09642573  0.31801721 ... -0.04830174  0.38469128\n",
      "  -0.36222712]\n",
      " [ 0.2037427   0.02094239 -0.29466288 ... -0.03181783  0.42488117\n",
      "  -0.22340234]\n",
      " [-0.26369857  0.40602575  0.19827832 ... -0.17095302 -0.28506073\n",
      "   0.12851605]]\n",
      "weights mean:  0.003328888941301149\n",
      "weights std:  0.23753239642251764\n",
      "weights sum:  33.28888941301149\n"
     ]
    }
   ],
   "source": [
    "# glorot_normal\n",
    "\n",
    "fan_in = 20\n",
    "fan_out = 15\n",
    "\n",
    "scale_value = np.sqrt(2/(fan_in + fan_out))\n",
    "print('scale: ', scale_value)\n",
    "\n",
    "weights = np.random.normal(loc=0.0, scale=scale_value, size=(100, 100))\n",
    "print(weights)\n",
    "print('weights mean: ', weights.mean())\n",
    "print('weights std: ', weights.std())\n",
    "print('weights sum: ', weights.sum())"
   ]
  },
  {
   "cell_type": "code",
   "execution_count": 19,
   "id": "5ab97a2f",
   "metadata": {},
   "outputs": [
    {
     "name": "stdout",
     "output_type": "stream",
     "text": [
      "limit:  0.5773502691896257\n",
      "[[ 0.33352888  0.51835357 -0.54321741 ...  0.40792187  0.30337703\n",
      "  -0.04089126]\n",
      " [ 0.06598068  0.23164116 -0.39672003 ...  0.09062929  0.37582018\n",
      "  -0.43713261]\n",
      " [ 0.36131079  0.5663617   0.46625232 ... -0.27258418  0.52269536\n",
      "  -0.52927339]\n",
      " ...\n",
      " [ 0.05336694 -0.54147563  0.29234174 ... -0.32635424  0.01106671\n",
      "  -0.50965289]\n",
      " [ 0.31639125  0.38741323  0.44873037 ...  0.44838749  0.28085897\n",
      "  -0.21047401]\n",
      " [ 0.43671937  0.06368685 -0.24077483 ... -0.39091708  0.49267032\n",
      "   0.13710503]]\n",
      "weights mean:  0.0010373552083592923\n",
      "weights std:  0.3340673258899029\n",
      "weights sum:  10.373552083592923\n"
     ]
    }
   ],
   "source": [
    "# glorot_uniform\n",
    "\n",
    "fan_in = 10\n",
    "fan_out = 8\n",
    "\n",
    "limit = np.sqrt(6/(fan_in + fan_out))\n",
    "print('limit: ', limit)\n",
    "\n",
    "weights = np.random.uniform(-1*limit, limit, size=(100, 100))\n",
    "print(weights)\n",
    "print('weights mean: ', weights.mean())\n",
    "print('weights std: ', weights.std())\n",
    "print('weights sum: ', weights.sum())"
   ]
  },
  {
   "cell_type": "markdown",
   "id": "af276422",
   "metadata": {},
   "source": [
    "### He initialization"
   ]
  },
  {
   "cell_type": "code",
   "execution_count": 20,
   "id": "9828e90a",
   "metadata": {},
   "outputs": [
    {
     "name": "stdout",
     "output_type": "stream",
     "text": [
      "sacle:  0.4472135954999579\n",
      "[[-0.3707215   0.17020919 -0.18374588 ...  0.03275683 -0.34826084\n",
      "   0.29325324]\n",
      " [-0.74334308  0.65205948 -0.74465291 ... -0.68288269  0.17693762\n",
      "   0.21215781]\n",
      " [ 0.31497772 -1.02786311 -0.07375181 ...  0.06957963  0.26971414\n",
      "  -0.40932062]\n",
      " ...\n",
      " [-0.03659539  0.03215372  0.29706135 ... -0.89972699  0.11004607\n",
      "  -0.11080826]\n",
      " [ 0.37222022  0.90572575  0.19596072 ...  0.54903206 -0.03124113\n",
      "   0.15212226]\n",
      " [ 0.67601467  0.58733681  0.23637345 ...  0.17021033  0.08323621\n",
      "  -0.98242937]]\n",
      "weights mean:  0.009350399747397846\n",
      "weights std:  0.44531777893918434\n",
      "weights sum:  93.50399747397846\n"
     ]
    }
   ],
   "source": [
    "# he_normal\n",
    "\n",
    "fan_in = 10\n",
    "fan_out = 8\n",
    "\n",
    "scale_value = np.sqrt(2/(fan_in))\n",
    "print('sacle: ', scale_value)\n",
    "\n",
    "weights = np.random.normal(loc=0.0, scale=scale_value, size=(100, 100))\n",
    "print(weights)\n",
    "print('weights mean: ', weights.mean())\n",
    "print('weights std: ', weights.std())\n",
    "print('weights sum: ', weights.sum())"
   ]
  },
  {
   "cell_type": "code",
   "execution_count": 21,
   "id": "f6e49cf3",
   "metadata": {},
   "outputs": [
    {
     "name": "stdout",
     "output_type": "stream",
     "text": [
      "limit:  0.7745966692414834\n",
      "[[-0.63248912 -0.64991171 -0.2313001  ... -0.41175862 -0.32283787\n",
      "   0.5523437 ]\n",
      " [ 0.4078921  -0.56262207 -0.10323942 ...  0.69578813  0.75659757\n",
      "  -0.67797474]\n",
      " [-0.30957357  0.6660242   0.24307399 ... -0.19926254  0.60802813\n",
      "   0.4707597 ]\n",
      " ...\n",
      " [-0.61376741 -0.06091623  0.17939675 ... -0.33077229 -0.70884305\n",
      "   0.74455742]\n",
      " [-0.00316163 -0.00729074 -0.68839266 ...  0.24629122  0.09481758\n",
      "   0.15132182]\n",
      " [-0.03043748  0.51418764  0.54072635 ...  0.58153714  0.43131291\n",
      "   0.74784492]]\n",
      "weights mean:  -0.0043746782881211995\n",
      "weights std:  0.44809776310335897\n",
      "weights sum:  -43.746782881212\n"
     ]
    }
   ],
   "source": [
    "# he_uniform\n",
    "\n",
    "fan_in = 10\n",
    "fan_out = 8\n",
    "\n",
    "limit = np.sqrt(6/fan_in)\n",
    "print('limit: ', limit)\n",
    "\n",
    "weights = np.random.uniform(-1*limit, limit, size=(100, 100))\n",
    "print(weights)\n",
    "print('weights mean: ', weights.mean())\n",
    "print('weights std: ', weights.std())\n",
    "print('weights sum: ', weights.sum())"
   ]
  },
  {
   "cell_type": "markdown",
   "id": "70a4e633",
   "metadata": {},
   "source": [
    "### Model Evaluation with he normal initialization"
   ]
  },
  {
   "cell_type": "code",
   "execution_count": 22,
   "id": "21ffc94f",
   "metadata": {},
   "outputs": [
    {
     "name": "stdout",
     "output_type": "stream",
     "text": [
      "Init Plugin\n",
      "Init Graph Optimizer\n",
      "Init Kernel\n"
     ]
    }
   ],
   "source": [
    "from tensorflow.keras.datasets import cifar10\n",
    "from tensorflow.keras.utils import to_categorical\n",
    "\n",
    "def get_preprocessed_data(images, labels):\n",
    "    \n",
    "    images = np.array(images/255.0, dtype=np.float32)\n",
    "    labels = np.array(labels, dtype=np.float32)\n",
    "    labels = labels.squeeze()\n",
    "    \n",
    "    return images, labels\n",
    "\n",
    "def get_preprocessed_ohe(images, labels):\n",
    "    \n",
    "    images, labels = get_preprocessed_data(images, labels)\n",
    "    oh_labels = to_categorical(labels)\n",
    "    \n",
    "    return images, oh_labels"
   ]
  },
  {
   "cell_type": "code",
   "execution_count": 23,
   "id": "4e77990f",
   "metadata": {},
   "outputs": [
    {
     "name": "stdout",
     "output_type": "stream",
     "text": [
      "train datasets shape:  (50000, 32, 32, 3) (50000, 1)\n",
      "test datasets shape:  (10000, 32, 32, 3) (10000, 1)\n"
     ]
    }
   ],
   "source": [
    "(train_images, train_labels), (test_images, test_labels) = \\\n",
    "    cifar10.load_data()\n",
    "\n",
    "print('train datasets shape: ', train_images.shape, train_labels.shape)\n",
    "print('test datasets shape: ', test_images.shape, test_labels.shape)"
   ]
  },
  {
   "cell_type": "code",
   "execution_count": 24,
   "id": "b8dc554a",
   "metadata": {},
   "outputs": [
    {
     "name": "stdout",
     "output_type": "stream",
     "text": [
      "train datasets shape:  (50000, 32, 32, 3) (50000, 10)\n"
     ]
    }
   ],
   "source": [
    "train_images, train_oh_labels = get_preprocessed_ohe(train_images, train_labels)\n",
    "print('train datasets shape: ', train_images.shape, train_oh_labels.shape)"
   ]
  },
  {
   "cell_type": "code",
   "execution_count": 29,
   "id": "bc56711b",
   "metadata": {},
   "outputs": [
    {
     "name": "stdout",
     "output_type": "stream",
     "text": [
      "test datasets shape:  (10000, 32, 32, 3) (10000, 10)\n"
     ]
    }
   ],
   "source": [
    "test_images, test_oh_labels = get_preprocessed_ohe(test_images, test_labels)\n",
    "print('test datasets shape: ', test_images.shape, test_oh_labels.shape)"
   ]
  },
  {
   "cell_type": "code",
   "execution_count": 31,
   "id": "ffc42d37",
   "metadata": {},
   "outputs": [
    {
     "name": "stdout",
     "output_type": "stream",
     "text": [
      "Model: \"model_1\"\n",
      "_________________________________________________________________\n",
      "Layer (type)                 Output Shape              Param #   \n",
      "=================================================================\n",
      "input_2 (InputLayer)         [(None, 32, 32, 3)]       0         \n",
      "_________________________________________________________________\n",
      "conv2d_6 (Conv2D)            (None, 32, 32, 32)        896       \n",
      "_________________________________________________________________\n",
      "conv2d_7 (Conv2D)            (None, 32, 32, 32)        9248      \n",
      "_________________________________________________________________\n",
      "max_pooling2d_3 (MaxPooling2 (None, 16, 16, 32)        0         \n",
      "_________________________________________________________________\n",
      "conv2d_8 (Conv2D)            (None, 16, 16, 64)        18496     \n",
      "_________________________________________________________________\n",
      "conv2d_9 (Conv2D)            (None, 16, 16, 64)        36928     \n",
      "_________________________________________________________________\n",
      "max_pooling2d_4 (MaxPooling2 (None, 8, 8, 64)          0         \n",
      "_________________________________________________________________\n",
      "conv2d_10 (Conv2D)           (None, 8, 8, 128)         73856     \n",
      "_________________________________________________________________\n",
      "conv2d_11 (Conv2D)           (None, 8, 8, 128)         147584    \n",
      "_________________________________________________________________\n",
      "max_pooling2d_5 (MaxPooling2 (None, 4, 4, 128)         0         \n",
      "_________________________________________________________________\n",
      "flatten (Flatten)            (None, 2048)              0         \n",
      "_________________________________________________________________\n",
      "dropout_2 (Dropout)          (None, 2048)              0         \n",
      "_________________________________________________________________\n",
      "fc1 (Dense)                  (None, 300)               614700    \n",
      "_________________________________________________________________\n",
      "dropout_3 (Dropout)          (None, 300)               0         \n",
      "_________________________________________________________________\n",
      "output (Dense)               (None, 10)                3010      \n",
      "=================================================================\n",
      "Total params: 904,718\n",
      "Trainable params: 904,718\n",
      "Non-trainable params: 0\n",
      "_________________________________________________________________\n"
     ]
    }
   ],
   "source": [
    "from tensorflow.keras.models import Model\n",
    "from tensorflow.keras.layers import Input, Dense, Conv2D, Dropout, Flatten, MaxPooling2D\n",
    "\n",
    "IMAGE_SIZE = 32\n",
    "\n",
    "input_tensor = Input(shape=(IMAGE_SIZE, IMAGE_SIZE, 3))\n",
    "\n",
    "x = Conv2D(filters=32, kernel_size=(3, 3), padding='same', activation='relu', kernel_initializer='he_normal')(input_tensor)\n",
    "x = Conv2D(filters=32, kernel_size=(3, 3), padding='same', activation='relu', kernel_initializer='he_normal')(x)\n",
    "x = MaxPooling2D(pool_size=(2, 2))(x)\n",
    "\n",
    "x = Conv2D(filters=64, kernel_size=(3, 3), padding='same', activation='relu', kernel_initializer='he_normal')(x)\n",
    "x = Conv2D(filters=64, kernel_size=(3, 3), padding='same', activation='relu', kernel_initializer='he_normal')(x)\n",
    "x = MaxPooling2D(pool_size=(2, 2))(x)\n",
    "\n",
    "x = Conv2D(filters=128, kernel_size=(3, 3), padding='same', activation='relu', kernel_initializer='he_normal')(x)\n",
    "x = Conv2D(filters=128, kernel_size=(3, 3), padding='same', activation='relu', kernel_initializer='he_normal')(x)\n",
    "x = MaxPooling2D(pool_size=(2, 2))(x)\n",
    "\n",
    "x = Flatten(name='flatten')(x)\n",
    "x = Dropout(rate=0.5)(x)\n",
    "x = Dense(300, activation='relu', name='fc1')(x)\n",
    "x = Dropout(rate=0.3)(x)\n",
    "\n",
    "output = Dense(10, activation='softmax', name='output')(x)\n",
    "\n",
    "model = Model(inputs=input_tensor, outputs=output)\n",
    "\n",
    "model.summary()"
   ]
  },
  {
   "cell_type": "code",
   "execution_count": 32,
   "id": "e5d6a932",
   "metadata": {
    "scrolled": true
   },
   "outputs": [
    {
     "name": "stderr",
     "output_type": "stream",
     "text": [
      "2021-08-16 18:57:05.903848: I tensorflow/compiler/mlir/mlir_graph_optimization_pass.cc:176] None of the MLIR Optimization Passes are enabled (registered 2)\n",
      "2021-08-16 18:57:05.907060: W tensorflow/core/platform/profile_utils/cpu_utils.cc:128] Failed to get CPU frequency: 0 Hz\n"
     ]
    },
    {
     "name": "stdout",
     "output_type": "stream",
     "text": [
      "Epoch 1/30\n"
     ]
    },
    {
     "name": "stderr",
     "output_type": "stream",
     "text": [
      "2021-08-16 18:57:06.287448: I tensorflow/core/grappler/optimizers/custom_graph_optimizer_registry.cc:112] Plugin optimizer for device_type GPU is enabled.\n"
     ]
    },
    {
     "name": "stdout",
     "output_type": "stream",
     "text": [
      "665/665 [==============================] - ETA: 0s - loss: 1.6145 - accuracy: 0.4103"
     ]
    },
    {
     "name": "stderr",
     "output_type": "stream",
     "text": [
      "2021-08-16 18:57:23.246823: I tensorflow/core/grappler/optimizers/custom_graph_optimizer_registry.cc:112] Plugin optimizer for device_type GPU is enabled.\n"
     ]
    },
    {
     "name": "stdout",
     "output_type": "stream",
     "text": [
      "665/665 [==============================] - 18s 25ms/step - loss: 1.6145 - accuracy: 0.4103 - val_loss: 1.2484 - val_accuracy: 0.5535\n",
      "Epoch 2/30\n",
      "665/665 [==============================] - 16s 24ms/step - loss: 1.1520 - accuracy: 0.5900 - val_loss: 1.0427 - val_accuracy: 0.6317\n",
      "Epoch 3/30\n",
      "665/665 [==============================] - 16s 24ms/step - loss: 0.9403 - accuracy: 0.6705 - val_loss: 0.8374 - val_accuracy: 0.7056\n",
      "Epoch 4/30\n",
      "665/665 [==============================] - 17s 25ms/step - loss: 0.8235 - accuracy: 0.7090 - val_loss: 0.7532 - val_accuracy: 0.7339\n",
      "Epoch 5/30\n",
      "665/665 [==============================] - 17s 25ms/step - loss: 0.7375 - accuracy: 0.7411 - val_loss: 0.7151 - val_accuracy: 0.7484\n",
      "Epoch 6/30\n",
      "665/665 [==============================] - 17s 25ms/step - loss: 0.6657 - accuracy: 0.7641 - val_loss: 0.6952 - val_accuracy: 0.7613\n",
      "Epoch 7/30\n",
      "665/665 [==============================] - 17s 25ms/step - loss: 0.6150 - accuracy: 0.7827 - val_loss: 0.6947 - val_accuracy: 0.7637\n",
      "Epoch 8/30\n",
      "665/665 [==============================] - 17s 25ms/step - loss: 0.5699 - accuracy: 0.7983 - val_loss: 0.6634 - val_accuracy: 0.7731\n",
      "Epoch 9/30\n",
      "665/665 [==============================] - 17s 25ms/step - loss: 0.5257 - accuracy: 0.8141 - val_loss: 0.7292 - val_accuracy: 0.7595\n",
      "Epoch 10/30\n",
      "665/665 [==============================] - 17s 25ms/step - loss: 0.5084 - accuracy: 0.8211 - val_loss: 0.6457 - val_accuracy: 0.7807\n",
      "Epoch 11/30\n",
      "665/665 [==============================] - 17s 25ms/step - loss: 0.4587 - accuracy: 0.8386 - val_loss: 0.6588 - val_accuracy: 0.7817\n",
      "Epoch 12/30\n",
      "665/665 [==============================] - 16s 24ms/step - loss: 0.4374 - accuracy: 0.8445 - val_loss: 0.6687 - val_accuracy: 0.7824\n",
      "Epoch 13/30\n",
      "665/665 [==============================] - 15s 23ms/step - loss: 0.4158 - accuracy: 0.8530 - val_loss: 0.6297 - val_accuracy: 0.7995\n",
      "Epoch 14/30\n",
      "665/665 [==============================] - 16s 23ms/step - loss: 0.3945 - accuracy: 0.8589 - val_loss: 0.6434 - val_accuracy: 0.7912\n",
      "Epoch 15/30\n",
      "665/665 [==============================] - 16s 24ms/step - loss: 0.3842 - accuracy: 0.8645 - val_loss: 0.6520 - val_accuracy: 0.7907\n",
      "Epoch 16/30\n",
      "665/665 [==============================] - 16s 24ms/step - loss: 0.3553 - accuracy: 0.8748 - val_loss: 0.6506 - val_accuracy: 0.7891\n",
      "Epoch 17/30\n",
      "665/665 [==============================] - 16s 23ms/step - loss: 0.3427 - accuracy: 0.8780 - val_loss: 0.6514 - val_accuracy: 0.7923\n",
      "Epoch 18/30\n",
      "665/665 [==============================] - 15s 23ms/step - loss: 0.3326 - accuracy: 0.8810 - val_loss: 0.7263 - val_accuracy: 0.7755\n",
      "Epoch 19/30\n",
      "665/665 [==============================] - 16s 24ms/step - loss: 0.3275 - accuracy: 0.8831 - val_loss: 0.6802 - val_accuracy: 0.7896\n",
      "Epoch 20/30\n",
      "665/665 [==============================] - 16s 24ms/step - loss: 0.3150 - accuracy: 0.8899 - val_loss: 0.6620 - val_accuracy: 0.7905\n",
      "Epoch 21/30\n",
      "665/665 [==============================] - 16s 23ms/step - loss: 0.3068 - accuracy: 0.8927 - val_loss: 0.6813 - val_accuracy: 0.7943\n",
      "Epoch 22/30\n",
      "665/665 [==============================] - 16s 23ms/step - loss: 0.3039 - accuracy: 0.8928 - val_loss: 0.6558 - val_accuracy: 0.7971\n",
      "Epoch 23/30\n",
      "665/665 [==============================] - 16s 23ms/step - loss: 0.2915 - accuracy: 0.8967 - val_loss: 0.6813 - val_accuracy: 0.7891\n",
      "Epoch 24/30\n",
      "665/665 [==============================] - 16s 23ms/step - loss: 0.2808 - accuracy: 0.9012 - val_loss: 0.7170 - val_accuracy: 0.7824\n",
      "Epoch 25/30\n",
      "665/665 [==============================] - 15s 23ms/step - loss: 0.2879 - accuracy: 0.8998 - val_loss: 0.7319 - val_accuracy: 0.7844\n",
      "Epoch 26/30\n",
      "665/665 [==============================] - 15s 23ms/step - loss: 0.2845 - accuracy: 0.9007 - val_loss: 0.6858 - val_accuracy: 0.7989\n",
      "Epoch 27/30\n",
      "665/665 [==============================] - 16s 23ms/step - loss: 0.2739 - accuracy: 0.9043 - val_loss: 0.6957 - val_accuracy: 0.8012\n",
      "Epoch 28/30\n",
      "665/665 [==============================] - 16s 23ms/step - loss: 0.2658 - accuracy: 0.9071 - val_loss: 0.6903 - val_accuracy: 0.8001\n",
      "Epoch 29/30\n",
      "665/665 [==============================] - 16s 23ms/step - loss: 0.2771 - accuracy: 0.9027 - val_loss: 0.7108 - val_accuracy: 0.7976\n",
      "Epoch 30/30\n",
      "665/665 [==============================] - 15s 23ms/step - loss: 0.2570 - accuracy: 0.9111 - val_loss: 0.7466 - val_accuracy: 0.7875\n"
     ]
    }
   ],
   "source": [
    "from tensorflow.keras.optimizers import Adam\n",
    "\n",
    "model.compile(optimizer=Adam(), loss='categorical_crossentropy', metrics=['accuracy'])\n",
    "\n",
    "history = model.fit(\n",
    "    x=train_images,\n",
    "    y=train_oh_labels,\n",
    "    batch_size=64,\n",
    "    epochs=30,\n",
    "    validation_split=0.15\n",
    ")"
   ]
  },
  {
   "cell_type": "code",
   "execution_count": 37,
   "id": "066ade02",
   "metadata": {},
   "outputs": [
    {
     "data": {
      "image/png": "[encoded data removed]",
      "text/plain": [
       "<Figure size 432x432 with 1 Axes>"
      ]
     },
     "metadata": {
      "needs_background": "light"
     },
     "output_type": "display_data"
    }
   ],
   "source": [
    "import matplotlib.pyplot as plt\n",
    "%matplotlib inline\n",
    "\n",
    "def show_history(history):\n",
    "    plt.figure(figsize=(6, 6))\n",
    "    plt.yticks(np.arange(0, 1, 0.05))\n",
    "    plt.plot(history.history['accuracy'], label='train')\n",
    "    plt.plot(history.history['val_accuracy'], label='validation')\n",
    "    plt.legend()\n",
    "\n",
    "show_history(history)"
   ]
  },
  {
   "cell_type": "code",
   "execution_count": 40,
   "id": "afe3abd8",
   "metadata": {},
   "outputs": [
    {
     "name": "stdout",
     "output_type": "stream",
     "text": [
      "157/157 [==============================] - 2s 10ms/step - loss: 4.0485 - accuracy: 0.1000\n"
     ]
    },
    {
     "data": {
      "text/plain": [
       "[4.048533916473389, 0.10000000149011612]"
      ]
     },
     "execution_count": 40,
     "metadata": {},
     "output_type": "execute_result"
    }
   ],
   "source": [
    "model.evaluate(test_images, test_oh_labels, batch_size=64)"
   ]
  },
  {
   "cell_type": "code",
   "execution_count": null,
   "id": "1041a290",
   "metadata": {},
   "outputs": [],
   "source": []
  }
 ],
 "metadata": {
  "kernelspec": {
   "display_name": "Python 3 (ipykernel)",
   "language": "python",
   "name": "python3"
  },
  "language_info": {
   "codemirror_mode": {
    "name": "ipython",
    "version": 3
   },
   "file_extension": ".py",
   "mimetype": "text/x-python",
   "name": "python",
   "nbconvert_exporter": "python",
   "pygments_lexer": "ipython3",
   "version": "3.9.5"
  }
 },
 "nbformat": 4,
 "nbformat_minor": 5
}
