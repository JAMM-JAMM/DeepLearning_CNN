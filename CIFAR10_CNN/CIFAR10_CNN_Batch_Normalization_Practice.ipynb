{
 "cells": [
  {
   "cell_type": "markdown",
   "id": "344ee8b9",
   "metadata": {},
   "source": [
    "### Model Evaluation with Batch Normalization"
   ]
  },
  {
   "cell_type": "code",
   "execution_count": 5,
   "id": "2f589574",
   "metadata": {},
   "outputs": [],
   "source": [
    "import numpy as np\n",
    "import tensorflow as tf\n",
    "import random as python_random\n",
    "from tensorflow.keras.datasets import cifar10\n",
    "from tensorflow.keras.utils import to_categorical\n",
    "\n",
    "def get_preprocessed_data(images, labels):\n",
    "    \n",
    "    images = np.array(images/255.0, dtype=np.float32)\n",
    "    labels = np.array(labels, dtype=np.float32)\n",
    "    labels = labels.squeeze()\n",
    "    \n",
    "    return images, labels\n",
    "\n",
    "def get_preprocessed_ohe(images, labels):\n",
    "    \n",
    "    images, labels = get_preprocessed_data(images, labels)\n",
    "    oh_labels = to_categorical(labels)\n",
    "    \n",
    "    return images, oh_labels"
   ]
  },
  {
   "cell_type": "code",
   "execution_count": 6,
   "id": "cd9d4fd3",
   "metadata": {},
   "outputs": [
    {
     "name": "stdout",
     "output_type": "stream",
     "text": [
      "train datasets shape:  (50000, 32, 32, 3) (50000, 1)\n",
      "test datasets shape:  (10000, 32, 32, 3) (10000, 1)\n"
     ]
    }
   ],
   "source": [
    "(train_images, train_labels), (test_images, test_labels) = \\\n",
    "    cifar10.load_data()\n",
    "\n",
    "print('train datasets shape: ', train_images.shape, train_labels.shape)\n",
    "print('test datasets shape: ', test_images.shape, test_labels.shape)"
   ]
  },
  {
   "cell_type": "code",
   "execution_count": 7,
   "id": "3679c1e8",
   "metadata": {},
   "outputs": [
    {
     "name": "stdout",
     "output_type": "stream",
     "text": [
      "train datasets shape:  (50000, 32, 32, 3) (50000, 10)\n"
     ]
    }
   ],
   "source": [
    "train_images, train_oh_labels = get_preprocessed_ohe(train_images, train_labels)\n",
    "print('train datasets shape: ', train_images.shape, train_oh_labels.shape)"
   ]
  },
  {
   "cell_type": "code",
   "execution_count": 8,
   "id": "ef3d0a06",
   "metadata": {},
   "outputs": [
    {
     "name": "stdout",
     "output_type": "stream",
     "text": [
      "test datasets shape:  (10000, 32, 32, 3) (10000, 10)\n"
     ]
    }
   ],
   "source": [
    "test_images, test_oh_labels = get_preprocessed_ohe(test_images, test_labels)\n",
    "print('test datasets shape: ', test_images.shape, test_oh_labels.shape)"
   ]
  },
  {
   "cell_type": "code",
   "execution_count": 10,
   "id": "68c6ec7e",
   "metadata": {},
   "outputs": [
    {
     "name": "stdout",
     "output_type": "stream",
     "text": [
      "Metal device set to: Apple M1\n"
     ]
    },
    {
     "name": "stderr",
     "output_type": "stream",
     "text": [
      "2021-08-16 20:19:21.023085: I tensorflow/core/common_runtime/pluggable_device/pluggable_device_factory.cc:305] Could not identify NUMA node of platform GPU ID 0, defaulting to 0. Your kernel may not have been built with NUMA support.\n",
      "2021-08-16 20:19:21.024049: I tensorflow/core/common_runtime/pluggable_device/pluggable_device_factory.cc:271] Created TensorFlow device (/job:localhost/replica:0/task:0/device:GPU:0 with 0 MB memory) -> physical PluggableDevice (device: 0, name: METAL, pci bus id: <undefined>)\n"
     ]
    },
    {
     "name": "stdout",
     "output_type": "stream",
     "text": [
      "Model: \"model\"\n",
      "_________________________________________________________________\n",
      "Layer (type)                 Output Shape              Param #   \n",
      "=================================================================\n",
      "input_1 (InputLayer)         [(None, 32, 32, 3)]       0         \n",
      "_________________________________________________________________\n",
      "conv2d (Conv2D)              (None, 32, 32, 32)        896       \n",
      "_________________________________________________________________\n",
      "batch_normalization (BatchNo (None, 32, 32, 32)        128       \n",
      "_________________________________________________________________\n",
      "activation (Activation)      (None, 32, 32, 32)        0         \n",
      "_________________________________________________________________\n",
      "conv2d_1 (Conv2D)            (None, 32, 32, 32)        9248      \n",
      "_________________________________________________________________\n",
      "batch_normalization_1 (Batch (None, 32, 32, 32)        128       \n",
      "_________________________________________________________________\n",
      "activation_1 (Activation)    (None, 32, 32, 32)        0         \n",
      "_________________________________________________________________\n",
      "max_pooling2d (MaxPooling2D) (None, 16, 16, 32)        0         \n",
      "_________________________________________________________________\n",
      "conv2d_2 (Conv2D)            (None, 16, 16, 64)        18496     \n",
      "_________________________________________________________________\n",
      "batch_normalization_2 (Batch (None, 16, 16, 64)        256       \n",
      "_________________________________________________________________\n",
      "activation_2 (Activation)    (None, 16, 16, 64)        0         \n",
      "_________________________________________________________________\n",
      "conv2d_3 (Conv2D)            (None, 16, 16, 64)        36928     \n",
      "_________________________________________________________________\n",
      "activation_3 (Activation)    (None, 16, 16, 64)        0         \n",
      "_________________________________________________________________\n",
      "activation_4 (Activation)    (None, 16, 16, 64)        0         \n",
      "_________________________________________________________________\n",
      "max_pooling2d_1 (MaxPooling2 (None, 8, 8, 64)          0         \n",
      "_________________________________________________________________\n",
      "conv2d_4 (Conv2D)            (None, 8, 8, 128)         73856     \n",
      "_________________________________________________________________\n",
      "batch_normalization_3 (Batch (None, 8, 8, 128)         512       \n",
      "_________________________________________________________________\n",
      "activation_5 (Activation)    (None, 8, 8, 128)         0         \n",
      "_________________________________________________________________\n",
      "conv2d_5 (Conv2D)            (None, 8, 8, 128)         147584    \n",
      "_________________________________________________________________\n",
      "batch_normalization_4 (Batch (None, 8, 8, 128)         512       \n",
      "_________________________________________________________________\n",
      "activation_6 (Activation)    (None, 8, 8, 128)         0         \n",
      "_________________________________________________________________\n",
      "max_pooling2d_2 (MaxPooling2 (None, 4, 4, 128)         0         \n",
      "_________________________________________________________________\n",
      "flatten (Flatten)            (None, 2048)              0         \n",
      "_________________________________________________________________\n",
      "dropout (Dropout)            (None, 2048)              0         \n",
      "_________________________________________________________________\n",
      "fc1 (Dense)                  (None, 300)               614700    \n",
      "_________________________________________________________________\n",
      "dropout_1 (Dropout)          (None, 300)               0         \n",
      "_________________________________________________________________\n",
      "output (Dense)               (None, 10)                3010      \n",
      "=================================================================\n",
      "Total params: 906,254\n",
      "Trainable params: 905,486\n",
      "Non-trainable params: 768\n",
      "_________________________________________________________________\n"
     ]
    }
   ],
   "source": [
    "from tensorflow.keras.models import Model\n",
    "from tensorflow.keras.layers import Input, Dense, Conv2D, Dropout, Flatten, Activation, MaxPooling2D\n",
    "from tensorflow.keras.optimizers import Adam\n",
    "from tensorflow.keras.layers import BatchNormalization\n",
    "\n",
    "IMAGE_SIZE=32\n",
    "\n",
    "input_tensor = Input(shape=(IMAGE_SIZE, IMAGE_SIZE, 3))\n",
    "\n",
    "x = Conv2D(filters=32, kernel_size=(3, 3), padding='same')(input_tensor)\n",
    "x = BatchNormalization()(x)\n",
    "x = Activation('relu')(x)\n",
    "\n",
    "x = Conv2D(filters=32, kernel_size=(3, 3), padding='same')(x)\n",
    "x = BatchNormalization()(x)\n",
    "x = Activation('relu')(x)\n",
    "x = MaxPooling2D(pool_size=(2, 2))(x)\n",
    "\n",
    "x = Conv2D(filters=64, kernel_size=3, padding='same')(x)\n",
    "x = BatchNormalization()(x)\n",
    "x = Activation('relu')(x)\n",
    "\n",
    "x = Conv2D(filters=64, kernel_size=3, padding='same')(x)\n",
    "x = Activation('relu')(x)\n",
    "x = Activation('relu')(x)\n",
    "x = MaxPooling2D(pool_size=2)(x)\n",
    "\n",
    "x = Conv2D(filters=128, kernel_size=3, padding='same')(x)\n",
    "x = BatchNormalization()(x)\n",
    "x = Activation('relu')(x)\n",
    "\n",
    "x = Conv2D(filters=128, kernel_size=3, padding='same')(x)\n",
    "x = BatchNormalization()(x)\n",
    "x = Activation('relu')(x)\n",
    "x = MaxPooling2D(pool_size=2)(x)\n",
    "\n",
    "x = Flatten(name='flatten')(x)\n",
    "x = Dropout(rate=0.5)(x)\n",
    "x = Dense(300, activation='relu', name='fc1')(x)\n",
    "x = Dropout(rate=0.3)(x)\n",
    "output = Dense(10, activation='softmax', name='output')(x)\n",
    "\n",
    "model = Model(inputs=input_tensor, outputs=output)\n",
    "\n",
    "model.summary()"
   ]
  },
  {
   "cell_type": "code",
   "execution_count": 11,
   "id": "59c92ecc",
   "metadata": {
    "scrolled": true
   },
   "outputs": [
    {
     "name": "stderr",
     "output_type": "stream",
     "text": [
      "2021-08-16 20:19:55.455405: I tensorflow/compiler/mlir/mlir_graph_optimization_pass.cc:176] None of the MLIR Optimization Passes are enabled (registered 2)\n",
      "2021-08-16 20:19:55.459459: W tensorflow/core/platform/profile_utils/cpu_utils.cc:128] Failed to get CPU frequency: 0 Hz\n"
     ]
    },
    {
     "name": "stdout",
     "output_type": "stream",
     "text": [
      "Epoch 1/30\n"
     ]
    },
    {
     "name": "stderr",
     "output_type": "stream",
     "text": [
      "2021-08-16 20:19:55.734995: I tensorflow/core/grappler/optimizers/custom_graph_optimizer_registry.cc:112] Plugin optimizer for device_type GPU is enabled.\n"
     ]
    },
    {
     "name": "stdout",
     "output_type": "stream",
     "text": [
      "665/665 [==============================] - ETA: 0s - loss: 1.5529 - accuracy: 0.4384"
     ]
    },
    {
     "name": "stderr",
     "output_type": "stream",
     "text": [
      "2021-08-16 20:20:21.184456: I tensorflow/core/grappler/optimizers/custom_graph_optimizer_registry.cc:112] Plugin optimizer for device_type GPU is enabled.\n"
     ]
    },
    {
     "name": "stdout",
     "output_type": "stream",
     "text": [
      "665/665 [==============================] - 27s 36ms/step - loss: 1.5529 - accuracy: 0.4384 - val_loss: 1.3151 - val_accuracy: 0.5095\n",
      "Epoch 2/30\n",
      "665/665 [==============================] - 22s 34ms/step - loss: 1.1012 - accuracy: 0.6083 - val_loss: 1.0479 - val_accuracy: 0.6259\n",
      "Epoch 3/30\n",
      "665/665 [==============================] - 23s 35ms/step - loss: 0.9040 - accuracy: 0.6824 - val_loss: 1.0920 - val_accuracy: 0.6077\n",
      "Epoch 4/30\n",
      "665/665 [==============================] - 24s 36ms/step - loss: 0.7935 - accuracy: 0.7246 - val_loss: 0.9155 - val_accuracy: 0.6801\n",
      "Epoch 5/30\n",
      "665/665 [==============================] - 22s 33ms/step - loss: 0.7072 - accuracy: 0.7546 - val_loss: 0.7603 - val_accuracy: 0.7368\n",
      "Epoch 6/30\n",
      "665/665 [==============================] - 22s 32ms/step - loss: 0.6352 - accuracy: 0.7801 - val_loss: 0.8016 - val_accuracy: 0.7321\n",
      "Epoch 7/30\n",
      "665/665 [==============================] - 22s 32ms/step - loss: 0.5841 - accuracy: 0.7993 - val_loss: 0.6631 - val_accuracy: 0.7759\n",
      "Epoch 8/30\n",
      "665/665 [==============================] - 22s 32ms/step - loss: 0.5261 - accuracy: 0.8177 - val_loss: 0.6650 - val_accuracy: 0.7724\n",
      "Epoch 9/30\n",
      "665/665 [==============================] - 22s 32ms/step - loss: 0.4888 - accuracy: 0.8337 - val_loss: 0.6563 - val_accuracy: 0.7799\n",
      "Epoch 10/30\n",
      "665/665 [==============================] - 22s 32ms/step - loss: 0.4475 - accuracy: 0.8442 - val_loss: 0.6266 - val_accuracy: 0.7852\n",
      "Epoch 11/30\n",
      "665/665 [==============================] - 22s 32ms/step - loss: 0.4304 - accuracy: 0.8536 - val_loss: 0.7040 - val_accuracy: 0.7801\n",
      "Epoch 12/30\n",
      "665/665 [==============================] - 22s 32ms/step - loss: 0.3810 - accuracy: 0.8678 - val_loss: 0.5627 - val_accuracy: 0.8164\n",
      "Epoch 13/30\n",
      "665/665 [==============================] - 22s 32ms/step - loss: 0.3536 - accuracy: 0.8780 - val_loss: 0.7022 - val_accuracy: 0.7932\n",
      "Epoch 14/30\n",
      "665/665 [==============================] - 22s 33ms/step - loss: 0.3246 - accuracy: 0.8887 - val_loss: 0.6107 - val_accuracy: 0.8133\n",
      "Epoch 15/30\n",
      "665/665 [==============================] - 22s 32ms/step - loss: 0.3101 - accuracy: 0.8928 - val_loss: 0.6051 - val_accuracy: 0.8087\n",
      "Epoch 16/30\n",
      "665/665 [==============================] - 22s 32ms/step - loss: 0.2829 - accuracy: 0.9023 - val_loss: 0.6280 - val_accuracy: 0.8017\n",
      "Epoch 17/30\n",
      "665/665 [==============================] - 22s 33ms/step - loss: 0.2659 - accuracy: 0.9087 - val_loss: 0.6463 - val_accuracy: 0.8108\n",
      "Epoch 18/30\n",
      "665/665 [==============================] - 21s 32ms/step - loss: 0.2549 - accuracy: 0.9132 - val_loss: 0.6289 - val_accuracy: 0.8119\n",
      "Epoch 19/30\n",
      "665/665 [==============================] - 21s 32ms/step - loss: 0.2280 - accuracy: 0.9222 - val_loss: 0.7022 - val_accuracy: 0.8065\n",
      "Epoch 20/30\n",
      "665/665 [==============================] - 21s 32ms/step - loss: 0.2158 - accuracy: 0.9253 - val_loss: 0.6331 - val_accuracy: 0.8220\n",
      "Epoch 21/30\n",
      "665/665 [==============================] - 22s 32ms/step - loss: 0.1971 - accuracy: 0.9321 - val_loss: 0.6253 - val_accuracy: 0.8172\n",
      "Epoch 22/30\n",
      "665/665 [==============================] - 21s 32ms/step - loss: 0.1983 - accuracy: 0.9319 - val_loss: 0.7064 - val_accuracy: 0.8115\n",
      "Epoch 23/30\n",
      "665/665 [==============================] - 22s 32ms/step - loss: 0.1929 - accuracy: 0.9335 - val_loss: 0.6722 - val_accuracy: 0.8348\n",
      "Epoch 24/30\n",
      "665/665 [==============================] - 21s 32ms/step - loss: 0.1691 - accuracy: 0.9417 - val_loss: 0.6120 - val_accuracy: 0.8296\n",
      "Epoch 25/30\n",
      "665/665 [==============================] - 21s 32ms/step - loss: 0.1728 - accuracy: 0.9401 - val_loss: 0.8058 - val_accuracy: 0.8001\n",
      "Epoch 26/30\n",
      "665/665 [==============================] - 22s 32ms/step - loss: 0.1493 - accuracy: 0.9491 - val_loss: 0.6562 - val_accuracy: 0.8292\n",
      "Epoch 27/30\n",
      "665/665 [==============================] - 22s 32ms/step - loss: 0.1514 - accuracy: 0.9483 - val_loss: 0.7442 - val_accuracy: 0.8127\n",
      "Epoch 28/30\n",
      "665/665 [==============================] - 22s 32ms/step - loss: 0.1442 - accuracy: 0.9497 - val_loss: 0.8140 - val_accuracy: 0.8047\n",
      "Epoch 29/30\n",
      "665/665 [==============================] - 22s 32ms/step - loss: 0.1524 - accuracy: 0.9473 - val_loss: 0.6712 - val_accuracy: 0.8291\n",
      "Epoch 30/30\n",
      "665/665 [==============================] - 21s 32ms/step - loss: 0.1379 - accuracy: 0.9528 - val_loss: 0.6719 - val_accuracy: 0.8377\n"
     ]
    }
   ],
   "source": [
    "model.compile(optimizer=Adam(), loss='categorical_crossentropy', metrics=['accuracy'])\n",
    "history = model.fit(x=train_images, y=train_oh_labels, batch_size=64, epochs=30, validation_split=0.15)"
   ]
  },
  {
   "cell_type": "code",
   "execution_count": 12,
   "id": "87fee0f0",
   "metadata": {},
   "outputs": [
    {
     "name": "stdout",
     "output_type": "stream",
     "text": [
      "313/313 [==============================] - 3s 10ms/step - loss: 0.6724 - accuracy: 0.8315\n"
     ]
    },
    {
     "data": {
      "text/plain": [
       "[0.6723729968070984, 0.8315000534057617]"
      ]
     },
     "execution_count": 12,
     "metadata": {},
     "output_type": "execute_result"
    }
   ],
   "source": [
    "model.evaluate(test_images, test_oh_labels)"
   ]
  },
  {
   "cell_type": "markdown",
   "id": "942e6103",
   "metadata": {},
   "source": [
    "### Applying he normal initialization as the above model"
   ]
  },
  {
   "cell_type": "code",
   "execution_count": 13,
   "id": "7cdd8629",
   "metadata": {},
   "outputs": [
    {
     "name": "stdout",
     "output_type": "stream",
     "text": [
      "Model: \"model_1\"\n",
      "_________________________________________________________________\n",
      "Layer (type)                 Output Shape              Param #   \n",
      "=================================================================\n",
      "input_2 (InputLayer)         [(None, 32, 32, 3)]       0         \n",
      "_________________________________________________________________\n",
      "conv2d_6 (Conv2D)            (None, 32, 32, 32)        896       \n",
      "_________________________________________________________________\n",
      "batch_normalization_5 (Batch (None, 32, 32, 32)        128       \n",
      "_________________________________________________________________\n",
      "activation_7 (Activation)    (None, 32, 32, 32)        0         \n",
      "_________________________________________________________________\n",
      "conv2d_7 (Conv2D)            (None, 32, 32, 32)        9248      \n",
      "_________________________________________________________________\n",
      "batch_normalization_6 (Batch (None, 32, 32, 32)        128       \n",
      "_________________________________________________________________\n",
      "activation_8 (Activation)    (None, 32, 32, 32)        0         \n",
      "_________________________________________________________________\n",
      "max_pooling2d_3 (MaxPooling2 (None, 16, 16, 32)        0         \n",
      "_________________________________________________________________\n",
      "conv2d_8 (Conv2D)            (None, 16, 16, 64)        18496     \n",
      "_________________________________________________________________\n",
      "batch_normalization_7 (Batch (None, 16, 16, 64)        256       \n",
      "_________________________________________________________________\n",
      "activation_9 (Activation)    (None, 16, 16, 64)        0         \n",
      "_________________________________________________________________\n",
      "conv2d_9 (Conv2D)            (None, 16, 16, 64)        36928     \n",
      "_________________________________________________________________\n",
      "activation_10 (Activation)   (None, 16, 16, 64)        0         \n",
      "_________________________________________________________________\n",
      "activation_11 (Activation)   (None, 16, 16, 64)        0         \n",
      "_________________________________________________________________\n",
      "max_pooling2d_4 (MaxPooling2 (None, 8, 8, 64)          0         \n",
      "_________________________________________________________________\n",
      "conv2d_10 (Conv2D)           (None, 8, 8, 128)         73856     \n",
      "_________________________________________________________________\n",
      "batch_normalization_8 (Batch (None, 8, 8, 128)         512       \n",
      "_________________________________________________________________\n",
      "activation_12 (Activation)   (None, 8, 8, 128)         0         \n",
      "_________________________________________________________________\n",
      "conv2d_11 (Conv2D)           (None, 8, 8, 128)         147584    \n",
      "_________________________________________________________________\n",
      "batch_normalization_9 (Batch (None, 8, 8, 128)         512       \n",
      "_________________________________________________________________\n",
      "activation_13 (Activation)   (None, 8, 8, 128)         0         \n",
      "_________________________________________________________________\n",
      "max_pooling2d_5 (MaxPooling2 (None, 4, 4, 128)         0         \n",
      "_________________________________________________________________\n",
      "flatten (Flatten)            (None, 2048)              0         \n",
      "_________________________________________________________________\n",
      "dropout_2 (Dropout)          (None, 2048)              0         \n",
      "_________________________________________________________________\n",
      "fc1 (Dense)                  (None, 300)               614700    \n",
      "_________________________________________________________________\n",
      "dropout_3 (Dropout)          (None, 300)               0         \n",
      "_________________________________________________________________\n",
      "output (Dense)               (None, 10)                3010      \n",
      "=================================================================\n",
      "Total params: 906,254\n",
      "Trainable params: 905,486\n",
      "Non-trainable params: 768\n",
      "_________________________________________________________________\n"
     ]
    }
   ],
   "source": [
    "input_tensor = Input(shape=(IMAGE_SIZE, IMAGE_SIZE, 3))\n",
    "\n",
    "x = Conv2D(filters=32, kernel_size=(3, 3), padding='same', kernel_initializer='he_normal')(input_tensor)\n",
    "x = BatchNormalization()(x)\n",
    "x = Activation('relu')(x)\n",
    "\n",
    "x = Conv2D(filters=32, kernel_size=(3, 3), padding='same', kernel_initializer='he_normal')(x)\n",
    "x = BatchNormalization()(x)\n",
    "x = Activation('relu')(x)\n",
    "x = MaxPooling2D(pool_size=(2, 2))(x)\n",
    "\n",
    "x = Conv2D(filters=64, kernel_size=3, padding='same', kernel_initializer='he_normal')(x)\n",
    "x = BatchNormalization()(x)\n",
    "x = Activation('relu')(x)\n",
    "\n",
    "x = Conv2D(filters=64, kernel_size=3, padding='same', kernel_initializer='he_normal')(x)\n",
    "x = Activation('relu')(x)\n",
    "x = Activation('relu')(x)\n",
    "x = MaxPooling2D(pool_size=2)(x)\n",
    "\n",
    "x = Conv2D(filters=128, kernel_size=3, padding='same', kernel_initializer='he_normal')(x)\n",
    "x = BatchNormalization()(x)\n",
    "x = Activation('relu')(x)\n",
    "\n",
    "x = Conv2D(filters=128, kernel_size=3, padding='same', kernel_initializer='he_normal')(x)\n",
    "x = BatchNormalization()(x)\n",
    "x = Activation('relu')(x)\n",
    "x = MaxPooling2D(pool_size=2)(x)\n",
    "\n",
    "x = Flatten(name='flatten')(x)\n",
    "x = Dropout(rate=0.5)(x)\n",
    "x = Dense(300, activation='relu', name='fc1')(x)\n",
    "x = Dropout(rate=0.3)(x)\n",
    "output = Dense(10, activation='softmax', name='output')(x)\n",
    "\n",
    "model = Model(inputs=input_tensor, outputs=output)\n",
    "\n",
    "model.summary()"
   ]
  },
  {
   "cell_type": "code",
   "execution_count": 14,
   "id": "4bfce3ac",
   "metadata": {
    "scrolled": true
   },
   "outputs": [
    {
     "name": "stdout",
     "output_type": "stream",
     "text": [
      "Epoch 1/30\n",
      "  1/665 [..............................] - ETA: 4:21 - loss: 3.9104 - accuracy: 0.1250"
     ]
    },
    {
     "name": "stderr",
     "output_type": "stream",
     "text": [
      "2021-08-16 20:37:47.618973: I tensorflow/core/grappler/optimizers/custom_graph_optimizer_registry.cc:112] Plugin optimizer for device_type GPU is enabled.\n"
     ]
    },
    {
     "name": "stdout",
     "output_type": "stream",
     "text": [
      "664/665 [============================>.] - ETA: 0s - loss: 1.6178 - accuracy: 0.4173"
     ]
    },
    {
     "name": "stderr",
     "output_type": "stream",
     "text": [
      "2021-08-16 20:38:09.528761: I tensorflow/core/grappler/optimizers/custom_graph_optimizer_registry.cc:112] Plugin optimizer for device_type GPU is enabled.\n"
     ]
    },
    {
     "name": "stdout",
     "output_type": "stream",
     "text": [
      "665/665 [==============================] - 23s 35ms/step - loss: 1.6179 - accuracy: 0.4173 - val_loss: 1.5891 - val_accuracy: 0.4444\n",
      "Epoch 2/30\n",
      "665/665 [==============================] - 24s 36ms/step - loss: 1.1757 - accuracy: 0.5790 - val_loss: 1.5767 - val_accuracy: 0.4759\n",
      "Epoch 3/30\n",
      "665/665 [==============================] - 24s 36ms/step - loss: 0.9674 - accuracy: 0.6568 - val_loss: 1.1596 - val_accuracy: 0.5989\n",
      "Epoch 4/30\n",
      "665/665 [==============================] - 24s 36ms/step - loss: 0.8370 - accuracy: 0.7072 - val_loss: 0.9777 - val_accuracy: 0.6688\n",
      "Epoch 5/30\n",
      "665/665 [==============================] - 24s 36ms/step - loss: 0.7480 - accuracy: 0.7381 - val_loss: 1.2911 - val_accuracy: 0.6257\n",
      "Epoch 6/30\n",
      "665/665 [==============================] - 24s 36ms/step - loss: 0.6868 - accuracy: 0.7625 - val_loss: 0.7345 - val_accuracy: 0.7451\n",
      "Epoch 7/30\n",
      "665/665 [==============================] - 24s 36ms/step - loss: 0.6284 - accuracy: 0.7803 - val_loss: 0.7900 - val_accuracy: 0.7361\n",
      "Epoch 8/30\n",
      "665/665 [==============================] - 24s 36ms/step - loss: 0.5675 - accuracy: 0.8032 - val_loss: 0.6908 - val_accuracy: 0.7716\n",
      "Epoch 9/30\n",
      "665/665 [==============================] - 24s 36ms/step - loss: 0.5180 - accuracy: 0.8177 - val_loss: 0.7225 - val_accuracy: 0.7592\n",
      "Epoch 10/30\n",
      "665/665 [==============================] - 24s 36ms/step - loss: 0.4808 - accuracy: 0.8326 - val_loss: 0.6176 - val_accuracy: 0.7981\n",
      "Epoch 11/30\n",
      "665/665 [==============================] - 23s 34ms/step - loss: 0.4372 - accuracy: 0.8494 - val_loss: 0.7214 - val_accuracy: 0.7589\n",
      "Epoch 12/30\n",
      "665/665 [==============================] - 22s 33ms/step - loss: 0.4088 - accuracy: 0.8580 - val_loss: 0.5709 - val_accuracy: 0.8089\n",
      "Epoch 13/30\n",
      "665/665 [==============================] - 22s 33ms/step - loss: 0.3779 - accuracy: 0.8693 - val_loss: 0.7254 - val_accuracy: 0.7793\n",
      "Epoch 14/30\n",
      "665/665 [==============================] - 22s 33ms/step - loss: 0.3666 - accuracy: 0.8725 - val_loss: 0.5757 - val_accuracy: 0.8149\n",
      "Epoch 15/30\n",
      "665/665 [==============================] - 23s 34ms/step - loss: 0.3209 - accuracy: 0.8894 - val_loss: 0.6096 - val_accuracy: 0.8077\n",
      "Epoch 16/30\n",
      "665/665 [==============================] - 24s 36ms/step - loss: 0.3060 - accuracy: 0.8923 - val_loss: 0.6082 - val_accuracy: 0.8159\n",
      "Epoch 17/30\n",
      "665/665 [==============================] - 24s 36ms/step - loss: 0.2839 - accuracy: 0.9013 - val_loss: 0.9127 - val_accuracy: 0.7483\n",
      "Epoch 18/30\n",
      "665/665 [==============================] - 24s 36ms/step - loss: 0.2699 - accuracy: 0.9067 - val_loss: 0.8002 - val_accuracy: 0.7827\n",
      "Epoch 19/30\n",
      "665/665 [==============================] - 24s 36ms/step - loss: 0.2373 - accuracy: 0.9181 - val_loss: 0.6763 - val_accuracy: 0.8023\n",
      "Epoch 20/30\n",
      "665/665 [==============================] - 24s 36ms/step - loss: 0.2266 - accuracy: 0.9199 - val_loss: 0.6636 - val_accuracy: 0.8171\n",
      "Epoch 21/30\n",
      "665/665 [==============================] - 22s 33ms/step - loss: 0.2148 - accuracy: 0.9257 - val_loss: 0.6718 - val_accuracy: 0.8088\n",
      "Epoch 22/30\n",
      "665/665 [==============================] - 23s 34ms/step - loss: 0.2033 - accuracy: 0.9285 - val_loss: 0.6759 - val_accuracy: 0.8164\n",
      "Epoch 23/30\n",
      "665/665 [==============================] - 22s 33ms/step - loss: 0.1964 - accuracy: 0.9321 - val_loss: 0.6585 - val_accuracy: 0.8221\n",
      "Epoch 24/30\n",
      "665/665 [==============================] - 22s 33ms/step - loss: 0.1762 - accuracy: 0.9397 - val_loss: 0.6849 - val_accuracy: 0.8152\n",
      "Epoch 25/30\n",
      "665/665 [==============================] - 22s 33ms/step - loss: 0.1748 - accuracy: 0.9405 - val_loss: 0.7625 - val_accuracy: 0.8148\n",
      "Epoch 26/30\n",
      "665/665 [==============================] - 22s 33ms/step - loss: 0.1663 - accuracy: 0.9428 - val_loss: 0.9438 - val_accuracy: 0.7849\n",
      "Epoch 27/30\n",
      "665/665 [==============================] - 22s 34ms/step - loss: 0.1786 - accuracy: 0.9385 - val_loss: 0.6844 - val_accuracy: 0.8212\n",
      "Epoch 28/30\n",
      "665/665 [==============================] - 23s 34ms/step - loss: 0.1439 - accuracy: 0.9509 - val_loss: 0.8231 - val_accuracy: 0.8084\n",
      "Epoch 29/30\n",
      "665/665 [==============================] - 23s 35ms/step - loss: 0.1445 - accuracy: 0.9500 - val_loss: 0.8542 - val_accuracy: 0.8020\n",
      "Epoch 30/30\n",
      "665/665 [==============================] - 24s 36ms/step - loss: 0.1369 - accuracy: 0.9529 - val_loss: 0.8000 - val_accuracy: 0.8093\n"
     ]
    }
   ],
   "source": [
    "model.compile(optimizer=Adam(), loss='categorical_crossentropy', metrics=['accuracy'])\n",
    "history = model.fit(x=train_images, y=train_oh_labels, batch_size=64, epochs=30, validation_split=0.15)"
   ]
  },
  {
   "cell_type": "code",
   "execution_count": 15,
   "id": "ab90c6ee",
   "metadata": {},
   "outputs": [
    {
     "name": "stdout",
     "output_type": "stream",
     "text": [
      "157/157 [==============================] - 2s 11ms/step - loss: 0.8168 - accuracy: 0.8084\n"
     ]
    },
    {
     "data": {
      "text/plain": [
       "[0.8168178200721741, 0.80840003490448]"
      ]
     },
     "execution_count": 15,
     "metadata": {},
     "output_type": "execute_result"
    }
   ],
   "source": [
    "model.evaluate(test_images, test_oh_labels, batch_size=64)"
   ]
  },
  {
   "cell_type": "code",
   "execution_count": null,
   "id": "6c86d793",
   "metadata": {},
   "outputs": [],
   "source": []
  }
 ],
 "metadata": {
  "kernelspec": {
   "display_name": "Python 3 (ipykernel)",
   "language": "python",
   "name": "python3"
  },
  "language_info": {
   "codemirror_mode": {
    "name": "ipython",
    "version": 3
   },
   "file_extension": ".py",
   "mimetype": "text/x-python",
   "name": "python",
   "nbconvert_exporter": "python",
   "pygments_lexer": "ipython3",
   "version": "3.9.5"
  }
 },
 "nbformat": 4,
 "nbformat_minor": 5
}
